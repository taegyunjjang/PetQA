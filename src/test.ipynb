{
 "cells": [
  {
   "cell_type": "code",
   "execution_count": 77,
   "metadata": {},
   "outputs": [
    {
     "name": "stdout",
     "output_type": "stream",
     "text": [
      "=== 테스트셋 로딩 ===\n",
      "테스트셋에서 10000개의 (q_id, a_id) 쌍을 로드했습니다.\n",
      "\n",
      "=== 원본 데이터 로딩 ===\n",
      "원본 데이터에서 61825개의 질문을 로드했습니다.\n",
      "\n",
      "=== DPO 선호도 쌍 생성 ===\n",
      "테스트셋과 중복되어 제외된 답변 수: 10000개\n",
      "\n",
      "=== 선호도 쌍 생성 결과 ===\n",
      "총 쌍 개수: 19,744개\n",
      "관련 질문 수: 14,312개\n",
      "평균 질문당 쌍 수: 1.38개\n",
      "\n",
      "=== 쌍 유형별 분포 ===\n",
      "채택된 전문가 vs 채택되지 않은 전문가: 0개\n",
      "채택된 전문가 vs 채택되지 않은 일반인: 1,907개\n",
      "채택된 일반인 vs 채택되지 않은 전문가: 133개\n",
      "채택된 일반인 vs 채택되지 않은 일반인: 17,704개\n",
      "\n",
      "결과가 ./dpo_preference_pairs.json에 저장되었습니다.\n"
     ]
    }
   ],
   "source": []
  },
  {
   "cell_type": "code",
   "execution_count": 78,
   "metadata": {},
   "outputs": [
    {
     "name": "stdout",
     "output_type": "stream",
     "text": [
      "로딩 중: /home/work/factchecking/PetQA/data/processed/train.json\n",
      "  - 35380개 샘플 로드 완료\n",
      "로딩 중: /home/work/factchecking/PetQA/data/processed/validation.json\n",
      "  - 10000개 샘플 로드 완료\n",
      "총 45380개의 전처리 정보를 로드했습니다.\n",
      "16435개의 답변에 대해 전처리 정보를 찾았습니다.\n",
      "\n",
      "전처리 정보가 추가된 선호도 쌍: 19744개\n"
     ]
    }
   ],
   "source": []
  },
  {
   "cell_type": "code",
   "execution_count": 79,
   "metadata": {},
   "outputs": [
    {
     "name": "stdout",
     "output_type": "stream",
     "text": [
      "=== preprocessed_question 필터링 ===\n",
      "빈 preprocessed_question으로 인해 제거된 샘플: 3309개\n",
      "필터링 후 남은 샘플: 16435개\n",
      "원본 샘플 수: 19,744개\n",
      "필터링 후 샘플 수: 16,435개\n",
      "제거율: 16.76%\n",
      "\n",
      "필터링된 결과가 ./dpo_preference_pairs_filtered.json에 저장되었습니다.\n"
     ]
    }
   ],
   "source": []
  },
  {
   "cell_type": "code",
   "execution_count": 72,
   "metadata": {},
   "outputs": [
    {
     "name": "stdout",
     "output_type": "stream",
     "text": [
      "3.886217948717949\n",
      "7.113381410256411\n",
      "3.9915865384615383\n"
     ]
    }
   ],
   "source": [
    "import json\n",
    "\n",
    "\n",
    "file_path = \"/home/work/factchecking/PetQA/outputs/results/atomic_facts/output_exaone-3.5-7.8b_0_preprocessed_E.json\"\n",
    "with open(file_path, 'r') as f:\n",
    "    data = json.load(f)\n",
    "\n",
    "expert_data_E = [item for item in data if item['answer_type'] == 'expert']\n",
    "expert_answer_len_E = [item['facts_count_predicted_answer'] for item in expert_data_E]\n",
    "\n",
    "file_path = \"/home/work/factchecking/PetQA/outputs/results/atomic_facts/output_exaone-3.5-7.8b_6_preprocessed.json\"\n",
    "with open(file_path, 'r') as f:\n",
    "    data = json.load(f)\n",
    "    \n",
    "expert_data_base = [item for item in data if item['answer_type'] == 'expert']\n",
    "expert_answer_len_base = [item['facts_count_predicted_answer'] for item in expert_data_base]\n",
    "reference_answer_len_base = [item['facts_count_reference_answer'] for item in expert_data_base]\n",
    "\n",
    "print(sum(expert_answer_len_E) / len(expert_data_E))\n",
    "print(sum(expert_answer_len_base) / len(expert_data_base))\n",
    "print(sum(reference_answer_len_base) / len(expert_data_base))"
   ]
  },
  {
   "cell_type": "code",
   "execution_count": 3,
   "metadata": {},
   "outputs": [
    {
     "name": "stdout",
     "output_type": "stream",
     "text": [
      "{'dog-nonexpert': 4541, 'cat-nonexpert': 2963, 'dog-expert': 2083, 'cat-expert': 413}\n"
     ]
    }
   ],
   "source": [
    "import json\n",
    "\n",
    "file_path = \"/home/work/factchecking/PetQA/outputs/results/atomic_facts/output_gpt-4o-mini_3_preprocessed.json\"\n",
    "with open(file_path, \"r\") as f:\n",
    "    data = json.load(f)\n",
    "\n",
    "category_cnt = {}\n",
    "for item in data:\n",
    "    category = f\"{item['animal_type']}-{item['answer_type']}\"\n",
    "    if category not in category_cnt:\n",
    "        category_cnt[category] = 0\n",
    "    category_cnt[category] += 1\n",
    "print(category_cnt)"
   ]
  },
  {
   "cell_type": "code",
   "execution_count": 62,
   "metadata": {},
   "outputs": [
    {
     "name": "stdout",
     "output_type": "stream",
     "text": [
      "Category: dog-expert\n",
      "  Factuality: 0.472\n",
      "Category: dog-nonexpert\n",
      "  Factuality: 0.402\n",
      "Category: cat-expert\n",
      "  Factuality: 0.477\n",
      "Category: cat-nonexpert\n",
      "  Factuality: 0.382\n"
     ]
    }
   ],
   "source": [
    "import json\n",
    "import os\n",
    "\n",
    "eval_dir = \"/home/work/factchecking/PetQA/outputs/results/atomic_facts\"\n",
    "file_path = os.path.join(eval_dir, \"output_gpt-4o-mini_3_preprocessed.json\")\n",
    "with open(file_path, \"r\") as f:\n",
    "    data = json.load(f)\n",
    "\n",
    "unique_categories = [(\"dog\", \"expert\"), (\"dog\", \"nonexpert\"), (\"cat\", \"expert\"), (\"cat\", \"nonexpert\")]\n",
    "for animal_type, answer_type in unique_categories:\n",
    "    category = f\"{animal_type}-{answer_type}\"\n",
    "    print(f\"Category: {category}\")\n",
    "    \n",
    "    filtered_responses = [item for item in data \n",
    "                            if item[\"animal_type\"] == animal_type and item[\"answer_type\"] == answer_type]\n",
    "    \n",
    "    category_f1_scores = []\n",
    "    for response in filtered_responses:\n",
    "        precision = response[\"support_predicted_answer\"] / response[\"facts_count_predicted_answer\"] if response[\"facts_count_predicted_answer\"] > 0 else 0\n",
    "        recall = response[\"support_reference_answer\"] / response[\"facts_count_reference_answer\"] if response[\"facts_count_reference_answer\"] > 0 else 0\n",
    "        f1_score = 2 * precision * recall / (precision + recall) if precision + recall > 0 else 0\n",
    "        category_f1_scores.append(f1_score)\n",
    "    avg_f1_score = (sum(category_f1_scores) / len(category_f1_scores))\n",
    "    print(f\"  Factuality: {avg_f1_score:.3f}\")\n",
    "    "
   ]
  },
  {
   "cell_type": "code",
   "execution_count": null,
   "metadata": {},
   "outputs": [],
   "source": []
  },
  {
   "cell_type": "code",
   "execution_count": 42,
   "metadata": {},
   "outputs": [
    {
     "name": "stdout",
     "output_type": "stream",
     "text": [
      "9818\n"
     ]
    }
   ],
   "source": [
    "import json\n",
    "\n",
    "file_path = \"/home/work/factchecking/PetQA/outputs/results/generated_answers/output_gemini-2.0-flash_6_raw.json\"\n",
    "with open(file_path, \"r\") as f:\n",
    "    data = json.load(f)\n",
    "print(len(data))"
   ]
  },
  {
   "cell_type": "code",
   "execution_count": null,
   "metadata": {},
   "outputs": [],
   "source": []
  },
  {
   "cell_type": "code",
   "execution_count": 2,
   "metadata": {},
   "outputs": [],
   "source": [
    "import json\n",
    "import tiktoken\n",
    "import numpy as np\n",
    "\n",
    "def count_chat_tokens(messages):\n",
    "    encoding = tiktoken.encoding_for_model('gpt-4o-mini')\n",
    "    tokens_per_message = 3  # role + content + 구조적 오버헤드\n",
    "    tokens_per_name = 1     # name 필드\n",
    "\n",
    "    num_tokens = 0\n",
    "    for message in messages:\n",
    "        num_tokens += tokens_per_message\n",
    "        for key, value in message.items():\n",
    "            num_tokens += len(encoding.encode(value))\n",
    "            if key == \"name\":\n",
    "                num_tokens += tokens_per_name\n",
    "    num_tokens += 3  # assistant 응답 시작 오버헤드\n",
    "    return num_tokens\n",
    "\n",
    "def count_output_tokens(output_dict):\n",
    "    encoding = tiktoken.encoding_for_model('gpt-4o-mini')\n",
    "    json_string = json.dumps(output_dict, ensure_ascii=False)\n",
    "    return len(encoding.encode(json_string))"
   ]
  },
  {
   "cell_type": "code",
   "execution_count": 3,
   "metadata": {},
   "outputs": [],
   "source": [
    "prompt = \"\"\"\n",
    "입력으로 질문, 참조 답변, 예측 답변을 받게 됩니다.\n",
    "다음 단계에 따라 예측 답변을 참조 답변과 비교하여 정확성을 확인하세요:\n",
    "1. 예측 답변을 독립적인 사실들로 나눕니다. 각 독립적인 사실은 별도의 문장이어야 합니다.\n",
    "2. 각 독립적인 사실이 참조 답변에 의해 뒷받침되는지 개별적으로 평가합니다. 이때 추가적인 배경 지식을 사용하지 마세요.\n",
    "3. 다음으로, 참조 답변을 독립적인 사실들로 나눕니다. 각 독립적인 사실은 별도의 문장이어야 합니다.\n",
    "4. 각 독립적인 사실이 예측 답변에 의해 뒷받침되는지 개별적으로 평가합니다. 이때 추가적인 배경 지식을 사용하지 마세요.\n",
    "5. 마지막으로 (1.) 참조 답변에 의해 뒷받침되는 예측 사실의 수, (2.) 예측 답변에 의해 뒷받침되는 참조 사실의 수를 요약하세요.\n",
    "\n",
    "아래 예시를 참고하여 JSON 형식으로 출력하세요.\n",
    "\n",
    "### 예시\n",
    "질문: 강아지가 푸들인데 지금 6개월 되었습니다. 다른 이빨은 다 유치가 빠졌는데 송곳니만 아직 안 빠졌습니다. 흔들림도 전혀 없고, 영구치가 바로 옆에 또 나고 있는데 어떻게 해야 하나요?\n",
    "참조 답변: 강아지의 유치는 5~9개월 사이에 빠지는 것으로 알려져 있습니다. 10개월령까지 기다려 보셔도 괜찮을 것 같습니다. 10개월이 지났는데 빠지지 않는다면 병원에 내원하셔서 발치를 해야 합니다. 지금 시기에는 충분히 유치와 영구치가 같이 존재할 수 있는 시기이므로, 너무 걱정하지 마시고 조금 더 기다려 주시면 좋을 것 같습니다.\n",
    "예측 답변: 강아지의 송곳니가 아직 빠지지 않고 영구치가 나오는 경우는 종종 발생합니다. 이럴 때는 유치가 자연스럽게 빠지지 않을 수 있으므로, 송곳니가 흔들리지 않는다면 수의사에게 검진을 받는 것이 좋습니다. 수의사는 유치가 빠지지 않는 원인을 확인하고 필요시 제거할 수 있습니다. 방치할 경우 치아 배열에 문제가 생길 수 있으니 조기에 상담하는 것이 중요합니다.\n",
    "출력: \n",
    "{{\n",
    "    \"facts in predicted answer\": \"1. 강아지 송곳니가 빠지지 않고 영구치가 나오는 경우는 종종 발생합니다. 2. 유치가 자연스럽게 빠지지 않을 수 있습니다. 3. 송곳니가 흔들리지 않는다면 수의사에게 검진을 받는 것이 좋습니다. 4. 수의사는 유치가 빠지지 않는 원인을 확인하고 필요시 제거할 수 있습니다. 5. 방치할 경우 치아 배열에 문제가 생길 수 있으니 조기에 상담하는 것이 중요합니다.\",\n",
    "    \"fact check predicted answer\": \"1. 강아지 송곳니가 빠지지 않고 영구치가 나오는 경우는 종종 발생합니다. 참조 답변에서 '지금 시기에는 충분히 유치와 영구치가 같이 존재할 수 있는 시기'라고 언급되어 이 사실을 뒷받침합니다. 2. 유치가 자연스럽게 빠지지 않을 수 있습니다. 참조 답변에 이 내용이 직접적으로 언급되지는 않지만, '10개월이 지났는데 빠지지 않는다면 발치를 해야 한다'는 점에서 유추할 수 있습니다. 충분한 정보 없음. 3. 송곳니가 흔들리지 않는다면 수의사에게 검진을 받는 것이 좋습니다. 참조 답변에서 '10개월이 지났는데 빠지지 않는다면 병원에 내원하여 발치해야 한다'고 언급되어 이 사실을 뒷받침합니다. 4. 수의사는 유치가 빠지지 않는 원인을 확인하고 필요시 제거할 수 있습니다. 참조 답변에서 '발치를 해야 한다'고 언급되어 이 사실을 뒷받침합니다. 5. 방치할 경우 치아 배열에 문제가 생길 수 있으니 조기에 상담하는 것이 중요합니다. 참조 답변에서 유치를 방치했을 때 발생할 수 있는 문제에 대해 직접적으로 언급하지 않습니다. 충분한 정보 없음.\",\n",
    "    \"facts count predicted answer\": 5,\n",
    "    \"support predicted answer\": 3,\n",
    "    \"facts in reference answer\": \"1. 강아지 유치는 5~9개월 사이에 빠집니다. 2. 10개월령까지 기다려 볼 수 있습니다. 3. 10개월이 지나도 빠지지 않으면 병원에 내원하여 발치해야 합니다. 4. 지금 시기에는 유치와 영구치가 같이 존재할 수 있습니다. 5. 너무 걱정하지 말고 조금 더 기다려 주는 것이 좋습니다.\",\n",
    "    \"fact check reference answer\": \"1. 강아지 유치는 5~9개월 사이에 빠집니다. 예측 답변에서 이 시기에 대한 구체적인 언급은 없지만, 유치가 자연스럽게 빠지지 않을 수 있다는 전제를 통해 간접적으로 관련될 수 있습니다. 충분한 정보 없음. 2. 10개월령까지 기다려 볼 수 있습니다. 예측 답변에서 기다리는 것에 대한 직접적인 언급은 없으나, 흔들리지 않는다면 수의사 검진을 권유합니다. 충분한 정보 없음. 3. 10개월이 지나도 빠지지 않으면 병원에 내원하여 발치해야 합니다. 예측 답변에서 '수의사에게 검진을 받는 것이 좋다'고 언급하며 필요시 제거할 수 있다고 하여 이 사실을 뒷받침합니다. 4. 지금 시기에는 유치와 영구치가 같이 존재할 수 있습니다. 예측 답변에서 '송곳니가 아직 빠지지 않고 영구치가 나오는 경우는 종종 발생합니다'라고 언급하여 이 사실을 뒷받침합니다. 5. 너무 걱정하지 말고 조금 더 기다려 주는 것이 좋습니다. 예측 답변에서는 조기 상담을 강조하므로 이 사실과 상충될 수 있습니다. 충분한 정보 없음.\",\n",
    "    \"facts count reference answer\": 5,\n",
    "    \"support reference answer\": 2\n",
    "}}\n",
    "\n",
    "질문: 암컷 고양이를 키우고 있는데 중성화를 평생 안 하고 키워도 괜찮을까요?\n",
    "참조 답변: 강아지나 고양이는 수컷, 암컷 모두 중성화수술이 필요합니다. 수컷의 경우에는 행동장애와 전립선염, 전립선암, 항문선종과 같은 생식기질환을 예방하고 암컷은 생리와 유선종양, 자궁축농증, 난소종양과 같은 생식기질환을 예방할 수 있습니다. 생리불순인 상황에서는 위험성은 증가하므로 중성화수술이 더욱 중요하고 가출방지와 성격순화에도 도움이 됩니다. 일반적으로 중성화수술은 생후 7개월 전후로 시행합니다.\n",
    "예측 답변: 암컷 고양이를 중성화하지 않고 키우는 것은 여러 가지 위험을 동반할 수 있습니다. 첫째, 발정 주기가 반복되면서 스트레스를 받을 수 있습니다. 둘째, 비정상적인 행동이나 소음이 발생할 수 있습니다. 셋째, 중성화하지 않은 암컷 고양이는 자궁축농증이나 유선종양과 같은 건강 문제에 걸릴 확률이 높습니다. 따라서 중성화를 고려하는 것이 고양이의 건강과 복지를 위해 좋습니다.\n",
    "출력: \n",
    "{{\n",
    "    \"facts in predicted answer\": \"1. 암컷 고양이를 중성화하지 않고 키우는 것은 여러 가지 위험을 동반할 수 있습니다. 2. 발정 주기가 반복되면서 스트레스를 받을 수 있습니다. 3. 비정상적인 행동이나 소음이 발생할 수 있습니다. 4. 중성화하지 않은 암컷 고양이는 자궁축농증이나 유선종양과 같은 건강 문제에 걸릴 확률이 높습니다. 5. 중성화를 고려하는 것이 고양이의 건강과 복지를 위해 좋습니다.\",\n",
    "    \"fact check predicted answer\": \"1. 암컷 고양이를 중성화하지 않고 키우는 것은 여러 가지 위험을 동반할 수 있습니다. 참조 답변에서 암컷 중성화의 필요성을 언급하며 생식기 질환 예방을 통해 이 사실을 뒷받침합니다. 2. 발정 주기가 반복되면서 스트레스를 받을 수 있습니다. 참조 답변에서 발정 주기로 인한 스트레스를 직접적으로 언급하지 않지만, 행동장애 예방과 성격순화에 도움이 된다는 점에서 간접적으로 관련됩니다. 충분한 정보 없음. 3. 비정상적인 행동이나 소음이 발생할 수 있습니다. 참조 답변에서 '행동장애'를 언급하며 이 사실을 뒷받침합니다. 4. 중성화하지 않은 암컷 고양이는 자궁축농증이나 유선종양과 같은 건강 문제에 걸릴 확률이 높습니다. 참조 답변에서 암컷의 유선종양, 자궁축농증, 난소종양 예방을 언급하며 이 사실을 뒷받침합니다. 5. 중성화를 고려하는 것이 고양이의 건강과 복지를 위해 좋습니다. 참조 답변에서 중성화 수술이 '생식기 질환을 예방할 수 있다'고 언급하여 이 사실을 뒷받침합니다.\",\n",
    "    \"facts count predicted answer\": 5,\n",
    "    \"support predicted answer\": 4,\n",
    "    \"facts in reference answer\": \"1. 강아지나 고양이는 수컷, 암컷 모두 중성화수술이 필요합니다. 2. 수컷 중성화는 행동장애, 전립선염, 전립선암, 항문선종과 같은 생식기 질환을 예방합니다. 3. 암컷 중성화는 생리, 유선종양, 자궁축농증, 난소종양과 같은 생식기 질환을 예방할 수 있습니다. 4. 생리불순인 상황에서는 중성화수술이 더욱 중요하며 위험성이 증가합니다. 5. 중성화수술은 가출 방지 및 성격 순화에도 도움이 됩니다. 6. 일반적으로 중성화수술은 생후 7개월 전후로 시행합니다.\",\n",
    "    \"fact check reference answer\": \"1. 강아지나 고양이는 수컷, 암컷 모두 중성화수술이 필요합니다. 예측 답변에서 암컷 고양이의 중성화가 '여러 가지 위험을 동반할 수 있다'며 중성화를 고려하는 것이 좋다고 언급하여 이 사실을 뒷받침합니다. 2. 수컷 중성화는 행동장애, 전립선염, 전립선암, 항문선종과 같은 생식기 질환을 예방합니다. 예측 답변은 암컷 고양이에 초점을 맞춰 수컷에 대한 언급이 없습니다. 충분한 정보 없음. 3. 암컷 중성화는 생리, 유선종양, 자궁축농증, 난소종양과 같은 생식기 질환을 예방할 수 있습니다. 예측 답변에서 '자궁축농증이나 유선종양과 같은 건강 문제에 걸릴 확률이 높다'고 언급하여 이 사실을 뒷받침합니다. 4. 생리불순인 상황에서는 중성화수술이 더욱 중요하며 위험성이 증가합니다. 예측 답변에서는 생리불순에 대한 직접적인 언급은 없습니다. 충분한 정보 없음. 5. 중성화수술은 가출 방지 및 성격 순화에도 도움이 됩니다. 예측 답변에서 '비정상적인 행동이나 소음이 발생할 수 있다'고 언급하여 이 사실과 간접적으로 관련됩니다. 충분한 정보 없음. 6. 일반적으로 중성화수술은 생후 7개월 전후로 시행합니다. 예측 답변에서는 중성화 시기에 대한 정보가 없습니다. 충분한 정보 없음.\",\n",
    "    \"facts count reference answer\": 6,\n",
    "    \"support reference answer\": 2\n",
    "}}\n",
    "\n",
    "### 입력:\n",
    "질문: {question}\n",
    "참조 답변: {ref_answer}\n",
    "예측 답변: {pred_answer}\n",
    "출력:\n",
    "\"\"\""
   ]
  },
  {
   "cell_type": "code",
   "execution_count": 6,
   "metadata": {},
   "outputs": [
    {
     "name": "stdout",
     "output_type": "stream",
     "text": [
      "Avg input tokens: 3137개\n",
      "Avg output tokens: 843개\n",
      "Max input tokens: 4824개\n",
      "Max output tokens: 973개\n"
     ]
    }
   ],
   "source": [
    "input_tokens = []\n",
    "output_tokens = []\n",
    "\n",
    "input_path = \"/home/work/factchecking/PetQA/outputs/results/generated_answers/output_gpt-4o-mini_0_preprocessed.json\"\n",
    "with open(input_path, \"r\") as f:\n",
    "    input_data = json.load(f)\n",
    "    # input_data = input_data[:1000]\n",
    "    for item in input_data:\n",
    "        user_prompt = prompt.format(question=item[\"preprocessed_question\"], ref_answer=item[\"preprocessed_answer\"], pred_answer=item[\"generated_answer\"])\n",
    "        messages = [\n",
    "            {\"role\": \"user\", \"content\": user_prompt},\n",
    "        ]\n",
    "        input_tokens.append(count_chat_tokens(messages))\n",
    "        \n",
    "output_path = \"/home/work/factchecking/PetQA/src/evaluation/response_results_exaone.json\"\n",
    "with open(output_path, \"r\") as f:\n",
    "    output_data = json.load(f)\n",
    "\n",
    "for item in output_data:\n",
    "    output_tokens.append(count_output_tokens(item))\n",
    "    \n",
    "avg_input_tokens = int(np.mean(input_tokens))\n",
    "avg_output_tokens = int(np.mean(output_tokens))\n",
    "max_input_tokens = int(np.max(input_tokens))\n",
    "max_output_tokens = int(np.max(output_tokens))\n",
    "\n",
    "print(f\"Avg input tokens: {avg_input_tokens}개\")\n",
    "print(f\"Avg output tokens: {avg_output_tokens}개\")\n",
    "print(f\"Max input tokens: {max_input_tokens}개\")\n",
    "print(f\"Max output tokens: {max_output_tokens}개\")"
   ]
  },
  {
   "cell_type": "code",
   "execution_count": null,
   "metadata": {},
   "outputs": [],
   "source": []
  },
  {
   "cell_type": "code",
   "execution_count": 5,
   "metadata": {},
   "outputs": [
    {
     "name": "stdout",
     "output_type": "stream",
     "text": [
      "10000\n"
     ]
    }
   ],
   "source": [
    "import json\n",
    "file_path = \"/home/work/factchecking/PetQA/outputs/results/generated_answers/output_exaone-3.5-7.8b_0_raw_ALL.json\"\n",
    "with open(file_path, \"r\", encoding=\"utf-8\") as f:\n",
    "    data = json.load(f)\n",
    "print(len(data))"
   ]
  },
  {
   "cell_type": "code",
   "execution_count": null,
   "metadata": {},
   "outputs": [],
   "source": []
  },
  {
   "cell_type": "code",
   "execution_count": 5,
   "metadata": {},
   "outputs": [
    {
     "name": "stdout",
     "output_type": "stream",
     "text": [
      "0\n"
     ]
    }
   ],
   "source": [
    "import json\n",
    "\n",
    "file_path = \"/home/work/factchecking/PetQA/data/processed/test.json\"\n",
    "with open(file_path, \"r\") as f:\n",
    "    data = json.load(f)\n",
    "\n",
    "q_ids_with_a_id = []\n",
    "duplication_count = 0\n",
    "for item in data:\n",
    "    q_id = item[\"q_id\"]\n",
    "    a_id = item[\"a_id\"]\n",
    "    if (q_id, a_id) in q_ids_with_a_id:\n",
    "        print(q_id)\n",
    "        duplication_count += 1\n",
    "    else:\n",
    "        new_item = (q_id, a_id)\n",
    "        q_ids_with_a_id.append(new_item)\n",
    "\n",
    "print(duplication_count)"
   ]
  },
  {
   "cell_type": "code",
   "execution_count": 7,
   "metadata": {},
   "outputs": [
    {
     "name": "stdout",
     "output_type": "stream",
     "text": [
      "65\n"
     ]
    }
   ],
   "source": [
    "q_ids = []\n",
    "duplication_count = 0\n",
    "for item in data:\n",
    "    q_id = item[\"q_id\"]\n",
    "    if q_id in q_ids:\n",
    "        duplication_count += 1\n",
    "    else:\n",
    "        q_ids.append(q_id)\n",
    "\n",
    "print(duplication_count)"
   ]
  },
  {
   "cell_type": "code",
   "execution_count": null,
   "metadata": {},
   "outputs": [],
   "source": []
  },
  {
   "cell_type": "code",
   "execution_count": 1,
   "metadata": {},
   "outputs": [
    {
     "name": "stdout",
     "output_type": "stream",
     "text": [
      "55393\n",
      "{'q_id': 61822, 'title': '강아지 발톱', 'content': '저희 강아지 발톱 중 한개가 반은 투명색, 반은 검정색잉에요놀라울 정도로 반반인데 괜찮은 건가요?털색은 검정 등, 배 쪽 흰 입니다..ㅜㅜ빠른 답변 부탁드려요내공 겁니다 정말 급해요', 'answer': '안녕하세요  발톱은 색소로 인해 색이 검을 수도 투명할 수도 있습니다. 아무 문제 없습니다.', 'a_id': 1, 'answer_type': 'nonexpert', 'question_date': '2022.08.10', 'answer_date': '2022.08.10.', 'animal_type': 'dog', 'preprocessed_question': '강아지 발톱 하나가 반은 투명색이고, 반은 검정색인데 괜찮은 건가요? 털색은 검정색이고 배 쪽은 흰색입니다.', 'preprocessed_answer': '발톱은 색소로 인해 색이 검을 수도 투명할 수도 있습니다. 아무 문제 없습니다.'}\n"
     ]
    }
   ],
   "source": [
    "import json\n",
    "file_path = \"/home/work/factchecking/PetQA/data/interim/cleaned_data.json\"\n",
    "with open(file_path, 'r', encoding='utf-8') as f:\n",
    "    data = json.load(f)\n",
    "\n",
    "print(len(data))\n",
    "print(data[-1])"
   ]
  },
  {
   "cell_type": "code",
   "execution_count": 11,
   "metadata": {},
   "outputs": [
    {
     "name": "stdout",
     "output_type": "stream",
     "text": [
      "61825\n",
      "64129\n"
     ]
    }
   ],
   "source": [
    "import json\n",
    "file_path = \"/home/work/factchecking/PetQA/data/interim/unique_data.json\"\n",
    "with open(file_path, 'r', encoding='utf-8') as f:\n",
    "    unique_data = json.load(f)\n",
    "\n",
    "print(len(unique_data))\n",
    "\n",
    "selected_cnt = 0\n",
    "for item in unique_data:\n",
    "    answers = item[\"answers\"]\n",
    "    for a in answers:\n",
    "        if a[\"selected\"]:\n",
    "            selected_cnt += 1\n",
    "print(selected_cnt)"
   ]
  },
  {
   "cell_type": "code",
   "execution_count": 7,
   "metadata": {},
   "outputs": [
    {
     "name": "stdout",
     "output_type": "stream",
     "text": [
      "filtering_all_results: 64129\n",
      "filtered_data: 56001\n",
      "irrelevant_data: 8128\n"
     ]
    }
   ],
   "source": [
    "import json\n",
    "filtering_all_results_path = \"/home/work/factchecking/PetQA/data/interim/filtering_all_results.json\"\n",
    "with open(filtering_all_results_path, 'r', encoding='utf-8') as f:\n",
    "    filtering_all_results = json.load(f)\n",
    "print(f\"filtering_all_results: {len(filtering_all_results)}\")\n",
    "\n",
    "filtered_data_path = \"/home/work/factchecking/PetQA/data/interim/filtered_data.json\"\n",
    "with open(filtered_data_path, 'r', encoding='utf-8') as f:\n",
    "    filtered_data = json.load(f)\n",
    "print(f\"filtered_data: {len(filtered_data)}\")\n",
    "\n",
    "irrelevant_data_path = \"/home/work/factchecking/PetQA/data/interim/irrelevant_data.json\"\n",
    "with open(irrelevant_data_path, 'r', encoding='utf-8') as f:\n",
    "    irrelevant_data = json.load(f)\n",
    "print(f\"irrelevant_data: {len(irrelevant_data)}\")"
   ]
  },
  {
   "cell_type": "code",
   "execution_count": null,
   "metadata": {},
   "outputs": [],
   "source": []
  },
  {
   "cell_type": "code",
   "execution_count": 85,
   "metadata": {},
   "outputs": [
    {
     "name": "stdout",
     "output_type": "stream",
     "text": [
      "중복된 q_id 개수: 1635개\n"
     ]
    }
   ],
   "source": [
    "from collections import Counter\n",
    "\n",
    "file_path = \"/home/work/factchecking/PetQA/data/interim/filtered_data.json\"\n",
    "with open(file_path, 'r', encoding='utf-8') as f:\n",
    "    data = json.load(f)\n",
    "\n",
    "q_ids = [sample['q_id'] for sample in data if 'q_id' in sample]\n",
    "q_id_counter = Counter(q_ids)\n",
    "duplicate_q_ids = {qid: count for qid, count in q_id_counter.items() if count > 1}\n",
    "\n",
    "print(f\"중복된 q_id 개수: {len(duplicate_q_ids)}개\")"
   ]
  },
  {
   "cell_type": "code",
   "execution_count": 6,
   "metadata": {},
   "outputs": [],
   "source": [
    "import os\n",
    "from dotenv import load_dotenv\n",
    "import openai\n",
    "load_dotenv()\n",
    "OPENAI_API_KEY = os.getenv(\"OPENAI_API_KEY\")\n",
    "client = openai.OpenAI(api_key=OPENAI_API_KEY)"
   ]
  },
  {
   "cell_type": "code",
   "execution_count": 9,
   "metadata": {},
   "outputs": [
    {
     "name": "stdout",
     "output_type": "stream",
     "text": [
      "암컷 고양이를 중성화하지 않고 키우는 것은 여러 가지 위험을 동반할 수 있습니다. 첫째, 발정 주기가 반복되면서 스트레스를 받을 수 있습니다. 둘째, 비정상적인 행동이나 소음이 발생할 수 있습니다. 셋째, 중성화하지 않은 암컷 고양이는 자궁축농증이나 유선종양과 같은 건강 문제에 걸릴 확률이 높습니다. 따라서 중성화를 고려하는 것이 고양이의 건강과 복지를 위해 좋습니다.\n"
     ]
    }
   ],
   "source": [
    "system_prompt = \"\"\"\n",
    "당신은 반려동물(개, 고양이) 의료 상담 전문 수의사입니다.\n",
    "당신의 역할은 개, 고양이 관련 의료 질문에 대해 유용하고, 완전하며, 전문적인 지식에 기반한 정확한 답변을 하는 것입니다.\n",
    "질문에 대해 차근차근 생각하며 답변하고, 답변 문장의 개수는 최대 5개를 넘지 마세요.\n",
    "\"\"\"\n",
    "user_prompt = \"\"\"\n",
    "질문: 암컷 고양이를 키우고 있는데 중성화를 평생 안 하고 키워도 괜찮을까요?\n",
    "\"\"\"\n",
    "\n",
    "response = client.chat.completions.create(\n",
    "    model=\"gpt-4o-mini\",\n",
    "    messages=[\n",
    "        {\"role\": \"system\", \"content\": system_prompt}, \n",
    "        {\"role\": \"user\", \"content\": user_prompt}\n",
    "    ],\n",
    "    temperature=0,\n",
    "    max_tokens=512,\n",
    ")\n",
    "print(response.choices[0].message.content)"
   ]
  },
  {
   "cell_type": "code",
   "execution_count": 79,
   "metadata": {},
   "outputs": [
    {
     "name": "stdout",
     "output_type": "stream",
     "text": [
      "평가 과정을 설명하겠습니다. 주어진 질문과 수의사 답변, 그리고 모델의 답변을 바탕으로 두 가지 평가 기준인 completeness와 coherence를 각각 1점에서 5점 사이로 평가합니다.\n",
      "\n",
      "1. **completeness 평가 과정:**\n",
      "   - 질문에 대한 모델의 답변이 필요한 모든 정보를 포함하고 있는지 확인합니다.\n",
      "   - 답변이 질문과 관련이 있는지, 그리고 질문에 대해 충분히 답변하고 있는지를 평가합니다.\n",
      "   - 답변이 질문의 핵심을 잘 다루고 있는지, 중요한 정보가 빠져 있지는 않은지를 판단합니다.\n",
      "   - 이 기준에 따라 1점에서 5점 사이의 점수를 부여합니다.\n",
      "\n",
      "2. **coherence 평가 과정:**\n",
      "   - 모델의 답변 내 문장들이 논리적으로 잘 연결되어 있는지 확인합니다.\n",
      "   - 문장 간의 전환이 자연스러운지, 문맥이 매끄럽게 전개되는지를 평가합니다.\n",
      "   - 답변이 이해하기 쉬운지, 문장 구조가 명확한지를 판단합니다.\n",
      "   - 이 기준에 따라 1점에서 5점 사이의 점수를 부여합니다.\n",
      "\n",
      "각 기준에 대해 점수를 부여한 후, 그 이유를 간단히 설명하여 평가의 근거를 명확히 합니다. 이 과정에서 주어진 지침을 수시로 참조하여 일관된 평가를 유지합니다.\n"
     ]
    }
   ],
   "source": [
    "system_prompt = \"You are a helpful and precise assistant for evaluating text generation.\"\n",
    "user_prompt = \"\"\"\n",
    "당신에게는 반려동물(개, 고양이) 의료 상담 관련 질문과 수의사 답변, 그리고 모델의 답변이 주어집니다.\n",
    "당신의 역할은 주어진 질문과 수의사 답변을 참고하여 모델의 답변을 다음 평가 기준에 따라 1점에서 5점 사이의 정수로 평가하는 것입니다.\n",
    "평가를 진행하기 전에 아래의 지침을 주의 깊게 읽고 이해했는지 반드시 확인하세요. 평가 중에도 수시로 이 지침을 참조하면서 일관되고 신중하게 판단해야 합니다.\n",
    "\n",
    "### 평가 기준:\n",
    "1. completeness\n",
    "- 정의: 질문에 답하기 위해 필요한 모든 필수 정보를 포함하고 있는 정도\n",
    "- 1: 질문과 무관한 내용만 포함하거나, 답변으로 간주할 수 없을 정도로 불완전함\n",
    "- 2: 핵심 내용이 거의 빠져 있거나 질문에 거의 답하지 못함\n",
    "- 3: 일부 중요한 정보가 빠져 있어 이해나 활용에 제한이 있음\n",
    "- 4: 대부분의 중요 정보를 포함하고 있으나, 약간의 보완이 필요할 수 있음\n",
    "- 5: 질문에 대한 답변이 충분하며, 모든 핵심 정보와 관련 세부사항이 포함됨\n",
    "\n",
    "2. coherence\n",
    "- 정의: 답변 내 문장 간 논리적 연결성과 문맥의 자연스러운 정도\n",
    "- 1: 문장이 거의 연결되지 않거나 비문 중심으로 구성되어 전혀 이해할 수 없음\n",
    "- 2: 전반적으로 논리 흐름이 거의 없고, 문장이 단절되거나 무작위적으로 배열됨\n",
    "- 3: 문장 간 논리 연결이 종종 끊기며, 문맥 전개에 혼란이 있음\n",
    "- 4: 대부분 자연스럽지만, 일부 문장 간 연결이 약하거나 어색한 전환이 있음\n",
    "- 5: 문장 간 논리적 흐름이 매우 자연스럽고, 전개가 매끄러움\n",
    "\n",
    "평가 과정을 설명하세요:\n",
    "\"\"\"\n",
    "# task introduction + evlauation criteria에 evaluation steps 추가하여 \n",
    "# auto CoT를 통해 평가 과정 생성\n",
    "\n",
    "response = client.chat.completions.create(\n",
    "    model=\"gpt-4o\",\n",
    "    messages=[\n",
    "        {\"role\": \"system\", \"content\": system_prompt},\n",
    "        {\"role\": \"user\", \"content\": user_prompt}],\n",
    "    temperature=0\n",
    ")\n",
    "evaluation_steps = response.choices[0].message.content.strip()\n",
    "print(evaluation_steps)"
   ]
  },
  {
   "cell_type": "markdown",
   "metadata": {},
   "source": [
    "# Gemini로 전처리 테스트"
   ]
  },
  {
   "cell_type": "code",
   "execution_count": 1,
   "metadata": {},
   "outputs": [],
   "source": [
    "import os\n",
    "from google import genai\n",
    "from google.genai import types\n",
    "from pydantic import BaseModel\n",
    "from dotenv import load_dotenv\n",
    "load_dotenv()\n",
    "GOOGLE_API_KEY = os.getenv(\"GOOGLE_API_KEY\")\n",
    "\n",
    "client = genai.Client(api_key=GOOGLE_API_KEY)"
   ]
  },
  {
   "cell_type": "code",
   "execution_count": 2,
   "metadata": {},
   "outputs": [],
   "source": [
    "system_prompt = \"\"\"\n",
    "당신의 역할은 반려동물(개, 고양이) 의료 상담 관련 질문-답변 데이터셋을 구축하기 위해, 불필요한 문구를 제거하고 표현을 정제하는 것입니다.\n",
    "아래의 클리닝 방법을 참고하여 데이터를 클리닝하세요.\n",
    "최종적인 출력은 JSON 형식으로 출력하세요.\n",
    "\n",
    "### 클리닝 방법\n",
    "질문과 답변의 의미를 유지하면서 아래의 문구를 제거합니다. 이때 질문에서는 반려동물의 정보(종, 나이, 무게 등) 및 증상이 생략되지 않도록 하며, 답변에서는 진단 과정 및 치료 방법과 같은 중요한 정보가 생략되지 않도록 주의합니다.\n",
    "- 개인 정보 제거: 이름, 전화번호, 이메일, 주소 등 개인을 식별할 수 있는 정보 제거\n",
    "- 맞춤법 및 문법 수정: 문맥을 고려하여 올바른 맞춤법과 문법으로 교정\n",
    "- 구어체 수정: 공식적인 질문과 답변 형식에 맞게 문어체로 변환\n",
    "- 의미 전달에 필요하지 않은 감정 표현 제거 (예: 강아지의 이상 행동에 대해 걱정이 많으시죠?, 고양이의 이상 증상에 대해 걱정이 많으시죠? 등)\n",
    "- 인사 문구 제거 (예: 안녕하세요, 감사합니다 등)\n",
    "- 광고나 홍보 문구 제거 (예: 추가 상담을 원하시면 아래 링크를 클릭해주세요)\n",
    "- 그 외 질문과 답변에 필요없는 불필요한 문구 제거 (예: 질문 잘 읽었습니다. 등)\n",
    "\"\"\"\n",
    "user_prompt = \"\"\"\n",
    "질문 제목: 고양이 결막염 증상 중에\n",
    "질문 본문: 고양이가 눈은 제대로 뜨지 못해 병원에 갔더니 결막염 처방을 받아 꼬박꼬박 안약을 잘 넣어 주고 있습니다. 그런데 고양이 눈이 다른 한쪽 눈에 비해 뿌옇게 흐려졌어요.인터넷을 찾아보니 이거는 각막궤양의 증상이라고 하더라고요. 혹시 결막염 증상 중에 이런 증상이 있나요??아니면 다시 병원에 방문해서 검사를 받아봐야 할까요??ㅠㅠ\n",
    "답변: 안녕하세요? 지식iN 동물의료상담 활동을 하고 있는 수의사 윤성진 입니다. 눈때문에 걱정이 많으시겠어요. 각막이 뿌옇게 흐려졌다고 해서 각막궤양이라고 할 수는 없습니다. 결막염이 심했다면 각막염이나 각막부종이 동반된 경우 일수도 있고, 각막궤양이 잇어서 눈을 제대로 뜨지 못했을 가능성도 있습니다. 병원에 내원하셔서 제대로 안검사를 받아보시는 것이 좋겠습니다. 형광염색검사로 각막궤양이 있는지도 확인할 필요가 있습니다. 빠른 쾌유 바랍니다.\n",
    "\"\"\"\n"
   ]
  },
  {
   "cell_type": "code",
   "execution_count": 8,
   "metadata": {},
   "outputs": [
    {
     "name": "stdout",
     "output_type": "stream",
     "text": [
      "[\n",
      "  {\n",
      "    \"preprocessed_question\": \"고양이가 결막염으로 안약을 투여 중인데, 한쪽 눈이 뿌옇게 흐려졌습니다. 인터넷에서 각막궤양 증상이라고 하는데, 결막염 증상으로도 나타날 수 있나요? 아니면 병원에 다시 방문해야 할까요?\",\n",
      "    \"preprocessed_answer\": \"각막이 뿌옇게 흐려졌다고 해서 각막궤양이라고 단정할 수는 없습니다. 결막염이 심한 경우 각막염이나 각막부종이 동반될 수 있고, 각막궤양이 있어 눈을 제대로 뜨지 못했을 가능성도 있습니다. 병원에 내원하여 안검사를 받아보시고, 형광염색검사로 각막궤양 여부를 확인하는 것이 좋겠습니다.\"\n",
      "  }\n",
      "]\n"
     ]
    }
   ],
   "source": [
    "class Preprocess(BaseModel):\n",
    "    preprocessed_question: str\n",
    "    preprocessed_answer: str\n",
    "\n",
    "response = client.models.generate_content(\n",
    "    model=\"gemini-2.0-flash\",\n",
    "    contents=user_prompt,\n",
    "    config=types.GenerateContentConfig(\n",
    "        system_instruction = system_prompt,\n",
    "        temperature=0,\n",
    "        response_mime_type=\"application/json\",\n",
    "        response_schema=Preprocess\n",
    "    ),\n",
    ")\n",
    "print(response.text)"
   ]
  },
  {
   "cell_type": "code",
   "execution_count": null,
   "metadata": {},
   "outputs": [],
   "source": []
  },
  {
   "cell_type": "code",
   "execution_count": null,
   "metadata": {},
   "outputs": [],
   "source": []
  },
  {
   "cell_type": "code",
   "execution_count": null,
   "metadata": {},
   "outputs": [],
   "source": []
  },
  {
   "cell_type": "code",
   "execution_count": null,
   "metadata": {},
   "outputs": [],
   "source": []
  },
  {
   "cell_type": "markdown",
   "metadata": {},
   "source": [
    "# Google Batch API 테스트 (실패)"
   ]
  },
  {
   "cell_type": "code",
   "execution_count": 4,
   "metadata": {},
   "outputs": [],
   "source": [
    "from datetime import datetime\n",
    "import time\n",
    "\n",
    "import fsspec\n",
    "from google import genai\n",
    "# from google.cloud import bigquery\n",
    "from google.genai.types import CreateBatchJobConfig\n",
    "import pandas as pd"
   ]
  },
  {
   "cell_type": "code",
   "execution_count": 9,
   "metadata": {},
   "outputs": [
    {
     "name": "stdout",
     "output_type": "stream",
     "text": [
      "asia-northeast3\n"
     ]
    }
   ],
   "source": [
    "import os\n",
    "from dotenv import load_dotenv\n",
    "load_dotenv()\n",
    "\n",
    "PROJECT_ID = \"petqa-463515\"\n",
    "LOCATION = os.environ.get(\"GOOGLE_CLOUD_REGION\")\n",
    "print(LOCATION)"
   ]
  },
  {
   "cell_type": "code",
   "execution_count": null,
   "metadata": {},
   "outputs": [],
   "source": [
    "client = genai.Client(vertexai=True, project=PROJECT_ID, location=LOCATION)\n",
    "MODEL_ID = \"gemini-2.0-flash-001\""
   ]
  },
  {
   "cell_type": "code",
   "execution_count": null,
   "metadata": {},
   "outputs": [],
   "source": [
    "import json\n",
    "\n",
    "def create_jsonl_file(output_filename: str, requests: list[dict]):\n",
    "    try:\n",
    "        with open(output_filename, 'w', encoding='utf-8') as f:\n",
    "            for req in requests:\n",
    "                # 각 요청 딕셔너리를 JSON 문자열로 변환하고 새 줄에 작성합니다.\n",
    "                json_line = json.dumps(req, ensure_ascii=False)\n",
    "                f.write(json_line + '\\n')\n",
    "        print(f\"'{output_filename}' 파일이 성공적으로 생성되었습니다.\")\n",
    "    except IOError as e:\n",
    "        print(f\"파일 작성 중 오류가 발생했습니다: {e}\")\n",
    "    except Exception as e:\n",
    "        print(f\"예상치 못한 오류가 발생했습니다: {e}\")\n",
    "\n",
    "if __name__ == \"__main__\":\n",
    "    batch_requests = [\n",
    "        {\n",
    "            \"request\": {\n",
    "                \"contents\": [\n",
    "                    {\"role\": \"user\", \"parts\": [{\"text\": \"다음 동영상과 이미지 샘플의 관계는 무엇입니까?\"}]},\n",
    "                    {\"fileData\": {\"fileUri\": \"gs://cloud-samples-data/generative-ai/video/animals.mp4\", \"mimeType\": \"video/mp4\"}},\n",
    "                    {\"fileData\": {\"fileUri\": \"gs://cloud-samples-data/generative-ai/image/cricket.jpeg\", \"mimeType\": \"image/jpeg\"}}\n",
    "                ]\n",
    "            }\n",
    "        },\n",
    "        {\n",
    "            \"request\": {\n",
    "                \"contents\": [\n",
    "                    {\"role\": \"user\", \"parts\": [{\"text\": \"이 동영상에서 무슨 일이 일어나고 있는지 설명해 주세요.\"}]},\n",
    "                    {\"fileData\": {\"fileUri\": \"gs://cloud-samples-data/generative-ai/video/another_video.mov\", \"mimeType\": \"video/mov\"}}\n",
    "                ]\n",
    "            }\n",
    "        }\n",
    "    ]\n",
    "\n",
    "    # JSONL 파일 생성 함수를 호출합니다.\n",
    "    output_file = \"batch_input.jsonl\"\n",
    "    create_jsonl_file(output_file, batch_requests)\n",
    "\n",
    "    # 생성된 파일의 내용을 확인 (선택 사항)\n",
    "    print(\"\\n--- 생성된 파일 내용 확인 ---\")\n",
    "    try:\n",
    "        with open(output_file, 'r', encoding='utf-8') as f:\n",
    "            for line_num, line in enumerate(f, 1):\n",
    "                print(f\"라인 {line_num}: {line.strip()}\")\n",
    "                # 각 라인이 유효한 JSON인지 확인 (선택 사항)\n",
    "                try:\n",
    "                    json.loads(line)\n",
    "                except json.JSONDecodeError as e:\n",
    "                    print(f\"경고: 라인 {line_num}은 유효한 JSON이 아닙니다: {e}\")\n",
    "    except FileNotFoundError:\n",
    "        print(f\"'{output_file}' 파일을 찾을 수 없습니다.\")\n"
   ]
  },
  {
   "cell_type": "code",
   "execution_count": null,
   "metadata": {},
   "outputs": [],
   "source": []
  },
  {
   "cell_type": "code",
   "execution_count": null,
   "metadata": {},
   "outputs": [],
   "source": []
  },
  {
   "cell_type": "code",
   "execution_count": null,
   "metadata": {},
   "outputs": [],
   "source": []
  },
  {
   "cell_type": "code",
   "execution_count": null,
   "metadata": {},
   "outputs": [],
   "source": []
  },
  {
   "cell_type": "code",
   "execution_count": null,
   "metadata": {},
   "outputs": [],
   "source": []
  },
  {
   "cell_type": "code",
   "execution_count": null,
   "metadata": {},
   "outputs": [],
   "source": []
  },
  {
   "cell_type": "code",
   "execution_count": null,
   "metadata": {},
   "outputs": [],
   "source": []
  },
  {
   "cell_type": "markdown",
   "metadata": {},
   "source": [
    "# 토큰 계산"
   ]
  },
  {
   "cell_type": "code",
   "execution_count": 13,
   "metadata": {},
   "outputs": [
    {
     "name": "stdout",
     "output_type": "stream",
     "text": [
      "전처리 모델: gemini-2.0-flash\n",
      "필터링 비용: $3.32\n",
      "클리닝 비용: $16.53\n",
      "------------------------------\n",
      "답변 생성 비용 (batch API 사용 시)\n",
      "gpt-4o-mini-0: $1.16\n",
      "gpt-4o-mini-1: $1.61\n",
      "gpt-4o-mini-3: $2.53\n",
      "gpt-4o-mini-6: $3.92\n",
      "------------------------------\n",
      "claude-3-haiku-0: $4.02\n",
      "claude-3-haiku-1: $5.26\n",
      "claude-3-haiku-3: $7.81\n",
      "claude-3-haiku-6: $11.63\n",
      "------------------------------\n",
      "gemini-2.0-flash-0: $0.72\n",
      "gemini-2.0-flash-1: $1.00\n",
      "gemini-2.0-flash-3: $1.56\n",
      "gemini-2.0-flash-6: $2.41\n",
      "------------------------------\n"
     ]
    }
   ],
   "source": [
    "# ------------------------------------------\n",
    "MODEL_PRICE = {\n",
    "    'gpt-4o-mini': {\"input_token\": 0.15, \"output_token\": 0.60},\n",
    "    'claude-3-haiku': {\"input_token\": 0.25, \"output_token\": 1.25},\n",
    "    'gemini-2.0-flash': {\"input_token\": 0.1, \"output_token\": 0.4},\n",
    "}\n",
    "\n",
    "\"\"\" 전처리 시(필터링, 클리닝), 모델별 입력 토큰 사용량\"\"\"\n",
    "avg_input_token_F = {\n",
    "    \"gpt-4o-mini\": 558,\n",
    "    \"gemini-2.0-flash\": 513 \n",
    "}\n",
    "\n",
    "avg_output_token_F = {\n",
    "    \"gpt-4o-mini\": 1,\n",
    "    \"gemini-2.0-flash\": 1,\n",
    "}\n",
    "\n",
    "avg_input_token_C = {\n",
    "    \"gpt-4o-mini\": 695,\n",
    "    \"gemini-2.0-flash\": 644,\n",
    "}\n",
    "\n",
    "avg_output_token_C = {\n",
    "    \"gpt-4o-mini\": 218,\n",
    "    \"gemini-2.0-flash\": 577,\n",
    "}\n",
    "\n",
    "\"\"\" 답변 생성 시, 모델별 입력 토큰 사용량\n",
    "- gpt-4o-mini: 약 300 토큰\n",
    "- claude-3-haiku: 약 500 토큰\n",
    "- gemini-2.0-flash: 약 280 토큰\n",
    "\"\"\"\n",
    "avg_input_token_A = {\n",
    "    \"0\": {\"gpt-4o-mini\": 265, \"claude-3-haiku\": 417, \"gemini-2.0-flash\": 231},\n",
    "    \"1\": {\"gpt-4o-mini\": 567, \"claude-3-haiku\": 916, \"gemini-2.0-flash\": 510},\n",
    "    \"3\": {\"gpt-4o-mini\": 1181, \"claude-3-haiku\": 1933, \"gemini-2.0-flash\": 1074},\n",
    "    \"6\": {\"gpt-4o-mini\": 2106, \"claude-3-haiku\": 3464, \"gemini-2.0-flash\": 1925},\n",
    "}\n",
    "\"\"\" 답변 생성 시, 모델별 출력 토큰 사용량\"\"\"\n",
    "avg_output_token_A = {\n",
    "    \"gpt-4o-mini\": 127,\n",
    "    \"claude-3-haiku\": 238,\n",
    "    \"gemini-2.0-flash\": 122,\n",
    "}\n",
    "\n",
    "# ------------------------------------------\n",
    "PREPROCESS_MODEL = \"gemini-2.0-flash\"\n",
    "MILLION_TOKEN = 1000000\n",
    "\n",
    "FILTERING_SIZE = 64129\n",
    "CLEANING_SIZE = 56001\n",
    "TEST_SIZE = 10000\n",
    "# ------------------------------------------\n",
    "print(f\"전처리 모델: {PREPROCESS_MODEL}\")\n",
    "# ------------------------------------------\n",
    "filtering_cost = MODEL_PRICE[PREPROCESS_MODEL][\"input_token\"] * avg_input_token_F[PREPROCESS_MODEL]+ MODEL_PRICE[PREPROCESS_MODEL][\"output_token\"] * avg_output_token_F[PREPROCESS_MODEL]\n",
    "filtering_cost = (filtering_cost * FILTERING_SIZE) / MILLION_TOKEN\n",
    "print(f\"필터링 비용: ${filtering_cost:.2f}\")\n",
    "# ------------------------------------------\n",
    "cleaning_cost = MODEL_PRICE[PREPROCESS_MODEL][\"input_token\"] * avg_input_token_C[PREPROCESS_MODEL] + MODEL_PRICE[PREPROCESS_MODEL][\"output_token\"] * avg_output_token_C[PREPROCESS_MODEL]\n",
    "cleaning_cost = (cleaning_cost * CLEANING_SIZE) / MILLION_TOKEN\n",
    "print(f\"클리닝 비용: ${cleaning_cost:.2f}\")\n",
    "print(\"---\"*10)\n",
    "# ------------------------------------------\n",
    "print(\"답변 생성 비용 (batch API 사용 시)\")\n",
    "for model_name, price in MODEL_PRICE.items():\n",
    "    for shot, input_token_dict in avg_input_token_A.items():\n",
    "        answering_cost = price[\"input_token\"] * input_token_dict[model_name] + price[\"output_token\"] * avg_output_token_A[model_name]\n",
    "        answering_cost = (answering_cost * TEST_SIZE) / MILLION_TOKEN  # 입력 형식 고려\n",
    "        print(f\"{model_name}-{shot}: ${answering_cost:.2f}\")\n",
    "    print(\"---\"*10)\n"
   ]
  },
  {
   "cell_type": "code",
   "execution_count": 3,
   "metadata": {},
   "outputs": [],
   "source": [
    "import tiktoken\n",
    "import random\n",
    "import pandas as pd\n",
    "import numpy as np\n",
    "import matplotlib.pyplot as plt\n",
    "import re\n",
    "import anthropic\n",
    "import google.generativeai as genai\n",
    "import os\n",
    "from dotenv import load_dotenv\n",
    "load_dotenv()\n",
    "ANTHROPIC_API_KEY = os.getenv(\"ANTHROPIC_API_KEY\")\n",
    "GOOGLE_API_KEY = os.getenv(\"GOOGLE_API_KEY\")\n",
    "client = anthropic.Anthropic(api_key=ANTHROPIC_API_KEY)\n",
    "genai.configure(api_key=GOOGLE_API_KEY)"
   ]
  },
  {
   "cell_type": "code",
   "execution_count": null,
   "metadata": {},
   "outputs": [
    {
     "data": {
      "text/plain": [
       "{'q_id': 22264,\n",
       " 'title': '강아지 슬개골 탈구 수술 꼭 해야 하나요?',\n",
       " 'content': '2살 된 비숑이고 오늘 한쪽 2기 한쪽 3기 진단 받았습니다문제되는 3기 다리를 병원에서는 수술 권유를 하는데찾아보니 일상생활을 지내는 데에 심하게 아파하지 않으면 케어만 신경써서 해줘도 된다는 의견들이 있으시더라구요 ㅠ평소에는 놀기도 잘 놀고 먹고 잘 걸어다니는데 높은 곳 (침대에서 바닥)으로 뛰어 내릴때 문제되는 3기 다리를 깽깽이? 한발 들고 다녔다가 시간이 경과한 후엔 또 정상적으로 잘 걸어 다녀요 ㅠㅠ수술 비용도 만만치 않고전신마취가 강아지한텐 좋지 않다 들어서 고민중입니다수술 무조건 해야 할까요?수술을 해도 재발하거나 수술후에 증상이 호전되지 않아서 다시 수술 부위를 여는데도 많다 해서 ㅠ조언 부탁드립니다!!',\n",
       " 'answers': [{'a_id': 0,\n",
       "   'answer_type': 'nonexpert',\n",
       "   'answer': '안녕하세요. \"동물의료상담 지식인\"에 선정된 부천 중동 \"하모니동물병원\" 원장입니다. \\u200b 슬개골탈구 교정술은 해줘야 하지만 선택은 보호자 몫이며 수술시 마취는,  사전검사에 의해서 안전성이 크게 확보됩니다. \\u200b 현재 2년령이면 앞으로 13~17년 정도는 더 살아야 천수를 다하는데 슬개골탈구를 수술치 않고 방치하면  4기 말기쯤에선 상당히 괴로워하며 심하면 다리를 못쓰게 되기도 합니다. \\u200b 3기에서도 뛰어내릴 때 통증이 심해 깽깽이 발처럼 한발을 드는데 더욱 심화될 경우는 어떠하겠습니까? \\u200b 모쪼록 현명한 선택으로, 좋은 결과만 얻으시길 기원합니다. \\u200b 사이버 답변이지만 조금이라도 도움됐으면 좋겠습니다. \\u200b ***** cafe.naver.com/harmonyhospital \\u200b \\u200b',\n",
       "   'selected': True,\n",
       "   'answer_date': '2022.10.15.'}],\n",
       " 'question_date': '2022.10.15',\n",
       " 'animal_type': 'dog',\n",
       " 'link': 'https://kin.naver.com/qna/detail.naver?d1id=8&dirId=80511&docId=430550950&qb=6rCV7JWE7KeA&enc=utf8&section=kin.qna_ency&rank=460&search_sort=3&spq=0'}"
      ]
     },
     "execution_count": 22,
     "metadata": {},
     "output_type": "execute_result"
    }
   ],
   "source": [
    "raw_path = \"/home/work/factchecking/PetQA/data/interim/unique_data.json\"\n",
    "with open(raw_path, \"r\", encoding=\"utf-8\") as f:\n",
    "    data = json.load(f)\n",
    "random.seed(42)\n",
    "data = random.sample(data, 1000)\n",
    "data[0]"
   ]
  },
  {
   "cell_type": "code",
   "execution_count": 10,
   "metadata": {},
   "outputs": [],
   "source": [
    "def avg_token_counts(results):\n",
    "    input_tokens = [r[\"input_tokens\"] for r in results]\n",
    "    output_tokens = [r[\"output_tokens\"] for r in results]\n",
    "    avg_input_tokens = int(np.mean(input_tokens))\n",
    "    avg_output_tokens = int(np.mean(output_tokens))\n",
    "    print(f\"Avg input tokens: {avg_input_tokens}개\")\n",
    "    print(f\"Avg output tokens: {avg_output_tokens}개\")"
   ]
  },
  {
   "cell_type": "markdown",
   "metadata": {},
   "source": [
    "## 전처리"
   ]
  },
  {
   "cell_type": "markdown",
   "metadata": {},
   "source": [
    "### filtering"
   ]
  },
  {
   "cell_type": "code",
   "execution_count": 31,
   "metadata": {},
   "outputs": [],
   "source": [
    "filtering_system_prompt = \"\"\"\n",
    "당신의 역할은 반려동물(개, 고양이) 의료 상담 관련 질문-답변 데이터셋을 구축하기 위해, 관련 없는 데이터를 필터링하는 것입니다.\n",
    "아래의 필터링 기준을 참고하여 관련 없는 데이터를 필터링하세요.\n",
    "최종적인 출력은 반드시 True 또는 False를 출력하세요. 그 외 다른 텍스트를 포함하지 마세요.\n",
    "\n",
    "### 필터링 기준\n",
    "다음 조건 중 하나라도 해당될 경우 False를 반환합니다.\n",
    "- 개인정보 노출 또는 서비스 운영 원칙에 위배된 내용이 포함된 질문\n",
    "- 반려동물(개, 고양이) 의료 상담과 관련 없는 질문\n",
    "- 질문 해결 실패: 질문이 충분히 구체적이고 명확하지 않아 답변을 하기 위해 추가적인 설명이 필요한 경우 (예: \"설명하신 내용만으로 어떤 상황인지 알 수 없습니다.\" 등)\n",
    "- 근거 없이 추측성으로 작성된 답변\n",
    "- 단순히 \"병원에 가보세요\"와 같이 정보적 가치가 거의 없는 답변\n",
    "\n",
    "위 조건에 모두 해당하지 않는 경우에는 True를 반환합니다.\n",
    "\"\"\"\n",
    "\n",
    "base_user_prompt = \"\"\"\n",
    "질문 제목: {title}\n",
    "질문 본문: {content}\n",
    "답변: {answer}\n",
    "\"\"\""
   ]
  },
  {
   "cell_type": "markdown",
   "metadata": {},
   "source": [
    "gpt-4o-mini"
   ]
  },
  {
   "cell_type": "code",
   "execution_count": 4,
   "metadata": {},
   "outputs": [
    {
     "name": "stdout",
     "output_type": "stream",
     "text": [
      "1\n"
     ]
    }
   ],
   "source": [
    "encoding = tiktoken.encoding_for_model('gpt-4o-mini')\n",
    "print(len(encoding.encode(\"hello\")))"
   ]
  },
  {
   "cell_type": "code",
   "execution_count": 26,
   "metadata": {},
   "outputs": [
    {
     "name": "stdout",
     "output_type": "stream",
     "text": [
      "Avg input tokens: 558개\n",
      "Avg output tokens: 1개\n"
     ]
    }
   ],
   "source": [
    "def count_chat_tokens(messages):\n",
    "    encoding = tiktoken.encoding_for_model('gpt-4o-mini')\n",
    "    tokens_per_message = 3  # role + content + 구조적 오버헤드\n",
    "    tokens_per_name = 1     # name 필드\n",
    "\n",
    "    num_tokens = 0\n",
    "    for message in messages:\n",
    "        num_tokens += tokens_per_message\n",
    "        for key, value in message.items():\n",
    "            num_tokens += len(encoding.encode(value))\n",
    "            if key == \"name\":\n",
    "                num_tokens += tokens_per_name\n",
    "    num_tokens += 3  # assistant 응답 시작 오버헤드\n",
    "    return num_tokens\n",
    "\n",
    "def count_output_tokens(output_text):\n",
    "    encoding = tiktoken.encoding_for_model('gpt-4o-mini')\n",
    "    return len(encoding.encode(output_text))\n",
    "\n",
    "results = []\n",
    "for sample in data:\n",
    "    title = sample['title']\n",
    "    content = sample.get('content', '')\n",
    "    answers = sample['answers']\n",
    "    \n",
    "    for a in answers:\n",
    "        if a['selected']:\n",
    "            user_prompt = base_user_prompt.format(title=title, content=content, answer=a['answer'])\n",
    "        \n",
    "            messages = [\n",
    "                {\"role\": \"system\", \"content\": filtering_system_prompt},\n",
    "                {\"role\": \"user\", \"content\": user_prompt}\n",
    "            ]\n",
    "\n",
    "            input_tokens = count_chat_tokens(messages)\n",
    "            results.append({\n",
    "                \"input_tokens\": input_tokens,\n",
    "                \"output_tokens\": 1\n",
    "            })\n",
    "\n",
    "avg_token_counts(results)"
   ]
  },
  {
   "cell_type": "markdown",
   "metadata": {},
   "source": [
    "gemini-2.0-flash"
   ]
  },
  {
   "cell_type": "code",
   "execution_count": 27,
   "metadata": {},
   "outputs": [
    {
     "name": "stdout",
     "output_type": "stream",
     "text": [
      "Avg input tokens: 513개\n",
      "Avg output tokens: 1개\n"
     ]
    }
   ],
   "source": [
    "results = []\n",
    "for sample in data:\n",
    "    title = sample['title']\n",
    "    content = sample.get('content', '')\n",
    "    answers = sample['answers']\n",
    "    \n",
    "    for a in answers:\n",
    "        if a['selected']:\n",
    "            user_prompt = base_user_prompt.format(title=title, content=content, answer=a['answer'])\n",
    "    \n",
    "            model = genai.GenerativeModel(\n",
    "                model_name='gemini-2.0-flash-001',\n",
    "                system_instruction=filtering_system_prompt\n",
    "            )\n",
    "            input_tokens = model.count_tokens(user_prompt).total_tokens\n",
    "    \n",
    "            results.append({\n",
    "                \"input_tokens\": input_tokens,\n",
    "                \"output_tokens\": 1\n",
    "            })\n",
    "\n",
    "avg_token_counts(results)"
   ]
  },
  {
   "cell_type": "markdown",
   "metadata": {},
   "source": [
    "### cleaning"
   ]
  },
  {
   "cell_type": "code",
   "execution_count": 48,
   "metadata": {},
   "outputs": [],
   "source": [
    "raw_path = \"/home/work/factchecking/PetQA/data/interim/unique_data.json\"\n",
    "with open(raw_path, \"r\", encoding=\"utf-8\") as f:\n",
    "    data = json.load(f)\n",
    "random.seed(42)\n",
    "data = random.sample(data, 1000)"
   ]
  },
  {
   "cell_type": "code",
   "execution_count": 34,
   "metadata": {},
   "outputs": [],
   "source": [
    "cleaning_system_prompt = \"\"\"\n",
    "당신의 역할은 반려동물(개, 고양이) 의료 상담 관련 질문-답변 데이터셋을 구축하기 위해, 불필요한 문구를 제거하고 표현을 정제하는 것입니다.\n",
    "아래의 클리닝 방법을 참고하여 데이터를 클리닝하세요.\n",
    "출력 형식은 반드시 아래의 JSON 형식에 따라 출력하세요. 그 외 다른 텍스트를 포함하지 마세요.\n",
    "\n",
    "### 클리닝 방법\n",
    "질문과 답변의 의미를 유지하면서 아래의 문구를 제거합니다. 이때 질문에서는 반려동물의 정보(종, 나이, 무게 등) 및 증상이 생략되지 않도록 하며, 답변에서는 진단 과정 및 치료 방법과 같은 중요한 정보가 생략되지 않도록 주의합니다.\n",
    "- 개인 정보 제거: 이름, 전화번호, 이메일, 주소 등 개인을 식별할 수 있는 정보 제거\n",
    "- 맞춤법 및 문법 수정: 문맥을 고려하여 올바른 맞춤법과 문법으로 교정\n",
    "- 구어체 수정: 공식적인 질문과 답변 형식에 맞게 문어체로 변환\n",
    "- 의미 전달에 필요하지 않은 감정 표현 제거 (예: 강아지의 이상 행동에 대해 걱정이 많으시죠?, 고양이의 이상 증상에 대해 걱정이 많으시죠? 등)\n",
    "- 인사 문구 제거 (예: 안녕하세요, 감사합니다 등)\n",
    "- 광고나 홍보 문구 제거 (예: 추가 상담을 원하시면 아래 링크를 클릭해주세요)\n",
    "- 그 외 질문과 답변에 필요없는 불필요한 문구 제거 (예: 질문 잘 읽었습니다. 등)\n",
    "\n",
    "### 출력 형식\n",
    "{\n",
    "    \"preprocessed_question\": \"\",\n",
    "    \"preprocessed_answers\": \"\"\n",
    "}  \n",
    "\"\"\"\n",
    "def remove_common_greetings(text):\n",
    "    if not isinstance(text, str):\n",
    "        return ''\n",
    "    \n",
    "    # 유니코드 특수문자(제로폭 공백 등) 제거\n",
    "    text = re.sub(r'[\\u200b\\u200c\\u200d\\u2060\\ufeff]', '', text)\n",
    "    \n",
    "    patterns = [\n",
    "        # 시작 문구\n",
    "        r'^안녕하세요.*?입니다\\.?\\s*',\n",
    "        \n",
    "        # 끝 문구\n",
    "        r'\\s*감사합니다\\.?\\s*$',\n",
    "        r'\\s*고맙습니다\\.?\\s*$',\n",
    "        r'\\s*안녕히\\s*계세요\\.?\\s*$',\n",
    "        r'\\s*안녕히\\s*가세요\\.?\\s*$',\n",
    "        r'\\s*수고하세요\\.?\\s*$',\n",
    "    ]\n",
    "    \n",
    "    for pattern in patterns:\n",
    "        text = re.sub(pattern, '', text, flags=re.MULTILINE | re.UNICODE).strip()\n",
    "    \n",
    "    return text"
   ]
  },
  {
   "cell_type": "markdown",
   "metadata": {},
   "source": [
    "gpt-4o-mini"
   ]
  },
  {
   "cell_type": "code",
   "execution_count": 40,
   "metadata": {},
   "outputs": [
    {
     "name": "stdout",
     "output_type": "stream",
     "text": [
      "Avg input tokens: 695개\n",
      "Avg output tokens: 218개\n"
     ]
    }
   ],
   "source": [
    "results = []\n",
    "for sample in data:\n",
    "    title = sample['title']\n",
    "    content = sample['content']\n",
    "    answers = sample['answers']\n",
    "    for a in answers:\n",
    "        if a['selected']:\n",
    "            user_prompt = base_user_prompt.format(title=title, content=content, answer=remove_common_greetings(a['answer'])\n",
    "            messages = [\n",
    "                {\"role\": \"system\", \"content\": cleaning_system_prompt},\n",
    "                {\"role\": \"user\", \"content\": user_prompt}\n",
    "            ]\n",
    "            output_text = '''\n",
    "            {\n",
    "                \"preprocessed_question\": \"고양이가 오늘 낮부터 구토를 하고 있습니다. 사료가 섞인 구토를 하다가 방금은 하얀 토를 했습니다. 지금 밥도 먹지 않고 물도 잘 안 마시는 것 같습니다. 평소에는 활달했는데 오늘은 계속 혼자 있습니다. 지금까지 6번 정도 구토를 한 것 같고, 물도 먹지 않아 탈수증이 걱정됩니다. 많이 위험한 것은 아니겠죠? 지금도 계속 힘없이 누워 있습니다.\", \n",
    "                \"preprocessed_answer\": \"고양이가 구토를 한다면 병원에 내원하여 구토를 일으킬 만한 가능한 원인을 찾고 대증치료를 받는 것이 좋습니다. 구토가 계속되면 식욕부진이나 탈수가 발생하고, 이로 인해 신장이나 췌장 손상 또는 고양이 지방간이 발생할 수 있으므로 적극적인 처치를 받는 것이 필요합니다.\"\n",
    "            }\n",
    "            '''\n",
    "\n",
    "            input_tokens = count_chat_tokens(messages)\n",
    "            output_tokens = count_output_tokens(output_text)\n",
    "            results.append({\n",
    "                \"input_tokens\": input_tokens,\n",
    "                \"output_tokens\": output_tokens\n",
    "            })\n",
    "    \n",
    "avg_token_counts(results)"
   ]
  },
  {
   "cell_type": "markdown",
   "metadata": {},
   "source": [
    "gemini-2.0-flash"
   ]
  },
  {
   "cell_type": "code",
   "execution_count": 41,
   "metadata": {},
   "outputs": [
    {
     "name": "stdout",
     "output_type": "stream",
     "text": [
      "Avg input tokens: 644개\n",
      "Avg output tokens: 577개\n"
     ]
    }
   ],
   "source": [
    "results = []\n",
    "for sample in data:\n",
    "    title = sample['title']\n",
    "    content = sample.get('content', '')\n",
    "    answers = sample['answers']\n",
    "    \n",
    "    for a in answers:\n",
    "        if a['selected']:\n",
    "            model = genai.GenerativeModel(\n",
    "                model_name='gemini-2.0-flash-001',\n",
    "                system_instruction=cleaning_system_prompt\n",
    "            )\n",
    "            user_prompt = base_user_prompt.format(title=title, content=content, answer=remove_common_greetings(a['answer']))\n",
    "            output_text = '''\n",
    "            {\n",
    "                \"preprocessed_question\": \"고양이가 오늘 낮부터 구토를 하고 있습니다. 사료가 섞인 구토를 하다가 방금은 하얀 토를 했습니다. 지금 밥도 먹지 않고 물도 잘 안 마시는 것 같습니다. 평소에는 활달했는데 오늘은 계속 혼자 있습니다. 지금까지 6번 정도 구토를 한 것 같고, 물도 먹지 않아 탈수증이 걱정됩니다. 많이 위험한 것은 아니겠죠? 지금도 계속 힘없이 누워 있습니다.\", \n",
    "                \"preprocessed_answer\": \"고양이가 구토를 한다면 병원에 내원하여 구토를 일으킬 만한 가능한 원인을 찾고 대증치료를 받는 것이 좋습니다. 구토가 계속되면 식욕부진이나 탈수가 발생하고, 이로 인해 신장이나 췌장 손상 또는 고양이 지방간이 발생할 수 있으므로 적극적인 처치를 받는 것이 필요합니다.\"\n",
    "            }\n",
    "            '''\n",
    "            \n",
    "            input_tokens = model.count_tokens(user_prompt).total_tokens\n",
    "            output_tokens = model.count_tokens(output_text).total_tokens\n",
    "            results.append({\n",
    "                \"input_tokens\": input_tokens,\n",
    "                \"output_tokens\": output_tokens\n",
    "            })\n",
    "\n",
    "avg_token_counts(results)"
   ]
  },
  {
   "cell_type": "markdown",
   "metadata": {},
   "source": [
    "## 답변 생성"
   ]
  },
  {
   "cell_type": "markdown",
   "metadata": {},
   "source": [
    "open LLM"
   ]
  },
  {
   "cell_type": "code",
   "execution_count": 112,
   "metadata": {},
   "outputs": [],
   "source": [
    "from transformers import AutoTokenizer, AutoModelForCausalLM\n",
    "import torch\n",
    "\n",
    "\n",
    "df = pd.read_json(\"test_data/output_gpt-4o-mini.json\")\n",
    "system_prompt = \"\"\"\n",
    "당신은 반려동물(개, 고양이) 의료 상담 전문 수의사입니다.\n",
    "당신의 역할은 개, 고양이 관련 의료 질문에 대해 유용하고, 완전하며, 전문적인 지식에 기반한 정확한 답변을 하는 것입니다.\n",
    "질문에 대해 차근차근 생각하며 답변하고, 답변 문장의 개수는 최대 5개를 넘지 마세요.\n",
    "\"\"\"\n",
    "base_user_prompt = \"\"\"\n",
    "제목: {title}\n",
    "본문: {content}\n",
    "답변:  \n",
    "\"\"\""
   ]
  },
  {
   "cell_type": "code",
   "execution_count": 114,
   "metadata": {},
   "outputs": [
    {
     "data": {
      "application/vnd.jupyter.widget-view+json": {
       "model_id": "468bd9bac5574e429f1de0e738581efe",
       "version_major": 2,
       "version_minor": 0
      },
      "text/plain": [
       "Loading checkpoint shards:   0%|          | 0/2 [00:00<?, ?it/s]"
      ]
     },
     "metadata": {},
     "output_type": "display_data"
    },
    {
     "name": "stdout",
     "output_type": "stream",
     "text": [
      "gemma-3-4b: 1342\n"
     ]
    },
    {
     "data": {
      "application/vnd.jupyter.widget-view+json": {
       "model_id": "0adb8ef1077b4531b897b8a9803b897c",
       "version_major": 2,
       "version_minor": 0
      },
      "text/plain": [
       "Loading checkpoint shards:   0%|          | 0/4 [00:00<?, ?it/s]"
      ]
     },
     "metadata": {},
     "output_type": "display_data"
    },
    {
     "name": "stdout",
     "output_type": "stream",
     "text": [
      "qwen-2.5-7b: 1685\n"
     ]
    },
    {
     "data": {
      "application/vnd.jupyter.widget-view+json": {
       "model_id": "b78c80f769804c738ebbc78b09fd46c5",
       "version_major": 2,
       "version_minor": 0
      },
      "text/plain": [
       "Loading checkpoint shards:   0%|          | 0/7 [00:00<?, ?it/s]"
      ]
     },
     "metadata": {},
     "output_type": "display_data"
    },
    {
     "name": "stdout",
     "output_type": "stream",
     "text": [
      "exaone-3.5-7.8b: 1197\n"
     ]
    }
   ],
   "source": [
    "import numpy as np\n",
    "\n",
    "MODEL_MAPPING = {\n",
    "    \"gemma-3-4b\": \"google/gemma-3-4b-it\",\n",
    "    \"qwen-2.5-7b\": \"Qwen/Qwen2.5-7B-Instruct\",\n",
    "    \"exaone-3.5-7.8b\": \"LGAI-EXAONE/EXAONE-3.5-7.8B-Instruct\",\n",
    "}\n",
    "model_names = [\n",
    "    'gemma-3-4b',\n",
    "    'qwen-2.5-7b',\n",
    "    'exaone-3.5-7.8b',\n",
    "]\n",
    "\n",
    "for model_name in model_names:\n",
    "    model = AutoModelForCausalLM.from_pretrained(\n",
    "        MODEL_MAPPING[model_name],\n",
    "        torch_dtype=torch.bfloat16,\n",
    "        trust_remote_code=True,\n",
    "    )\n",
    "    \n",
    "    tokenizer = AutoTokenizer.from_pretrained(\n",
    "        MODEL_MAPPING[model_name],\n",
    "    )\n",
    "    if tokenizer.pad_token is None:\n",
    "        tokenizer.pad_token = tokenizer.eos_token\n",
    "    \n",
    "    results = []\n",
    "    for idx, row in df.iterrows():\n",
    "        user_prompt = base_user_prompt.format(\n",
    "            title=row['title'],\n",
    "            content=row['content']\n",
    "        )\n",
    "        \n",
    "        messages = [\n",
    "            {\"role\": \"system\", \"content\": system_prompt},\n",
    "            {\"role\": \"user\", \"content\": user_prompt},\n",
    "            {\"role\": \"assistant\", \"content\": row['preprocessed_answer']}\n",
    "        ]\n",
    "        \n",
    "        prompt = tokenizer.apply_chat_template(messages, tokenize=False)\n",
    "        \n",
    "        tokens = tokenizer.encode(prompt, add_special_tokens=True)\n",
    "        \n",
    "        results.append(len(tokens))\n",
    "    \n",
    "    print(f\"{model_name}: {int(np.max(results))}\")"
   ]
  },
  {
   "cell_type": "code",
   "execution_count": null,
   "metadata": {},
   "outputs": [],
   "source": []
  },
  {
   "cell_type": "code",
   "execution_count": 140,
   "metadata": {},
   "outputs": [],
   "source": [
    "df = pd.read_json(\"test_data/output_gpt-4o-mini.json\")\n",
    "fewshot_df = pd.read_json(\"test_data/fewshot_examples.json\")\n",
    "fewshot_map = {row[\"id\"]: row for _, row in fewshot_df.iterrows()}\n",
    "def build_fewshot_examples(sample):\n",
    "    examples = \"\"\n",
    "    for i in range(3):\n",
    "        title = sample[\"similar_questions\"][i][\"title\"]\n",
    "        content = sample[\"similar_questions\"][i][\"content\"]\n",
    "        answer = sample[\"similar_questions\"][i][\"preprocessed_answer\"]\n",
    "        examples += f\"제목: {title}\\n본문: {content}\\n답변: {answer}\\n\\n\"\n",
    "    return examples.strip()"
   ]
  },
  {
   "cell_type": "code",
   "execution_count": 51,
   "metadata": {},
   "outputs": [
    {
     "data": {
      "text/plain": [
       "{'id': 13851,\n",
       " 'title': '치와와털이 탈모처럼 빠져요',\n",
       " 'content': '약4개월된 단모치와와키우고있는데요~ 허벅지쪽이랑 머리쪽이 특히 양쪽허벅지쪽털이 듬성듬성 탈모처럼빠지는데 이게 먼증상인가요. 동물병원 2주전갔을땐 이보단덜했는데 피부병은아니라고 곰팡이성질환일수있으니 약용샴푸써보라해서 3번정도썼거든요~ 털이너무 듬성빠져서 걱정되서요백신은 종합5차와 코로나 남은상화이구 몸무게닌 약1.2 키로일거같아요',\n",
       " 'answer': '어린 강아지인데 걱정이 많으시겠습니다. 곰팡이성질환도 피부병의 한 종류입니다. 약용샴푸로 곰팡이성 피부병이 치료될 수도 있으나 털이 듬성 듬성 더 빠지고 \\xa0심해졌다면 내복약 처방이 필요할 수 도있습니다. 곰팡이성 피부염은 보호자에게도 전염될 수 있기 때문에 반드시 병원에서 치료를 받으시길 추천합니다.',\n",
       " 'preprocessed_question': '약 4개월 된 단모 치와와를 키우고 있는데 허벅지와 머리 쪽 털이 듬성듬성 빠지는데 이게 무슨 증상인가요? 2주 전 동물병원에서는 피부병은 아니라고 했고 곰팡이성 질환일 수 있으니 약용 샴푸를 써보라고 해서 3번 정도 사용했습니다. 털이 너무 빠져서 걱정됩니다. 백신은 종합 5차와 코로나 남은 상태이며 몸무게는 약 1.2kg일 것 같습니다.',\n",
       " 'preprocessed_answer': '어린 강아지의 경우 곰팡이성 질환도 피부병의 한 종류입니다. 약용 샴푸로 곰팡이성 피부병이 치료될 수 있으나, 털이 더 많이 빠지고 악화되었다면 내복약 처방이 필요할 수 있습니다. 곰팡이성 피부염은 보호자에게도 전염될 수 있으니 반드시 병원에서 치료를 받으실 것을 권장합니다.',\n",
       " 'answer_date': '2014.10.22.',\n",
       " 'generated_answer': '4개월 된 치와와의 털 빠짐은 여러 원인으로 발생할 수 있습니다.\\n피부병이 아니라고 하셨다면, 알레르기 반응이나 스트레스, 영양 부족 등이 원인일 수 있습니다.\\n약용 샴푸를 사용한 후에도 개선되지 않는다면, 추가적인 검사가 필요할 수 있습니다.\\n특히, 영양 상태를 점검하고, 알레르기 검사를 고려해보는 것이 좋습니다.\\n정확한 진단을 위해 수의사와의 상담을 지속하시길 권장합니다.'}"
      ]
     },
     "execution_count": 51,
     "metadata": {},
     "output_type": "execute_result"
    }
   ],
   "source": [
    "file_path = \"/home/work/factchecking/PetQA/outputs/results/generated_answers/output_gpt-4o-mini_0_preprocessed.json\"\n",
    "with open(file_path, \"r\", encoding=\"utf-8\") as f:\n",
    "    data = json.load(f)\n",
    "\n",
    "random.seed(42)\n",
    "data = random.sample(data, 1000)\n",
    "data[0]"
   ]
  },
  {
   "cell_type": "code",
   "execution_count": 49,
   "metadata": {},
   "outputs": [],
   "source": [
    "base_system_prompt = \"\"\"\n",
    "당신은 반려동물(개, 고양이) 의료 상담 전문 수의사입니다.\n",
    "당신의 역할은 개, 고양이 관련 의료 질문에 대해 유용하고, 완전하며, 전문적인 지식에 기반한 정확한 답변을 하는 것입니다.\n",
    "질문에 대해 차근차근 생각하며 답변하고, 답변 문장의 개수는 최대 5개를 넘지 마세요.\n",
    "\"\"\"\n",
    "\n",
    "base_user_prompt = \"\"\"\n",
    "제목: {title}\n",
    "본문: {content}\n",
    "답변:  \n",
    "\"\"\""
   ]
  },
  {
   "cell_type": "markdown",
   "metadata": {},
   "source": [
    "gpt-4o-mini"
   ]
  },
  {
   "cell_type": "code",
   "execution_count": 53,
   "metadata": {},
   "outputs": [
    {
     "name": "stdout",
     "output_type": "stream",
     "text": [
      "Avg input tokens: 269개\n",
      "Avg output tokens: 127개\n"
     ]
    }
   ],
   "source": [
    "model = 'gpt-4o-mini'\n",
    "results = []\n",
    "for sample in data:\n",
    "    # sample = fewshot_map.get(row[\"id\"])\n",
    "    # fewshot_examples = build_fewshot_examples(sample)\n",
    "    # system_prompt = base_system_prompt.format(fewshot_examples=fewshot_examples)\n",
    "    system_prompt = base_system_prompt\n",
    "    user_prompt = base_user_prompt.format(title=sample['title'], content=sample['content'])\n",
    "    \n",
    "    messages = [\n",
    "        {\"role\": \"system\", \"content\": system_prompt},\n",
    "        {\"role\": \"user\", \"content\": user_prompt}\n",
    "    ]\n",
    "    output_text = sample['generated_answer']\n",
    "\n",
    "    input_tokens = count_chat_tokens(messages)\n",
    "    output_tokens = count_output_tokens(output_text)\n",
    "    results.append({\n",
    "        \"input_tokens\": input_tokens,\n",
    "        \"output_tokens\": output_tokens\n",
    "    })\n",
    "    \n",
    "avg_token_counts(results)"
   ]
  },
  {
   "cell_type": "code",
   "execution_count": null,
   "metadata": {},
   "outputs": [],
   "source": []
  },
  {
   "cell_type": "markdown",
   "metadata": {},
   "source": [
    "claude-3-haiku"
   ]
  },
  {
   "cell_type": "code",
   "execution_count": 55,
   "metadata": {},
   "outputs": [
    {
     "name": "stdout",
     "output_type": "stream",
     "text": [
      "Avg input tokens: 620개\n",
      "Avg output tokens: 0개\n"
     ]
    }
   ],
   "source": [
    "\n",
    "results = []\n",
    "for item in data:\n",
    "    # sample = fewshot_map.get(row[\"id\"])\n",
    "    # fewshot_examples = build_fewshot_examples(sample)\n",
    "    # system_prompt = base_system_prompt.format(fewshot_examples=fewshot_examples)\n",
    "    system_prompt = base_system_prompt\n",
    "    user_prompt = base_user_prompt.format(title=sample['title'], content=sample['content'])\n",
    "    \n",
    "    input_response = client.messages.count_tokens(\n",
    "        model=\"claude-3-haiku-20240307\",\n",
    "        system = system_prompt,\n",
    "        messages=[\n",
    "            {\"role\": \"user\", \"content\": user_prompt},\n",
    "        ],\n",
    "    )\n",
    "    \n",
    "    # output_response = client.messages.count_tokens(\n",
    "    #     model=\"claude-3-haiku-20240307\",\n",
    "    #     messages=[\n",
    "    #         {\"role\": \"user\", \"content\": row['generated_answer']},\n",
    "    #     ],\n",
    "    # )\n",
    "    \n",
    "    input_tokens = input_response.input_tokens\n",
    "    # output_tokens = output_response.input_tokens\n",
    "    output_tokens = 0\n",
    "    results.append({\n",
    "        \"input_tokens\": input_tokens,\n",
    "        \"output_tokens\": output_tokens,\n",
    "    })\n",
    "    \n",
    "avg_token_counts(results)"
   ]
  },
  {
   "cell_type": "markdown",
   "metadata": {},
   "source": [
    "gemini-2.0-flash"
   ]
  },
  {
   "cell_type": "code",
   "execution_count": 54,
   "metadata": {},
   "outputs": [
    {
     "name": "stdout",
     "output_type": "stream",
     "text": [
      "Avg input tokens: 235개\n",
      "Avg output tokens: 0개\n"
     ]
    }
   ],
   "source": [
    "results = []\n",
    "for sample in data:\n",
    "    # sample = fewshot_map.get(row[\"id\"])\n",
    "    # fewshot_examples = build_fewshot_examples(sample)\n",
    "    # system_prompt = base_system_prompt.format(fewshot_examples=fewshot_examples)\n",
    "    system_prompt = base_system_prompt\n",
    "    user_prompt = base_user_prompt.format(title=sample['title'], content=sample['content'])\n",
    "    \n",
    "    model = genai.GenerativeModel(\n",
    "        model_name='gemini-2.0-flash-001',\n",
    "        system_instruction=system_prompt\n",
    "    )\n",
    "    input_tokens = model.count_tokens(user_prompt).total_tokens\n",
    "    \n",
    "    # model = genai.GenerativeModel(\n",
    "    #     model_name='gemini-2.0-flash-001',\n",
    "    # )\n",
    "    # output_tokens = model.count_tokens(row['generated_answer']).total_tokens\n",
    "    output_tokens = 0\n",
    "    \n",
    "    results.append({\n",
    "        \"input_tokens\": input_tokens,\n",
    "        \"output_tokens\": output_tokens\n",
    "    })\n",
    "\n",
    "avg_token_counts(results)"
   ]
  },
  {
   "cell_type": "code",
   "execution_count": null,
   "metadata": {},
   "outputs": [],
   "source": []
  },
  {
   "cell_type": "code",
   "execution_count": null,
   "metadata": {},
   "outputs": [],
   "source": []
  },
  {
   "cell_type": "code",
   "execution_count": 24,
   "metadata": {},
   "outputs": [],
   "source": [
    "import matplotlib.pyplot as plt\n",
    "import pandas as pd\n",
    "import numpy as np\n",
    "\n",
    "# 제공해주신 텍스트 데이터를 구조화된 딕셔너리로 수동 파싱합니다.\n",
    "# 이 딕셔너리는 DataFrame 생성에 사용됩니다.\n",
    "data_raw = {\n",
    "    'Expert': {\n",
    "        'gpt-4o-mini': {\n",
    "            'Dog': {\n",
    "                'preprocessed': {'ROUGE': 0.261, 'BERTScore': 0.723, 'Factuality': 0.646},\n",
    "                'raw': {'ROUGE': 0.265, 'BERTScore': 0.722, 'Factuality': 0.647}\n",
    "            },\n",
    "            'Cat': {\n",
    "                'preprocessed': {'ROUGE': 0.271, 'BERTScore': 0.727, 'Factuality': 0.613},\n",
    "                'raw': {'ROUGE': 0.270, 'BERTScore': 0.724, 'Factuality': 0.606}\n",
    "            }\n",
    "        },\n",
    "        'claude-3-haiku': {\n",
    "            'Dog': {\n",
    "                'preprocessed': {'ROUGE': 0.248, 'BERTScore': 0.705, 'Factuality': 0.638},\n",
    "                'raw': {'ROUGE': 0.245, 'BERTScore': 0.699, 'Factuality': 0.622}\n",
    "            },\n",
    "            'Cat': {\n",
    "                'preprocessed': {'ROUGE': 0.251, 'BERTScore': 0.706, 'Factuality': 0.600},\n",
    "                'raw': {'ROUGE': 0.250, 'BERTScore': 0.702, 'Factuality': 0.577}\n",
    "            }\n",
    "        },\n",
    "        'gemini-2.0-flash': {\n",
    "            'Dog': {\n",
    "                'preprocessed': {'ROUGE': 0.253, 'BERTScore': 0.708, 'Factuality': 0.640},\n",
    "                'raw': {'ROUGE': 0.248, 'BERTScore': 0.701, 'Factuality': 0.633}\n",
    "            },\n",
    "            'Cat': {'preprocessed': {'ROUGE': 0.252, 'BERTScore': 0.708, 'Factuality': 0.617},\n",
    "                    'raw': {'ROUGE': 0.249, 'BERTScore': 0.701, 'Factuality': 0.604}}\n",
    "        },\n",
    "        'gemma-3-4b': {\n",
    "            'Dog': {'preprocessed': {'ROUGE': 0.234, 'BERTScore': 0.694, 'Factuality': 0.602},\n",
    "                    'raw': {'ROUGE': 0.232, 'BERTScore': 0.697, 'Factuality': 0.591}},\n",
    "            'Cat': {'preprocessed': {'ROUGE': 0.238, 'BERTScore': 0.697, 'Factuality': 0.573},\n",
    "                    'raw': {'ROUGE': 0.235, 'BERTScore': 0.699, 'Factuality': 0.564}}\n",
    "        },\n",
    "        'qwen-2.5-7b': {\n",
    "            'Dog': {'preprocessed': {'ROUGE': 0.202, 'BERTScore': 0.707, 'Factuality': 0.540},\n",
    "                    'raw': {'ROUGE': 0.206, 'BERTScore': 0.703, 'Factuality': 0.503}},\n",
    "            'Cat': {'preprocessed': {'ROUGE': 0.211, 'BERTScore': 0.709, 'Factuality': 0.506},\n",
    "                    'raw': {'ROUGE': 0.209, 'BERTScore': 0.706, 'Factuality': 0.516}}\n",
    "        },\n",
    "        'exaone-3.5-7.8b': {\n",
    "            'Dog': {'preprocessed': {'ROUGE': 0.243, 'BERTScore': 0.715, 'Factuality': 0.634},\n",
    "                    'raw': {'ROUGE': 0.243, 'BERTScore': 0.711, 'Factuality': 0.626}},\n",
    "            'Cat': {'preprocessed': {'ROUGE': 0.246, 'BERTScore': 0.713, 'Factuality': 0.575},\n",
    "                    'raw': {'ROUGE': 0.242, 'BERTScore': 0.708, 'Factuality': 0.575}}\n",
    "        }\n",
    "    },\n",
    "    'Non Expert': {\n",
    "        'gpt-4o-mini': {\n",
    "            'Dog': {'preprocessed': {'ROUGE': 0.239, 'BERTScore': 0.713, 'Factuality': 0.487},\n",
    "                    'raw': {'ROUGE': 0.245, 'BERTScore': 0.716, 'Factuality': 0.515}},\n",
    "            'Cat': {'preprocessed': {'ROUGE': 0.239, 'BERTScore': 0.717, 'Factuality': 0.460},\n",
    "                    'raw': {'ROUGE': 0.236, 'BERTScore': 0.716, 'Factuality': 0.467}}\n",
    "        },\n",
    "        'claude-3-haiku': {\n",
    "            'Dog': {'preprocessed': {'ROUGE': 0.217, 'BERTScore': 0.693, 'Factuality': 0.478},\n",
    "                    'raw': {'ROUGE': 0.216, 'BERTScore': 0.689, 'Factuality': 0.482}},\n",
    "            'Cat': {'preprocessed': {'ROUGE': 0.221, 'BERTScore': 0.695, 'Factuality': 0.455},\n",
    "                    'raw': {'ROUGE': 0.217, 'BERTScore': 0.691, 'Factuality': 0.433}}\n",
    "        },\n",
    "        'gemini-2.0-flash': {\n",
    "            'Dog': {'preprocessed': {'ROUGE': 0.209, 'BERTScore': 0.690, 'Factuality': 0.457},\n",
    "                    'raw': {'ROUGE': 0.209, 'BERTScore': 0.685, 'Factuality': 0.478}},\n",
    "            'Cat': {'preprocessed': {'ROUGE': 0.219, 'BERTScore': 0.697, 'Factuality': 0.446},\n",
    "                    'raw': {'ROUGE': 0.213, 'BERTScore': 0.688, 'Factuality': 0.440}}\n",
    "        },\n",
    "        'gemma-3-4b': {\n",
    "            'Dog': {'preprocessed': {'ROUGE': 0.194, 'BERTScore': 0.679, 'Factuality': 0.430},\n",
    "                    'raw': {'ROUGE': 0.197, 'BERTScore': 0.681, 'Factuality': 0.405}},\n",
    "            'Cat': {'preprocessed': {'ROUGE': 0.199, 'BERTScore': 0.687, 'Factuality': 0.414},\n",
    "                    'raw': {'ROUGE': 0.196, 'BERTScore': 0.687, 'Factuality': 0.414}}\n",
    "        },\n",
    "        'qwen-2.5-7b': {\n",
    "            'Dog': {'preprocessed': {'ROUGE': 0.197, 'BERTScore': 0.709, 'Factuality': 0.421},\n",
    "                    'raw': {'ROUGE': 0.196, 'BERTScore': 0.705, 'Factuality': 0.415}},\n",
    "            'Cat': {'preprocessed': {'ROUGE': 0.207, 'BERTScore': 0.714, 'Factuality': 0.383},\n",
    "                    'raw': {'ROUGE': 0.206, 'BERTScore': 0.709, 'Factuality': 0.386}}\n",
    "        },\n",
    "        'exaone-3.5-7.8b': {\n",
    "            'Dog': {'preprocessed': {'ROUGE': 0.211, 'BERTScore': 0.700, 'Factuality': 0.435},\n",
    "                    'raw': {'ROUGE': 0.206, 'BERTScore': 0.697, 'Factuality': 0.442}},\n",
    "            'Cat': {'preprocessed': {'ROUGE': 0.210, 'BERTScore': 0.704, 'Factuality': 0.416},\n",
    "                    'raw': {'ROUGE': 0.203, 'BERTScore': 0.697, 'Factuality': 0.394}}\n",
    "        }\n",
    "    }\n",
    "}\n",
    "\n",
    "# 중첩된 딕셔너리를 pandas DataFrame으로 평탄화합니다.\n",
    "flat_data = []\n",
    "for expertise, models_data in data_raw.items():\n",
    "    for model, animals_data in models_data.items():\n",
    "        for animal, process_types_data in animals_data.items():\n",
    "            for process_type, metrics_data in process_types_data.items():\n",
    "                row = {\n",
    "                    'Expertise': expertise,\n",
    "                    'Model': model,\n",
    "                    'Animal': animal,\n",
    "                    'ProcessType': process_type,\n",
    "                    **metrics_data # ROUGE, BERTScore, Factuality 지표들을 언팩하여 추가\n",
    "                }\n",
    "                flat_data.append(row)\n",
    "\n",
    "df_all = pd.DataFrame(flat_data)\n",
    "\n",
    "# 성능 시각화를 위한 함수를 정의합니다.\n",
    "def plot_performance(df_data, title, file_prefix):\n",
    "    fig, ax = plt.subplots(figsize=(10, 6))\n",
    "\n",
    "    bar_width = 0.5\n",
    "\n",
    "    # 스택 바 차트를 위한 지표별 시작 위치 계산\n",
    "    df_data['BERTScore_bottom'] = 0\n",
    "    df_data['Factuality_bottom'] = df_data['BERTScore']\n",
    "    df_data['ROUGE_bottom'] = df_data['BERTScore'] + df_data['Factuality']\n",
    "\n",
    "    # zorder를 설정하여 막대가 그리드 선 위에 오도록 플로팅합니다.\n",
    "    ax.bar(df_data['Model'], df_data['BERTScore'], bar_width, label='BERTScore', color='#6cace4', bottom=df_data['BERTScore_bottom'], zorder=3)\n",
    "    ax.bar(df_data['Model'], df_data['Factuality'], bar_width, label='Factuality', color='#e77471', bottom=df_data['Factuality_bottom'], zorder=3)\n",
    "    ax.bar(df_data['Model'], df_data['ROUGE'], bar_width, label='ROUGE', color='#fdd069', bottom=df_data['ROUGE_bottom'], zorder=3)\n",
    "\n",
    "    # y축 눈금 및 그리드 선을 설정합니다.\n",
    "    y_ticks = np.arange(0, 2.25, 0.25) # 0부터 2.0까지 0.25 간격으로 눈금 설정\n",
    "    ax.set_yticks(y_ticks)\n",
    "    ax.yaxis.grid(True, linestyle='--', alpha=0.7, zorder=0) # 그리드 선은 실선으로, 투명도 및 zorder 설정\n",
    "\n",
    "    # 레이블 및 제목 설정\n",
    "    ax.set_xlabel('Models', fontsize=12)\n",
    "    ax.set_ylabel('Score', fontsize=12)\n",
    "    ax.set_title(title, fontsize=14)\n",
    "    ax.set_ylim(0, 2.0) # y축 범위 설정\n",
    "\n",
    "    # x축 레이블 회전\n",
    "    plt.xticks(rotation=45, ha='right')\n",
    "\n",
    "    # 범례 표시\n",
    "    ax.legend(loc='upper right', fontsize=10)\n",
    "\n",
    "    plt.tight_layout() # 레이아웃 자동 조정\n",
    "    plt.savefig(f\"visualization_results/{file_prefix}.png\")\n",
    "    plt.close(fig) # 메모리 해제를 위해 figure 닫기\n",
    "\n",
    "# 생성할 4가지 시각화의 설정을 정의합니다.\n",
    "plot_configs = [\n",
    "    {'expertise': 'Expert', 'animal': 'Dog', 'process_type': 'preprocessed', 'title': 'Expert - Dog - Preprocessed'},\n",
    "    {'expertise': 'Expert', 'animal': 'Cat', 'process_type': 'preprocessed', 'title': 'Expert - Cat - Preprocessed'},\n",
    "    {'expertise': 'Non Expert', 'animal': 'Dog', 'process_type': 'preprocessed', 'title': 'Non Expert - Dog - Preprocessed'},\n",
    "    {'expertise': 'Non Expert', 'animal': 'Cat', 'process_type': 'preprocessed', 'title': 'Non Expert - Cat - Preprocessed'},\n",
    "    {'expertise': 'Expert', 'animal': 'Dog', 'process_type': 'raw', 'title': 'Expert - Dog - Raw'},\n",
    "    {'expertise': 'Expert', 'animal': 'Cat', 'process_type': 'raw', 'title': 'Expert - Cat - Raw'},\n",
    "    {'expertise': 'Non Expert', 'animal': 'Dog', 'process_type': 'raw', 'title': 'Non Expert - Dog - Raw'},\n",
    "    {'expertise': 'Non Expert', 'animal': 'Cat', 'process_type': 'raw', 'title': 'Non Expert - Cat - Raw'}\n",
    "]\n",
    "\n",
    "# 각 설정에 따라 데이터를 필터링하고 플로팅 함수를 호출합니다.\n",
    "for i, config in enumerate(plot_configs):\n",
    "    title = config['title']\n",
    "    subset_df = df_all[\n",
    "        (df_all['Expertise'] == config['expertise']) &\n",
    "        (df_all['Animal'] == config['animal']) &\n",
    "        (df_all['ProcessType'] == config['process_type'])\n",
    "    ].copy() # SettingWithCopyWarning을 피하기 위해 .copy() 사용\n",
    "\n",
    "    plot_performance(subset_df, config['title'], f\"{title}\")"
   ]
  },
  {
   "cell_type": "code",
   "execution_count": 22,
   "metadata": {},
   "outputs": [
    {
     "data": {
      "text/html": [
       "<div>\n",
       "<style scoped>\n",
       "    .dataframe tbody tr th:only-of-type {\n",
       "        vertical-align: middle;\n",
       "    }\n",
       "\n",
       "    .dataframe tbody tr th {\n",
       "        vertical-align: top;\n",
       "    }\n",
       "\n",
       "    .dataframe thead th {\n",
       "        text-align: right;\n",
       "    }\n",
       "</style>\n",
       "<table border=\"1\" class=\"dataframe\">\n",
       "  <thead>\n",
       "    <tr style=\"text-align: right;\">\n",
       "      <th></th>\n",
       "      <th>Expertise</th>\n",
       "      <th>Model</th>\n",
       "      <th>Animal</th>\n",
       "      <th>ProcessType</th>\n",
       "      <th>ROUGE</th>\n",
       "      <th>BERTScore</th>\n",
       "      <th>Factuality</th>\n",
       "    </tr>\n",
       "  </thead>\n",
       "  <tbody>\n",
       "    <tr>\n",
       "      <th>0</th>\n",
       "      <td>Expert</td>\n",
       "      <td>gpt-4o-mini</td>\n",
       "      <td>Dog</td>\n",
       "      <td>preprocessed</td>\n",
       "      <td>0.261</td>\n",
       "      <td>0.723</td>\n",
       "      <td>0.646</td>\n",
       "    </tr>\n",
       "    <tr>\n",
       "      <th>1</th>\n",
       "      <td>Expert</td>\n",
       "      <td>gpt-4o-mini</td>\n",
       "      <td>Dog</td>\n",
       "      <td>raw</td>\n",
       "      <td>0.265</td>\n",
       "      <td>0.722</td>\n",
       "      <td>0.647</td>\n",
       "    </tr>\n",
       "    <tr>\n",
       "      <th>2</th>\n",
       "      <td>Expert</td>\n",
       "      <td>gpt-4o-mini</td>\n",
       "      <td>Cat</td>\n",
       "      <td>preprocessed</td>\n",
       "      <td>0.271</td>\n",
       "      <td>0.727</td>\n",
       "      <td>0.613</td>\n",
       "    </tr>\n",
       "    <tr>\n",
       "      <th>3</th>\n",
       "      <td>Expert</td>\n",
       "      <td>gpt-4o-mini</td>\n",
       "      <td>Cat</td>\n",
       "      <td>raw</td>\n",
       "      <td>0.270</td>\n",
       "      <td>0.724</td>\n",
       "      <td>0.606</td>\n",
       "    </tr>\n",
       "    <tr>\n",
       "      <th>4</th>\n",
       "      <td>Expert</td>\n",
       "      <td>claude-3-haiku</td>\n",
       "      <td>Dog</td>\n",
       "      <td>preprocessed</td>\n",
       "      <td>0.248</td>\n",
       "      <td>0.705</td>\n",
       "      <td>0.638</td>\n",
       "    </tr>\n",
       "  </tbody>\n",
       "</table>\n",
       "</div>"
      ],
      "text/plain": [
       "  Expertise           Model Animal   ProcessType  ROUGE  BERTScore  Factuality\n",
       "0    Expert     gpt-4o-mini    Dog  preprocessed  0.261      0.723       0.646\n",
       "1    Expert     gpt-4o-mini    Dog           raw  0.265      0.722       0.647\n",
       "2    Expert     gpt-4o-mini    Cat  preprocessed  0.271      0.727       0.613\n",
       "3    Expert     gpt-4o-mini    Cat           raw  0.270      0.724       0.606\n",
       "4    Expert  claude-3-haiku    Dog  preprocessed  0.248      0.705       0.638"
      ]
     },
     "execution_count": 22,
     "metadata": {},
     "output_type": "execute_result"
    }
   ],
   "source": [
    "df_all.head()"
   ]
  },
  {
   "cell_type": "code",
   "execution_count": 16,
   "metadata": {},
   "outputs": [
    {
     "data": {
      "image/png": "[encoded data removed]",
      "text/plain": [
       "<Figure size 800x600 with 1 Axes>"
      ]
     },
     "metadata": {},
     "output_type": "display_data"
    }
   ],
   "source": [
    "import matplotlib.pyplot as plt\n",
    "import pandas as pd\n",
    "import numpy as np\n",
    "\n",
    "# 첫 번째 이미지의 표에서 데이터를 추출하여 DataFrame으로 만듭니다.\n",
    "# 'Dog' 컬럼의 'preprocessed' 데이터를 사용합니다.\n",
    "data = {\n",
    "    'Model': ['gpt-4o-mini', 'claude-3-haiku', 'gemini-2.0-flash', 'gemma-3-4b', 'qwen-2.5-7b', 'exaone-3.5-7.8b'],\n",
    "    'ROUGE': [0.261, 0.248, 0.253, 0.234, 0.202, 0.243],\n",
    "    'BERTScore': [0.723, 0.705, 0.708, 0.694, 0.707, 0.715],\n",
    "    'Factuality': [0.646, 0.638, 0.640, 0.602, 0.540, 0.634]\n",
    "}\n",
    "df = pd.DataFrame(data)\n",
    "\n",
    "# 각 지표를 누적하여 그래프를 그립니다.\n",
    "# 일반적으로 BERTScore가 가장 크고, ROUGE와 Factuality는 그보다 작으므로\n",
    "# BERTScore, Factuality, ROUGE 순으로 누적하여 그리는 것이 두 번째 이미지와 유사합니다.\n",
    "# (단, 두 번째 이미지의 y축 스케일은 각 지표의 값 합계와 일치하는 것으로 보입니다.)\n",
    "\n",
    "# 스택 바 차트를 위한 각 지표의 시작 위치 계산\n",
    "# BERTScore가 가장 아래에, 그 위에 Factuality, 그 위에 ROUGE가 쌓이도록 합니다.\n",
    "df['BERTScore_bottom'] = 0\n",
    "df['Factuality_bottom'] = df['BERTScore']\n",
    "df['ROUGE_bottom'] = df['BERTScore'] + df['Factuality']\n",
    "\n",
    "# 그래프 생성\n",
    "fig, ax = plt.subplots(figsize=(8, 6))\n",
    "\n",
    "bar_width = 0.5\n",
    "\n",
    "# BERTScore 바\n",
    "ax.bar(df['Model'], df['BERTScore'], bar_width, label='BERTScore', color='#6cace4', bottom=df['BERTScore_bottom'], zorder=3)\n",
    "# Factuality 바\n",
    "ax.bar(df['Model'], df['Factuality'], bar_width, label='Factuality', color='#e77471', bottom=df['Factuality_bottom'], zorder=3)\n",
    "# ROUGE 바\n",
    "ax.bar(df['Model'], df['ROUGE'], bar_width, label='ROUGE', color='#fdd069', bottom=df['ROUGE_bottom'], zorder=3)\n",
    "\n",
    "y_ticks = np.arange(0, 2.25, 0.25) # 0부터 2.0까지 0.25 간격으로 (상한 포함을 위해 2.25로 설정)\n",
    "ax.set_yticks(y_ticks)\n",
    "ax.yaxis.grid(True, linestyle='--', alpha=0.7) # 가로선을 점선이 아닌 실선으로, 투명도 조정\n",
    "\n",
    "# 레이블 및 제목 설정\n",
    "ax.set_xlabel('Model', fontsize=12)\n",
    "ax.set_ylabel('Score', fontsize=12)\n",
    "ax.set_title('Dog', fontsize=14)\n",
    "ax.set_ylim(0, 2.0)\n",
    "\n",
    "# x축 레이블 회전 (모델 이름이 길 경우)\n",
    "plt.xticks(rotation=45, ha='right')\n",
    "\n",
    "# 범례 표시\n",
    "ax.legend(loc='upper right') # 범례 위치 조정\n",
    "\n",
    "plt.tight_layout() # 레이아웃 자동 조정\n",
    "plt.show()"
   ]
  },
  {
   "cell_type": "code",
   "execution_count": 1,
   "metadata": {},
   "outputs": [
    {
     "name": "stdout",
     "output_type": "stream",
     "text": [
      "/home/work/factchecking/miniconda3/envs/vllm/bin/python\n"
     ]
    }
   ],
   "source": []
  },
  {
   "cell_type": "code",
   "execution_count": 1,
   "metadata": {},
   "outputs": [
    {
     "name": "stdout",
     "output_type": "stream",
     "text": [
      "['Thierry Henry is a French coach.', 'Thierry Henry is a professional coach.', 'Thierry Henry is a football coach.', 'He was born in 1977.']\n",
      "['Atomic fact one.', 'Atomic fact two.', 'Another fact.']\n"
     ]
    }
   ],
   "source": [
    "def parse_atomic_facts_output(text):\n",
    "    \"\"\"\n",
    "    주어진 텍스트에서 '문장: ~' 부분을 제외하고 원자적 사실 목록을 추출합니다.\n",
    "    예시:\n",
    "    \"문장: Thierry Henry is a French professional football coach.\n",
    "    - Thierry Henry is a French coach.\n",
    "    - Thierry Henry is a professional coach.\n",
    "    - Thierry Henry is a football coach.\"\n",
    "    -> [\"Thierry Henry is a French coach.\", \"Thierry Henry is a professional coach.\", \"Thierry Henry is a football coach.\"]\n",
    "    \"\"\"\n",
    "    lines = text.strip().split('\\n')\n",
    "    atomic_facts = []\n",
    "\n",
    "    # 첫 번째 줄이 '문장: ~' 형식일 경우 건너뜁니다.\n",
    "    # 그 외의 경우, 모든 줄을 원자적 사실로 간주합니다.\n",
    "    start_index = 0\n",
    "    if lines and lines[0].startswith(\"문장:\"):\n",
    "        start_index = 1\n",
    "\n",
    "    for i in range(start_index, len(lines)):\n",
    "        line = lines[i].strip()\n",
    "        if line.startswith('- '):\n",
    "            fact = line[2:].strip() # '- ' 부분을 제거하고 공백을 정리합니다.\n",
    "            # 마지막 문자가 마침표가 아니면 추가합니다 (필요에 따라).\n",
    "            if fact and fact[-1] != '.':\n",
    "                fact += '.'\n",
    "            atomic_facts.append(fact)\n",
    "        elif line: # '- '로 시작하지 않지만 내용이 있는 줄도 사실로 간주할 경우 (선택 사항)\n",
    "            # 이 부분은 필요에 따라 주석 처리하거나 수정할 수 있습니다.\n",
    "            # 현재는 '- '로 시작하는 줄만 처리하도록 되어 있습니다.\n",
    "            pass\n",
    "            \n",
    "    return atomic_facts\n",
    "\n",
    "# 사용 예시:\n",
    "text_example = \"\"\"문장: Thierry Henry is a French professional football coach.\n",
    "- Thierry Henry is a French coach.\n",
    "- Thierry Henry is a professional coach.\n",
    "- Thierry Henry is a football coach.\n",
    "- He was born in 1977.\n",
    "\"\"\"\n",
    "\n",
    "facts = parse_atomic_facts_output(text_example)\n",
    "print(facts)\n",
    "\n",
    "text_example_no_sentence_header = \"\"\"- Atomic fact one.\n",
    "- Atomic fact two.\n",
    "- Another fact.\"\"\"\n",
    "\n",
    "facts_no_header = parse_atomic_facts_output(text_example_no_sentence_header)\n",
    "print(facts_no_header)"
   ]
  },
  {
   "cell_type": "code",
   "execution_count": null,
   "metadata": {},
   "outputs": [],
   "source": []
  },
  {
   "cell_type": "code",
   "execution_count": null,
   "metadata": {},
   "outputs": [],
   "source": []
  },
  {
   "cell_type": "code",
   "execution_count": 16,
   "metadata": {},
   "outputs": [
    {
     "name": "stderr",
     "output_type": "stream",
     "text": [
      "/home/work/factchecking/miniconda3/envs/vllm/lib/python3.12/site-packages/tqdm/auto.py:21: TqdmWarning: IProgress not found. Please update jupyter and ipywidgets. See https://ipywidgets.readthedocs.io/en/stable/user_install.html\n",
      "  from .autonotebook import tqdm as notebook_tqdm\n",
      "The following generation flags are not valid and may be ignored: ['temperature']. Set `TRANSFORMERS_VERBOSITY=info` for more details.\n"
     ]
    },
    {
     "name": "stdout",
     "output_type": "stream",
     "text": [
      "증상이 경한 감기일 수도 있지만, 심혈관계 질환이나 다른 질환일 수도 있습니다. 병원에 내원하여 검사받기를 권장합니다.\n"
     ]
    }
   ],
   "source": [
    "from transformers import AutoModelForCausalLM, AutoTokenizer\n",
    "import torch\n",
    "\n",
    "use_raw_format = False\n",
    "model_name = \"exaone-3.5-7.8b\"\n",
    "suffix = \"raw\" if use_raw_format else \"preprocessed\"\n",
    "fintuned_path = f'data/outputs/{model_name}_petqa_{suffix}/best_model'\n",
    "\n",
    "system_prompt = \"당신은 반려동물(개, 고양이) 의료 상담 전문 수의사입니다.\\n당신의 역할은 개(강아지), 고양이 관련 의료 질문에 대해 유용하고, 완전하며, 전문적인 지식에 기반한 정확한 답변을 하는 것입니다.\\n질문에 대해 차근차근 생각하며 답변하고, 답변 문장의 개수는 최대 5개를 넘지 마세요.\"\n",
    "        \n",
    "\n",
    "model = AutoModelForCausalLM.from_pretrained(\n",
    "    fintuned_path,\n",
    "    trust_remote_code=True,\n",
    "    torch_dtype=torch.bfloat16,\n",
    "    device_map=\"auto\"\n",
    ")\n",
    "tokenizer = AutoTokenizer.from_pretrained(\n",
    "    fintuned_path,\n",
    ")\n",
    "\n",
    "def generate_answer(model, tokenizer, question, system_prompt=None):\n",
    "    \"\"\"질문에 대한 답변 생성\"\"\"\n",
    "    \n",
    "    system_prompt = \"당신은 반려동물(개, 고양이) 의료 상담 전문 수의사입니다.\\n당신의 역할은 개(강아지), 고양이 관련 의료 질문에 대해 유용하고, 완전하며, 전문적인 지식에 기반한 정확한 답변을 하는 것입니다.\\n질문에 대해 차근차근 생각하며 답변하고, 답변 문장의 개수는 최대 5개를 넘지 마세요.\"\n",
    "    \n",
    "    # 메시지 구성\n",
    "    messages = [\n",
    "        {\"role\": \"system\", \"content\": system_prompt},\n",
    "        {\"role\": \"user\", \"content\": question}\n",
    "    ]\n",
    "    \n",
    "    # 채팅 템플릿 적용\n",
    "    prompt = tokenizer.apply_chat_template(\n",
    "        messages, \n",
    "        tokenize=False, \n",
    "        add_generation_prompt=True\n",
    "    )\n",
    "    \n",
    "    # 토큰화\n",
    "    inputs = tokenizer(\n",
    "        prompt, \n",
    "        return_tensors=\"pt\", \n",
    "        truncation=True, \n",
    "        max_length=4096\n",
    "    )\n",
    "    \n",
    "    # GPU로 이동 (모델이 GPU에 있는 경우)\n",
    "    if model.device.type == 'cuda':\n",
    "        inputs = {k: v.to(model.device) for k, v in inputs.items()}\n",
    "    \n",
    "    # 답변 생성\n",
    "    with torch.no_grad():\n",
    "        outputs = model.generate(\n",
    "            **inputs,\n",
    "            max_new_tokens=2048,\n",
    "            do_sample=False,\n",
    "            temperature=0,\n",
    "        )\n",
    "    \n",
    "    # 생성된 텍스트 디코딩 (입력 프롬프트 제외)\n",
    "    generated_tokens = outputs[0][inputs['input_ids'].shape[1]:]\n",
    "    generated_text = tokenizer.decode(generated_tokens, skip_special_tokens=True)\n",
    "    \n",
    "    return generated_text.strip()"
   ]
  },
  {
   "cell_type": "code",
   "execution_count": 17,
   "metadata": {},
   "outputs": [
    {
     "name": "stderr",
     "output_type": "stream",
     "text": [
      "The following generation flags are not valid and may be ignored: ['temperature']. Set `TRANSFORMERS_VERBOSITY=info` for more details.\n"
     ]
    },
    {
     "name": "stdout",
     "output_type": "stream",
     "text": [
      "경련의 원인은 다양하며, 뇌수두증, 후두골 이형성, 소뇌형성 부전, 뇌종양, 뇌수막염, 뇌수두증, 후두골형성 부전, 뇌수두증, 뇌수막염, 뇌척수염, 뇌수두증, 후두골형성 부전, 뇌수두증, 뇌종양, 뇌수막염, 뇌수두증, 후두골형성 부전, 뇌수두증, 뇌종양, 뇌수막염, 뇌수두증, 후두골형성 부전, 뇌수두증, 뇌종양, 뇌수막염, 뇌수두증, 후두골형성 부전, 뇌수두증, 뇌종양, 뇌수막염, 뇌수두증, 후두골형성 부전, 뇌수두증, 뇌종양, 뇌수막염, 뇌수두증, 후두골형성 부전, 뇌수두증, 뇌종양, 뇌수막염, 뇌수두증, 후두골형성 부전, 뇌수두증, 뇌종양, 뇌수막염, 뇌수두증, 후두골형성 부전, 뇌수두증, 뇌종양, 뇌수막염, 뇌수두증, 후두골형성 부전, 뇌수두증, 뇌종양, 뇌수막염, 뇌수두증, 후두골형성 부전, 뇌수두증, 뇌종양, 뇌수막염, 뇌수두증, 후두골형성 부전, 뇌수두증, 뇌종양, 뇌수막염, 뇌수두증, 후두골형성 부전, 뇌수두증, 뇌종양, 뇌수막염, 뇌수두증, 후두골형성 부전, 뇌수두증, 뇌종양, 뇌수막염, 뇌수두증, 후두골형성 부전, 뇌수두증, 뇌종양, 뇌수막염, 뇌수두증, 후두골형성 부전, 뇌수두증, 뇌종양, 뇌수막염, 뇌수두증, 후두골형성 부전, 뇌수두증, 뇌종양, 뇌수막염, 뇌수두증, 후두골형성 부전, 뇌수두증, 뇌종양, 뇌수막염, 뇌수두증, 후두골형성 부전, 뇌수두증, 뇌종양, 뇌수막염, 뇌수두증, 후두골형성 부전, 뇌수두증, 뇌종양, 뇌수막염, 뇌수두증, 후두골형성 부전, 뇌수두증, 뇌종양, 뇌수막염, 뇌수두증, 후두골형성 부전, 뇌수두증, 뇌종양, 뇌수막염, 뇌수두증, 후두골형성 부전, 뇌수두증, 뇌종양, 뇌수막염, 뇌수두증, 후두골형성 부전, 뇌수두증, 뇌종양, 뇌수막염, 뇌수두증, 후두골형성 부전, 뇌수두증, 뇌종양, 뇌수막염, 뇌수두증, 후두골형성 부전, 뇌수두증, 뇌종양, 뇌수막염, 뇌수두증, 후두골형성 부전, 뇌수두증, 뇌종양, 뇌수막염, 뇌수두증, 후두골형성 부전, 뇌수두증, 뇌종양, 뇌수막염, 뇌수두증, 후두골형성 부전, 뇌수두증, 뇌종양, 뇌수막염, 뇌수두증, 후두골형성 부전, 뇌수두증, 뇌종양, 뇌수막염, 뇌수두증, 후두골형성 부전, 뇌수두증, 뇌종양, 뇌수막염, 뇌수두증, 후두골형성 부전, 뇌수두증, 뇌종양, 뇌수막염, 뇌수두증, 후두골형성 부전, 뇌수두증, 뇌종양, 뇌수막염, 뇌수두증, 후두골형성 부전, 뇌수두증, 뇌종양, 뇌수막염, 뇌수두증, 후두골형성 부전, 뇌수두증, 뇌종양, 뇌수막염, 뇌수두증, 후두골형성 부전, 뇌수두증, 뇌종양, 뇌수막염, 뇌수두증, 후두골형성 부전, 뇌수두증, 뇌종양, 뇌수막염, 뇌수두증, 후두골형성 부전, 뇌수두증, 뇌종양, 뇌수막염, 뇌수두증, 후두골형성 부전, 뇌수두증, 뇌종양, 뇌수막염, 뇌수두증, 후두골형성 부전, 뇌수두증, 뇌종양, 뇌수막염, 뇌수두증, 후두골형성 부전, 뇌수두증, 뇌종양, 뇌수막염, 뇌수두증, 후두골형성 부전, 뇌수두증, 뇌종양, 뇌수막염, 뇌수두증, 후두골형성 부전, 뇌수두증, 뇌종양, 뇌수막염, 뇌수두증, 후두골형성 부전, 뇌수두증, 뇌종양, 뇌수막염, 뇌수두증, 후두골형성 부전, 뇌수두증, 뇌종양, 뇌수막염, 뇌수두증, 후두골형성 부전, 뇌수두증, 뇌종양, 뇌수막염, 뇌수두증, 후두골형성 부전, 뇌수두증, 뇌종양, 뇌수막염, 뇌수두증, 후두골형성 부전, 뇌수두증, 뇌종양, 뇌수막염, 뇌수두증, 후두골형성 부전, 뇌수두증, 뇌종양, 뇌수막염, 뇌수두증, 후두골형성 부전, 뇌수두증, 뇌종양, 뇌수막염, 뇌수두증, 후두골형성 부전, 뇌수두증, 뇌종양, 뇌수막염, 뇌수두증, 후두골형성 부전, 뇌수두증, 뇌종양, 뇌수막염, 뇌수두증, 후두골형성 부전, 뇌수두증, 뇌종양, 뇌수막염, 뇌수두증, 후두골형성 부전, 뇌수두증, 뇌종양, 뇌수막염, 뇌수두증, 후두골형성 부전, 뇌수두증, 뇌종양, 뇌수막염, 뇌수두증, 후두골형성 부전, 뇌수두증, 뇌종양, 뇌수막염, 뇌수두증, 후두골형성 부전, 뇌수두증, 뇌종양, 뇌수막염, 뇌수두증, 후두골형성 부전, 뇌수두증, 뇌종양, 뇌수막염, 뇌수두증, 후두골형성 부전, 뇌수두증, 뇌종양, 뇌수막염, 뇌수두증, 후두골형성 부전, 뇌수두증, 뇌종양, 뇌수막염, 뇌수두증, 후두골형성 부전, 뇌수두증, 뇌종양, 뇌수막염, 뇌수두증, 후두골형성 부전, 뇌수두증, 뇌종양, 뇌수막염, 뇌수두증, 후두골형성 부전, 뇌수두증, 뇌종양, 뇌수막염, 뇌수두증, 후두골형성 부전, 뇌수두증, 뇌종양, 뇌수막염, 뇌수두증, 뇌수두증, 뇌수막염, 뇌수두증, 후두골형성 부전, 뇌수두증, 뇌종양, 뇌수막염, 뇌수두증, 후두골형성 부전, 뇌수두증, 뇌종양, 뇌수막염, 뇌수두증, 후두골형성 부전, 뇌수두증, 뇌종양, 뇌수막염, 뇌수두증, 후두골형성 부전, 뇌수두증, 뇌종양, 뇌수막염, 뇌수두증, 후두골형성 부전, 뇌수두증, 뇌종양, 뇌수막염, 뇌수두증, 후두골형성 부전, 뇌수두증, 뇌종양, 뇌수막염, 뇌수두증, 후두골형성 부전, 뇌수두증, 뇌종양, 뇌수막염, 뇌수두증, 후두골형성 부전, 뇌수두증, 뇌종양, 뇌수막염, 뇌수두증, 후두골형성 부전, 뇌수두증, 뇌종양, 뇌수막염, 뇌수두증, 후두골형성 부전, 뇌수두증, 뇌종양, 뇌수막염, 뇌수두증, 후두골형성 부전, 뇌수두증, 뇌종양, 뇌수막염, 뇌수두증, 후두골형성 부전, 뇌수두증, 뇌종양, 뇌수막염, 뇌수두증, 후두골형성 부전, 뇌수두증, 뇌종양, 뇌수막염, 뇌수두증, 후두골형성 부전, 뇌수두증, 뇌종양, 뇌수막염, 뇌수두증, 후두골형성 부전, 뇌수두증, 뇌종양, 뇌수막염, 뇌수두증, 뇌수두증, 뇌수막염, 뇌수두증, 뇌수두증, 뇌종양, 뇌수두증, 뇌수막염, 뇌수두증, 뇌수두증, 뇌종양, 뇌수막염, 뇌수두증, 뇌수두증, 뇌수막염, 뇌수두증, 뇌수두증, 뇌종양, 뇌수두증, 뇌수막염, 뇌수두증, 뇌수두증, 뇌종양, 뇌수두증, 뇌수막염, 뇌수두증, 뇌수두증, 뇌종양, 뇌수두증, 뇌수막염, 뇌수두증, 뇌수두증, 뇌종양, 뇌수두증, 뇌수막염, 뇌수두증, 뇌수두증, 뇌종양, 뇌수두증, 뇌수막염, 뇌수두증, 뇌수\n"
     ]
    }
   ],
   "source": [
    "question = \"질문: 강아지(코카 스파니엘, 4세, 11kg)가 2주 전부터 온몸이 뻣뻣해지며 경련을 일으켰고, 경련 후에는 밥을 먹지 않습니다. 최근에도 또 경련을 일으켰습니다. 어디에 문제가 있는지, 예상되는 질병은 무엇인지 알려주십시오.\\n답변: \"\n",
    "print(generate_answer(model, tokenizer, question))"
   ]
  },
  {
   "cell_type": "code",
   "execution_count": 20,
   "metadata": {},
   "outputs": [
    {
     "data": {
      "text/plain": [
       "'[PAD]'"
      ]
     },
     "execution_count": 20,
     "metadata": {},
     "output_type": "execute_result"
    }
   ],
   "source": [
    "def evaluate_on_train_samples(model, tokenizer, train_data, formatting_func, num_samples=5, device=\"cuda\"):\n",
    "    \"\"\"\n",
    "    학습에 사용된 train set 일부 샘플에 대해 모델 응답을 확인하는 함수\n",
    "    \"\"\"\n",
    "    model.eval()\n",
    "    model.to(device)\n",
    "\n",
    "    print(\"=\" * 50)\n",
    "    print(f\"Train 샘플 {num_samples}개에 대해 모델 응답 확인\")\n",
    "    print(\"=\" * 50)\n",
    "\n",
    "    for i in range(num_samples):\n",
    "        sample = train_data[i]\n",
    "        prompt = formatting_func(sample)\n",
    "        \n",
    "        inputs = tokenizer(prompt, return_tensors=\"pt\").to(device)\n",
    "\n",
    "        with torch.no_grad():\n",
    "            output_ids = model.generate(\n",
    "                input_ids=inputs[\"input_ids\"],\n",
    "                attention_mask=inputs[\"attention_mask\"],\n",
    "                max_new_tokens=256,\n",
    "                do_sample=True,\n",
    "                temperature=0.8,\n",
    "                top_p=0.95,\n",
    "                top_k=50,\n",
    "                repetition_penalty=1.2,\n",
    "                eos_token_id=tokenizer.eos_token_id,\n",
    "                pad_token_id=tokenizer.pad_token_id\n",
    "            )\n",
    "\n",
    "        decoded_output = tokenizer.decode(output_ids[0], skip_special_tokens=True)\n",
    "\n",
    "        print(f\"\\n[Sample {i+1}]\")\n",
    "        print(\"-\" * 30)\n",
    "        print(\"[Prompt]\")\n",
    "        print(prompt)\n",
    "        print(\"\\n[Generated Answer]\")\n",
    "        print(decoded_output.replace(prompt, \"\").strip())  # 출력에서 프롬프트 제거\n",
    "        print(\"-\" * 30)\n"
   ]
  },
  {
   "cell_type": "code",
   "execution_count": 3,
   "metadata": {},
   "outputs": [
    {
     "name": "stdout",
     "output_type": "stream",
     "text": [
      "✅ Valid JSON format\n"
     ]
    }
   ],
   "source": [
    "import json\n",
    "file_path = \"data/eval/output_exaone-3.5-7.8b_petqa_0.json\"\n",
    "with open(file_path, 'r') as f:\n",
    "    try:\n",
    "        data = json.load(f)\n",
    "        print(\"✅ Valid JSON format\")\n",
    "    except json.JSONDecodeError as e:\n",
    "        print(f\"❌ JSON decode error: {e}\")\n"
   ]
  },
  {
   "cell_type": "code",
   "execution_count": 1,
   "metadata": {},
   "outputs": [
    {
     "name": "stdout",
     "output_type": "stream",
     "text": [
      "2\n",
      "NVIDIA H100 80GB HBM3\n"
     ]
    }
   ],
   "source": [
    "import torch\n",
    "print(torch.cuda.device_count())\n",
    "print(torch.cuda.get_device_name(0) if torch.cuda.is_available() else \"CUDA not available\")\n"
   ]
  },
  {
   "cell_type": "code",
   "execution_count": 10,
   "metadata": {},
   "outputs": [],
   "source": [
    "def generate_answer(model, tokenizer, question, system_prompt=None):\n",
    "    \"\"\"질문에 대한 답변 생성\"\"\"\n",
    "    \n",
    "    # 기본 시스템 프롬프트 설정\n",
    "    if system_prompt is None:\n",
    "        system_prompt = \"당신은 반려동물(개, 고양이) 의료 상담 전문 수의사입니다.\\n당신의 역할은 개(강아지), 고양이 관련 의료 질문에 대해 유용하고, 완전하며, 전문적인 지식에 기반한 정확한 답변을 하는 것입니다.\\n답변 외의 문장은 포함하지 마세요.\"\n",
    "    \n",
    "    # 메시지 구성\n",
    "    messages = [\n",
    "        {\"role\": \"system\", \"content\": system_prompt},\n",
    "        {\"role\": \"user\", \"content\": question}\n",
    "    ]\n",
    "    \n",
    "    # 채팅 템플릿 적용\n",
    "    prompt = tokenizer.apply_chat_template(\n",
    "        messages, \n",
    "        tokenize=False, \n",
    "        add_generation_prompt=True\n",
    "    )\n",
    "    \n",
    "    # 토큰화\n",
    "    inputs = tokenizer(\n",
    "        prompt, \n",
    "        return_tensors=\"pt\", \n",
    "        truncation=True, \n",
    "        max_length=4096\n",
    "    )\n",
    "    \n",
    "    # GPU로 이동 (모델이 GPU에 있는 경우)\n",
    "    if model.device.type == 'cuda':\n",
    "        inputs = {k: v.to(model.device) for k, v in inputs.items()}\n",
    "    \n",
    "    # 답변 생성\n",
    "    with torch.no_grad():\n",
    "        outputs = model.generate(\n",
    "            **inputs,\n",
    "            max_new_tokens=2048,\n",
    "            do_sample=True,\n",
    "            temperature=0.1,\n",
    "            top_p=0.1,\n",
    "            top_k=50,\n",
    "            repetition_penalty=1.2,\n",
    "            eos_token_id=tokenizer.eos_token_id,\n",
    "            pad_token_id=tokenizer.pad_token_id,\n",
    "            use_cache=True\n",
    "        )\n",
    "    \n",
    "    # 생성된 텍스트 디코딩 (입력 프롬프트 제외)\n",
    "    generated_tokens = outputs[0][inputs['input_ids'].shape[1]:]\n",
    "    generated_text = tokenizer.decode(generated_tokens, skip_special_tokens=True)\n",
    "    \n",
    "    return generated_text.strip()"
   ]
  },
  {
   "cell_type": "code",
   "execution_count": null,
   "metadata": {},
   "outputs": [
    {
     "ename": "ValueError",
     "evalue": "Using a `device_map`, `tp_plan`, `torch.device` context manager or setting `torch.set_default_device(device)` requires `accelerate`. You can install it with `pip install accelerate`",
     "output_type": "error",
     "traceback": [
      "\u001b[31m---------------------------------------------------------------------------\u001b[39m",
      "\u001b[31mValueError\u001b[39m                                Traceback (most recent call last)",
      "\u001b[36mCell\u001b[39m\u001b[36m \u001b[39m\u001b[32mIn[14]\u001b[39m\u001b[32m, line 5\u001b[39m\n\u001b[32m      2\u001b[39m model_name = \u001b[33m\"\u001b[39m\u001b[33mexaone-3.5-7.8b\u001b[39m\u001b[33m\"\u001b[39m\n\u001b[32m      3\u001b[39m finetuned_path = \u001b[33mf\u001b[39m\u001b[33m\"\u001b[39m\u001b[33mdata/outputs/\u001b[39m\u001b[38;5;132;01m{\u001b[39;00mmodel_name\u001b[38;5;132;01m}\u001b[39;00m\u001b[33m_petqa/best_model\u001b[39m\u001b[33m\"\u001b[39m\n\u001b[32m----> \u001b[39m\u001b[32m5\u001b[39m model = \u001b[43mAutoModelForCausalLM\u001b[49m\u001b[43m.\u001b[49m\u001b[43mfrom_pretrained\u001b[49m\u001b[43m(\u001b[49m\n\u001b[32m      6\u001b[39m \u001b[43m    \u001b[49m\u001b[43mmodel_id\u001b[49m\u001b[43m,\u001b[49m\n\u001b[32m      7\u001b[39m \u001b[43m    \u001b[49m\u001b[43mtrust_remote_code\u001b[49m\u001b[43m=\u001b[49m\u001b[38;5;28;43;01mTrue\u001b[39;49;00m\u001b[43m,\u001b[49m\n\u001b[32m      8\u001b[39m \u001b[43m    \u001b[49m\u001b[43mtorch_dtype\u001b[49m\u001b[43m=\u001b[49m\u001b[43mtorch\u001b[49m\u001b[43m.\u001b[49m\u001b[43mbfloat16\u001b[49m\u001b[43m,\u001b[49m\n\u001b[32m      9\u001b[39m \u001b[43m    \u001b[49m\u001b[43mdevice_map\u001b[49m\u001b[43m=\u001b[49m\u001b[33;43m\"\u001b[39;49m\u001b[33;43mauto\u001b[39;49m\u001b[33;43m\"\u001b[39;49m\n\u001b[32m     10\u001b[39m \u001b[43m)\u001b[49m\n\u001b[32m     11\u001b[39m tokenizer = AutoTokenizer.from_pretrained(\n\u001b[32m     12\u001b[39m     finetuned_path,\n\u001b[32m     13\u001b[39m )\n",
      "\u001b[36mFile \u001b[39m\u001b[32m~/factchecking/miniconda3/envs/vllm/lib/python3.12/site-packages/transformers/models/auto/auto_factory.py:564\u001b[39m, in \u001b[36m_BaseAutoModelClass.from_pretrained\u001b[39m\u001b[34m(cls, pretrained_model_name_or_path, *model_args, **kwargs)\u001b[39m\n\u001b[32m    562\u001b[39m     \u001b[38;5;28mcls\u001b[39m.register(config.\u001b[34m__class__\u001b[39m, model_class, exist_ok=\u001b[38;5;28;01mTrue\u001b[39;00m)\n\u001b[32m    563\u001b[39m     model_class = add_generation_mixin_to_remote_model(model_class)\n\u001b[32m--> \u001b[39m\u001b[32m564\u001b[39m     \u001b[38;5;28;01mreturn\u001b[39;00m \u001b[43mmodel_class\u001b[49m\u001b[43m.\u001b[49m\u001b[43mfrom_pretrained\u001b[49m\u001b[43m(\u001b[49m\n\u001b[32m    565\u001b[39m \u001b[43m        \u001b[49m\u001b[43mpretrained_model_name_or_path\u001b[49m\u001b[43m,\u001b[49m\u001b[43m \u001b[49m\u001b[43m*\u001b[49m\u001b[43mmodel_args\u001b[49m\u001b[43m,\u001b[49m\u001b[43m \u001b[49m\u001b[43mconfig\u001b[49m\u001b[43m=\u001b[49m\u001b[43mconfig\u001b[49m\u001b[43m,\u001b[49m\u001b[43m \u001b[49m\u001b[43m*\u001b[49m\u001b[43m*\u001b[49m\u001b[43mhub_kwargs\u001b[49m\u001b[43m,\u001b[49m\u001b[43m \u001b[49m\u001b[43m*\u001b[49m\u001b[43m*\u001b[49m\u001b[43mkwargs\u001b[49m\n\u001b[32m    566\u001b[39m \u001b[43m    \u001b[49m\u001b[43m)\u001b[49m\n\u001b[32m    567\u001b[39m \u001b[38;5;28;01melif\u001b[39;00m \u001b[38;5;28mtype\u001b[39m(config) \u001b[38;5;129;01min\u001b[39;00m \u001b[38;5;28mcls\u001b[39m._model_mapping.keys():\n\u001b[32m    568\u001b[39m     model_class = _get_model_class(config, \u001b[38;5;28mcls\u001b[39m._model_mapping)\n",
      "\u001b[36mFile \u001b[39m\u001b[32m~/factchecking/miniconda3/envs/vllm/lib/python3.12/site-packages/transformers/modeling_utils.py:309\u001b[39m, in \u001b[36mrestore_default_torch_dtype.<locals>._wrapper\u001b[39m\u001b[34m(*args, **kwargs)\u001b[39m\n\u001b[32m    307\u001b[39m old_dtype = torch.get_default_dtype()\n\u001b[32m    308\u001b[39m \u001b[38;5;28;01mtry\u001b[39;00m:\n\u001b[32m--> \u001b[39m\u001b[32m309\u001b[39m     \u001b[38;5;28;01mreturn\u001b[39;00m \u001b[43mfunc\u001b[49m\u001b[43m(\u001b[49m\u001b[43m*\u001b[49m\u001b[43margs\u001b[49m\u001b[43m,\u001b[49m\u001b[43m \u001b[49m\u001b[43m*\u001b[49m\u001b[43m*\u001b[49m\u001b[43mkwargs\u001b[49m\u001b[43m)\u001b[49m\n\u001b[32m    310\u001b[39m \u001b[38;5;28;01mfinally\u001b[39;00m:\n\u001b[32m    311\u001b[39m     torch.set_default_dtype(old_dtype)\n",
      "\u001b[36mFile \u001b[39m\u001b[32m~/factchecking/miniconda3/envs/vllm/lib/python3.12/site-packages/transformers/modeling_utils.py:4285\u001b[39m, in \u001b[36mPreTrainedModel.from_pretrained\u001b[39m\u001b[34m(cls, pretrained_model_name_or_path, config, cache_dir, ignore_mismatched_sizes, force_download, local_files_only, token, revision, use_safetensors, weights_only, *model_args, **kwargs)\u001b[39m\n\u001b[32m   4283\u001b[39m         \u001b[38;5;28;01mraise\u001b[39;00m \u001b[38;5;167;01mValueError\u001b[39;00m(\u001b[33m\"\u001b[39m\u001b[33mDeepSpeed Zero-3 is not compatible with passing a `device_map`.\u001b[39m\u001b[33m\"\u001b[39m)\n\u001b[32m   4284\u001b[39m     \u001b[38;5;28;01mif\u001b[39;00m \u001b[38;5;129;01mnot\u001b[39;00m is_accelerate_available():\n\u001b[32m-> \u001b[39m\u001b[32m4285\u001b[39m         \u001b[38;5;28;01mraise\u001b[39;00m \u001b[38;5;167;01mValueError\u001b[39;00m(\n\u001b[32m   4286\u001b[39m             (\n\u001b[32m   4287\u001b[39m                 \u001b[33m\"\u001b[39m\u001b[33mUsing a `device_map`, `tp_plan`, `torch.device` context manager or setting `torch.set_default_device(device)` \u001b[39m\u001b[33m\"\u001b[39m\n\u001b[32m   4288\u001b[39m                 \u001b[33m\"\u001b[39m\u001b[33mrequires `accelerate`. You can install it with `pip install accelerate`\u001b[39m\u001b[33m\"\u001b[39m\n\u001b[32m   4289\u001b[39m             )\n\u001b[32m   4290\u001b[39m         )\n\u001b[32m   4292\u001b[39m \u001b[38;5;66;03m# handling bnb config from kwargs, remove after `load_in_{4/8}bit` deprecation.\u001b[39;00m\n\u001b[32m   4293\u001b[39m \u001b[38;5;28;01mif\u001b[39;00m load_in_4bit \u001b[38;5;129;01mor\u001b[39;00m load_in_8bit:\n",
      "\u001b[31mValueError\u001b[39m: Using a `device_map`, `tp_plan`, `torch.device` context manager or setting `torch.set_default_device(device)` requires `accelerate`. You can install it with `pip install accelerate`"
     ]
    }
   ],
   "source": [
    "model_id = \"LGAI-EXAONE/EXAONE-3.5-7.8B-Instruct\"\n",
    "model_name = \"exaone-3.5-7.8b\"\n",
    "finetuned_path = f\"data/outputs/{model_name}_petqa/best_model\"\n",
    "\n",
    "model = AutoModelForCausalLM.from_pretrained(\n",
    "    model_id,\n",
    "    trust_remote_code=True,\n",
    "    torch_dtype=torch.bfloat16,\n",
    "    device_map=\"auto\"\n",
    ")\n",
    "tokenizer = AutoTokenizer.from_pretrained(\n",
    "    model_id,\n",
    ")\n"
   ]
  },
  {
   "cell_type": "code",
   "execution_count": 7,
   "metadata": {},
   "outputs": [
    {
     "data": {
      "text/plain": [
       "device(type='cuda', index=0)"
      ]
     },
     "execution_count": 7,
     "metadata": {},
     "output_type": "execute_result"
    }
   ],
   "source": [
    "model.device"
   ]
  },
  {
   "cell_type": "code",
   "execution_count": 10,
   "metadata": {},
   "outputs": [
    {
     "name": "stdout",
     "output_type": "stream",
     "text": [
      "무릎골탈구 단계는 촉진 검사와 방사선 검사를 통한 종합적인 분석이 필요합니다. 무릎골탈구는 정도에 따라 1기~4기로 구분되며, 일반적으로 1기와 2기는 겉으로 확인하기 어렵고 3기에서는 수술을 추천드립니다. 진행된다면 파행 증상이 심해지고 자세 이상 및 퇴행성 관절염이 동반됩니다. 하루 30분 이상 꾸준한 산책과 체중 조절로 관절을 보호해야 하고 과격한 운동과 점프 같은 행동은 피해야 합니다. 관절 보조제를 통해 최대한 진행을 차단하시기 바랍니다. 주기적으로 병원에서 상황을 체크하시길 권장합니다.\n"
     ]
    }
   ],
   "source": [
    "question = \"강아지가 쓸개골 탈구가 의심됩니다. 앞으로 산책을 꾸준히 하면 탈구가 예방될까요?\"\n",
    "print(generate_answer(model, tokenizer, question))"
   ]
  },
  {
   "cell_type": "code",
   "execution_count": null,
   "metadata": {},
   "outputs": [],
   "source": []
  },
  {
   "cell_type": "code",
   "execution_count": null,
   "metadata": {},
   "outputs": [],
   "source": []
  },
  {
   "cell_type": "code",
   "execution_count": null,
   "metadata": {},
   "outputs": [],
   "source": []
  },
  {
   "cell_type": "code",
   "execution_count": 3,
   "metadata": {},
   "outputs": [],
   "source": [
    "train_dir = \"./data/training\"\n",
    "train_path = os.path.join(train_dir, f\"train.json\")\n",
    "validation_path = os.path.join(train_dir, f\"validation.json\")\n",
    "\n",
    "data_files = {\n",
    "    \"train\": train_path,\n",
    "    \"validation\": validation_path\n",
    "}\n",
    "\n",
    "def load_datasets(data_files):\n",
    "    dataset = load_dataset(\"json\", data_files=data_files)\n",
    "    \n",
    "    train_data = dataset[\"train\"]\n",
    "    validation_data = dataset[\"validation\"]\n",
    "    \n",
    "    return train_data, validation_data"
   ]
  },
  {
   "cell_type": "code",
   "execution_count": null,
   "metadata": {},
   "outputs": [],
   "source": []
  }
 ],
 "metadata": {
  "kernelspec": {
   "display_name": "vllm",
   "language": "python",
   "name": "python3"
  },
  "language_info": {
   "codemirror_mode": {
    "name": "ipython",
    "version": 3
   },
   "file_extension": ".py",
   "mimetype": "text/x-python",
   "name": "python",
   "nbconvert_exporter": "python",
   "pygments_lexer": "ipython3",
   "version": "3.12.9"
  }
 },
 "nbformat": 4,
 "nbformat_minor": 2
}
