{
 "cells": [
  {
   "cell_type": "code",
   "execution_count": 24,
   "id": "ebed81d5-afc2-47c1-9304-21e48609a69e",
   "metadata": {
    "execution": {
     "iopub.execute_input": "2025-06-18T00:43:57.596183Z",
     "iopub.status.busy": "2025-06-18T00:43:57.595719Z",
     "iopub.status.idle": "2025-06-18T00:43:57.604771Z",
     "shell.execute_reply": "2025-06-18T00:43:57.603446Z",
     "shell.execute_reply.started": "2025-06-18T00:43:57.596149Z"
    }
   },
   "outputs": [],
   "source": [
    "import pandas as pd\n",
    "import torch\n",
    "import re\n",
    "from torch.utils.data import Dataset, DataLoader\n",
    "from transformers import (\n",
    "    AutoModel, AutoTokenizer, AutoConfig,\n",
    "    AdamW, get_linear_schedule_with_warmup\n",
    ")\n",
    "from transformers import BertPreTrainedModel, RobertaModel\n",
    "import torch.nn as nn\n",
    "from sklearn.preprocessing import LabelEncoder\n",
    "from tqdm import tqdm\n",
    "import os\n",
    "import json\n",
    "\n",
    "import pandas as pd\n",
    "import json\n",
    "import os\n",
    "import matplotlib.pyplot as plt\n",
    "from matplotlib.ticker import StrMethodFormatter, PercentFormatter\n",
    "import numpy as np\n",
    "\n",
    "plt.rc('font', family='NanumGothicCoding')\n",
    "# Troubleshooting -마이너스가 깨질 경우가 있음. 이 경우 아래 코드 추가\n",
    "import matplotlib as mpl\n",
    "mpl.rcParams['axes.unicode_minus']=False"
   ]
  },
  {
   "cell_type": "code",
   "execution_count": 31,
   "id": "a916edbb-bcb8-4919-a489-e024b01f90cd",
   "metadata": {
    "execution": {
     "iopub.execute_input": "2025-06-18T01:02:51.215250Z",
     "iopub.status.busy": "2025-06-18T01:02:51.214422Z",
     "iopub.status.idle": "2025-06-18T01:03:29.680841Z",
     "shell.execute_reply": "2025-06-18T01:03:29.679646Z",
     "shell.execute_reply.started": "2025-06-18T01:02:51.215191Z"
    }
   },
   "outputs": [
    {
     "name": "stdout",
     "output_type": "stream",
     "text": [
      "train_dog: 6,667개\n",
      "test_dog: 1,668개\n",
      "train_cat: 5,247개\n",
      "test_cat: 1,312개\n",
      "train_neutral: 2,013개\n",
      "test_neutral: 507개\n"
     ]
    }
   ],
   "source": [
    "# 1. 데이터 디렉토리 설정\n",
    "data_folder = './data/preprocessed_data'\n",
    "\n",
    "# 2. JSON 파일 전부 불러와서 딕셔너리에 저장\n",
    "loaded_data = {}\n",
    "for fname in os.listdir(data_folder):\n",
    "    if fname.endswith('.json'):\n",
    "        key = fname[:-5]  # .json 확장자 제거\n",
    "        path = os.path.join(data_folder, fname)\n",
    "        with open(path, 'r', encoding='utf-8') as f:\n",
    "            loaded_data[key] = json.load(f)\n",
    "\n",
    "# 3. 변수로도 언패킹 (선택)\n",
    "train_dog      = loaded_data.get('train_dog', [])\n",
    "test_dog       = loaded_data.get('test_dog', [])\n",
    "train_cat      = loaded_data.get('train_cat', [])\n",
    "test_cat       = loaded_data.get('test_cat', [])\n",
    "train_neutral  = loaded_data.get('train_neutral', [])\n",
    "test_neutral   = loaded_data.get('test_neutral', [])\n",
    "\n",
    "# 4. 확인 출력\n",
    "print(f\"train_dog: {len(train_dog):,}개\")\n",
    "print(f\"test_dog: {len(test_dog):,}개\")\n",
    "print(f\"train_cat: {len(train_cat):,}개\")\n",
    "print(f\"test_cat: {len(test_cat):,}개\")\n",
    "print(f\"train_neutral: {len(train_neutral):,}개\")\n",
    "print(f\"test_neutral: {len(test_neutral):,}개\")"
   ]
  },
  {
   "cell_type": "code",
   "execution_count": 32,
   "id": "8ffd22e8-25db-438f-b34c-0bb5154f61c7",
   "metadata": {
    "execution": {
     "iopub.execute_input": "2025-06-18T01:03:29.682921Z",
     "iopub.status.busy": "2025-06-18T01:03:29.682677Z",
     "iopub.status.idle": "2025-06-18T01:03:29.689094Z",
     "shell.execute_reply": "2025-06-18T01:03:29.687695Z",
     "shell.execute_reply.started": "2025-06-18T01:03:29.682903Z"
    }
   },
   "outputs": [],
   "source": [
    "# import matplotlib.pyplot as plt\n",
    "# from matplotlib.ticker import PercentFormatter\n",
    "\n",
    "# # 1. 데이터셋 딕셔너리\n",
    "# datasets = {\n",
    "#     'train_dog':      train_dog,\n",
    "#     'test_dog':       test_dog,\n",
    "#     'train_cat':      train_cat,\n",
    "#     'test_cat':       test_cat,\n",
    "#     'train_neutral':  train_neutral,\n",
    "#     'test_neutral':   test_neutral,\n",
    "# }\n",
    "\n",
    "# # 2. 사진 존재 여부 계산\n",
    "# total_rows = {}\n",
    "# with_photo = {}\n",
    "# ratios = {}\n",
    "\n",
    "# for name, items in datasets.items():\n",
    "#     total = len(items)\n",
    "#     # 'question_photo' 필드가 있고, ['사진 없음']이 아닌 경우만 카운트\n",
    "#     count = sum(\n",
    "#         1\n",
    "#         for item in items\n",
    "#         if 'question_photo' in item\n",
    "#         and item['question_photo'] != ['사진 없음']\n",
    "#     )\n",
    "#     total_rows[name] = total\n",
    "#     with_photo[name] = count\n",
    "#     ratios[name] = (count / total * 100) if total > 0 else 0\n",
    "\n",
    "# # 3. 결과 출력\n",
    "# for name in datasets:\n",
    "#     t = total_rows[name]\n",
    "#     w = with_photo[name]\n",
    "#     p = ratios[name]\n",
    "#     print(f\"{name}: 사진 있는 데이터 {w:,}/{t:,}개 ({p:.2f}%)\")\n",
    "\n",
    "# # 4. 시각화\n",
    "# names = list(datasets.keys())\n",
    "# counts = [with_photo[n] for n in names]\n",
    "# tots   = [total_rows[n] for n in names]\n",
    "# percs  = [ratios[n] for n in names]\n",
    "\n",
    "# fig, ax = plt.subplots(figsize=(8, 5))\n",
    "# bars = ax.bar(names, percs, color=['tab:blue','tab:blue','tab:orange','tab:orange','tab:green','tab:green'])\n",
    "# ax.set_ylabel('이미지 존재 비율 (%)')\n",
    "# ax.set_title('데이터셋별 이미지 존재 비율')\n",
    "# ax.yaxis.set_major_formatter(PercentFormatter())\n",
    "\n",
    "# # 바 위에 개수/비율 표시\n",
    "# for bar, w, t, p in zip(bars, counts, tots, percs):\n",
    "#     ax.text(\n",
    "#         bar.get_x() + bar.get_width() / 2,\n",
    "#         bar.get_height() + 1,\n",
    "#         f\"{w:,}/{t:,}\\n({p:.1f}%)\",\n",
    "#         ha='center',\n",
    "#         va='bottom',\n",
    "#         fontsize=9\n",
    "#     )\n",
    "\n",
    "# plt.xticks(rotation=45, ha='right')\n",
    "# plt.tight_layout()\n",
    "# plt.show()\n"
   ]
  },
  {
   "cell_type": "code",
   "execution_count": 33,
   "id": "8b29d950-aaa0-435f-b783-f9cc65ff7efe",
   "metadata": {
    "execution": {
     "iopub.execute_input": "2025-06-18T01:03:29.690197Z",
     "iopub.status.busy": "2025-06-18T01:03:29.689958Z",
     "iopub.status.idle": "2025-06-18T01:03:29.699362Z",
     "shell.execute_reply": "2025-06-18T01:03:29.697474Z",
     "shell.execute_reply.started": "2025-06-18T01:03:29.690176Z"
    }
   },
   "outputs": [
    {
     "name": "stdout",
     "output_type": "stream",
     "text": [
      "cuda\n"
     ]
    }
   ],
   "source": [
    "# GPU 설정\n",
    "device = torch.device(\"cuda\" if torch.cuda.is_available() else \"cpu\")\n",
    "\n",
    "print(device)\n",
    "\n",
    "# ----------------------------\n",
    "# 1. 데이터 전처리\n",
    "# ----------------------------\n",
    "def preprocess_text(text):\n",
    "    text = re.sub(r'https?://\\S+|www\\.\\S+', '', str(text))  # 링크 제거\n",
    "    return text.strip()\n",
    "\n",
    "def build_input_text(row):\n",
    "    title = preprocess_text(row['제목'])\n",
    "    question = preprocess_text(row['본문'])\n",
    "    answer = preprocess_text(row['filtered_data_답변'])\n",
    "    return f\"질문: {title} {question} 답변: {answer}\""
   ]
  },
  {
   "cell_type": "code",
   "execution_count": 34,
   "id": "ce03c669-d335-4bcc-a430-734c6fa3676e",
   "metadata": {
    "execution": {
     "iopub.execute_input": "2025-06-18T01:03:29.703169Z",
     "iopub.status.busy": "2025-06-18T01:03:29.701730Z",
     "iopub.status.idle": "2025-06-18T01:03:29.791559Z",
     "shell.execute_reply": "2025-06-18T01:03:29.790327Z",
     "shell.execute_reply.started": "2025-06-18T01:03:29.703109Z"
    }
   },
   "outputs": [],
   "source": [
    "train_set = train_dog + train_cat + train_neutral\n",
    "test_set = test_dog + test_cat + test_neutral\n",
    "\n",
    "# 3) DataFrame 변환\n",
    "train_set = pd.DataFrame(train_set)\n",
    "test_set  = pd.DataFrame(test_set)\n",
    "\n",
    "# 4) 컬럼 순서 지정 (선택)\n",
    "train_set = train_set[['제목', '본문', 'filtered_data_답변', 'label_str', 'label']]\n",
    "test_set  = test_set[['제목', '본문', 'filtered_data_답변', 'label_str', 'label']]"
   ]
  },
  {
   "cell_type": "code",
   "execution_count": 35,
   "id": "98980c06-2a0a-471d-bb1b-22bd6af17706",
   "metadata": {
    "execution": {
     "iopub.execute_input": "2025-06-18T01:03:29.793513Z",
     "iopub.status.busy": "2025-06-18T01:03:29.793249Z",
     "iopub.status.idle": "2025-06-18T01:03:29.806078Z",
     "shell.execute_reply": "2025-06-18T01:03:29.804844Z",
     "shell.execute_reply.started": "2025-06-18T01:03:29.793492Z"
    }
   },
   "outputs": [
    {
     "name": "stdout",
     "output_type": "stream",
     "text": [
      "0\n",
      "0\n"
     ]
    }
   ],
   "source": [
    "print(train_set['filtered_data_답변'].isna().sum())\n",
    "print(test_set['filtered_data_답변'].isna().sum())"
   ]
  },
  {
   "cell_type": "code",
   "execution_count": 36,
   "id": "30469883-b7cb-4a2c-92e2-b0cac7e6ebbb",
   "metadata": {
    "execution": {
     "iopub.execute_input": "2025-06-18T01:03:46.919795Z",
     "iopub.status.busy": "2025-06-18T01:03:46.918878Z",
     "iopub.status.idle": "2025-06-18T01:03:47.268101Z",
     "shell.execute_reply": "2025-06-18T01:03:47.267246Z",
     "shell.execute_reply.started": "2025-06-18T01:03:46.919738Z"
    }
   },
   "outputs": [],
   "source": [
    "import ast\n",
    "\n",
    "# train_set, test_set은 앞에서 만든 데이터라고 가정\n",
    "train_set['input_text'] = train_set.apply(build_input_text, axis=1)\n",
    "test_set['input_text'] = test_set.apply(build_input_text, axis=1)\n",
    "\n",
    "label_encoder = LabelEncoder()\n",
    "train_set['label_id'] = label_encoder.fit_transform(train_set['label_str'])\n",
    "test_set['label_id'] = label_encoder.transform(test_set['label_str'])"
   ]
  },
  {
   "cell_type": "code",
   "execution_count": 37,
   "id": "7fc45358-9ba2-4eac-bc93-5eb78b9e0048",
   "metadata": {
    "execution": {
     "iopub.execute_input": "2025-06-18T01:03:58.953857Z",
     "iopub.status.busy": "2025-06-18T01:03:58.952767Z",
     "iopub.status.idle": "2025-06-18T01:03:58.975930Z",
     "shell.execute_reply": "2025-06-18T01:03:58.974823Z",
     "shell.execute_reply.started": "2025-06-18T01:03:58.953801Z"
    }
   },
   "outputs": [
    {
     "data": {
      "text/html": [
       "<div>\n",
       "<style scoped>\n",
       "    .dataframe tbody tr th:only-of-type {\n",
       "        vertical-align: middle;\n",
       "    }\n",
       "\n",
       "    .dataframe tbody tr th {\n",
       "        vertical-align: top;\n",
       "    }\n",
       "\n",
       "    .dataframe thead th {\n",
       "        text-align: right;\n",
       "    }\n",
       "</style>\n",
       "<table border=\"1\" class=\"dataframe\">\n",
       "  <thead>\n",
       "    <tr style=\"text-align: right;\">\n",
       "      <th></th>\n",
       "      <th>제목</th>\n",
       "      <th>본문</th>\n",
       "      <th>filtered_data_답변</th>\n",
       "      <th>label_str</th>\n",
       "      <th>label</th>\n",
       "      <th>input_text</th>\n",
       "      <th>label_id</th>\n",
       "    </tr>\n",
       "  </thead>\n",
       "  <tbody>\n",
       "    <tr>\n",
       "      <th>0</th>\n",
       "      <td>강아지의 꼬리는 수의근? 불수의근?</td>\n",
       "      <td>강아지는 기분에 따라 꼬리의 움직임이 다르잖아요ㅡ그 움직임은 저절로 나타나는건가요,...</td>\n",
       "      <td>안녕하세요? 질문 감사합니다. 개의 몸에 존재하는 불수의근은 심장근과 내장근 뿐입니...</td>\n",
       "      <td>dog</td>\n",
       "      <td>{'dog': 1, 'cat': 0, 'neutral': 0, 'model': 0}</td>\n",
       "      <td>질문: 강아지의 꼬리는 수의근? 불수의근? 강아지는 기분에 따라 꼬리의 움직임이 다...</td>\n",
       "      <td>1</td>\n",
       "    </tr>\n",
       "    <tr>\n",
       "      <th>1</th>\n",
       "      <td>강아지 젖이 커졌어요</td>\n",
       "      <td>4살 된 암컷 푸들인데 중성화수술을 안시켰거든요근데 아래쪽 젖 두 부분이 커졌어요....</td>\n",
       "      <td>안녕하세요? 중성화 하지 않은 암컷의 경우 발정기때 유선이 부풀어 오를 수 있어요....</td>\n",
       "      <td>dog</td>\n",
       "      <td>{'dog': 1, 'cat': 0, 'neutral': 0, 'model': 0}</td>\n",
       "      <td>질문: 강아지 젖이 커졌어요 4살 된 암컷 푸들인데 중성화수술을 안시켰거든요근데 아...</td>\n",
       "      <td>1</td>\n",
       "    </tr>\n",
       "    <tr>\n",
       "      <th>2</th>\n",
       "      <td>강아지 무기력 / 골반쪽 이상</td>\n",
       "      <td>강아지가 무기력해요가끔 활발해지긴 하는데 맨날 기운없고 자고있고골반.. 오른쪽 뒷다...</td>\n",
       "      <td>안녕하세요? 글쓴님께서 설명하신 내용만으로는 특정 질환을 말씀드리기가 매우 어렵습니...</td>\n",
       "      <td>dog</td>\n",
       "      <td>{'dog': 1, 'cat': 0, 'neutral': 0, 'model': 0}</td>\n",
       "      <td>질문: 강아지 무기력 / 골반쪽 이상 강아지가 무기력해요가끔 활발해지긴 하는데 맨날...</td>\n",
       "      <td>1</td>\n",
       "    </tr>\n",
       "    <tr>\n",
       "      <th>3</th>\n",
       "      <td>강아지 배에서 이상한 소리가나요ㅠㅠㅠㅠㅠ</td>\n",
       "      <td>집에 아무도 없을때 강아지가 화장실에 들어갔는데 화장실에서 뭐했는지는 모르겠지만 대...</td>\n",
       "      <td>안녕하세요? 강아지의 이상증상에 걱정이 많으시죠? 일반적으로 배에서 소리가 나는 경...</td>\n",
       "      <td>dog</td>\n",
       "      <td>{'dog': 1, 'cat': 0, 'neutral': 0, 'model': 0}</td>\n",
       "      <td>질문: 강아지 배에서 이상한 소리가나요ㅠㅠㅠㅠㅠ 집에 아무도 없을때 강아지가 화장실...</td>\n",
       "      <td>1</td>\n",
       "    </tr>\n",
       "    <tr>\n",
       "      <th>4</th>\n",
       "      <td>강아지가 구토 후 식욕이 없습니다.</td>\n",
       "      <td>5살 암컷 강아지구요추정이긴 하지만 금요일 저녁에 식탁 위에 올려놓은 음식을 너무 ...</td>\n",
       "      <td>안녕하세요? 급성 위장염이 의심되는 상황인데 특히 그 중에서 급성 췌장염의 경우 식...</td>\n",
       "      <td>dog</td>\n",
       "      <td>{'dog': 1, 'cat': 0, 'neutral': 0, 'model': 0}</td>\n",
       "      <td>질문: 강아지가 구토 후 식욕이 없습니다. 5살 암컷 강아지구요추정이긴 하지만 금요...</td>\n",
       "      <td>1</td>\n",
       "    </tr>\n",
       "  </tbody>\n",
       "</table>\n",
       "</div>"
      ],
      "text/plain": [
       "                       제목                                                 본문  \\\n",
       "0     강아지의 꼬리는 수의근? 불수의근?  강아지는 기분에 따라 꼬리의 움직임이 다르잖아요ㅡ그 움직임은 저절로 나타나는건가요,...   \n",
       "1             강아지 젖이 커졌어요  4살 된 암컷 푸들인데 중성화수술을 안시켰거든요근데 아래쪽 젖 두 부분이 커졌어요....   \n",
       "2        강아지 무기력 / 골반쪽 이상  강아지가 무기력해요가끔 활발해지긴 하는데 맨날 기운없고 자고있고골반.. 오른쪽 뒷다...   \n",
       "3  강아지 배에서 이상한 소리가나요ㅠㅠㅠㅠㅠ  집에 아무도 없을때 강아지가 화장실에 들어갔는데 화장실에서 뭐했는지는 모르겠지만 대...   \n",
       "4     강아지가 구토 후 식욕이 없습니다.  5살 암컷 강아지구요추정이긴 하지만 금요일 저녁에 식탁 위에 올려놓은 음식을 너무 ...   \n",
       "\n",
       "                                    filtered_data_답변 label_str  \\\n",
       "0  안녕하세요? 질문 감사합니다. 개의 몸에 존재하는 불수의근은 심장근과 내장근 뿐입니...       dog   \n",
       "1  안녕하세요? 중성화 하지 않은 암컷의 경우 발정기때 유선이 부풀어 오를 수 있어요....       dog   \n",
       "2  안녕하세요? 글쓴님께서 설명하신 내용만으로는 특정 질환을 말씀드리기가 매우 어렵습니...       dog   \n",
       "3  안녕하세요? 강아지의 이상증상에 걱정이 많으시죠? 일반적으로 배에서 소리가 나는 경...       dog   \n",
       "4  안녕하세요? 급성 위장염이 의심되는 상황인데 특히 그 중에서 급성 췌장염의 경우 식...       dog   \n",
       "\n",
       "                                            label  \\\n",
       "0  {'dog': 1, 'cat': 0, 'neutral': 0, 'model': 0}   \n",
       "1  {'dog': 1, 'cat': 0, 'neutral': 0, 'model': 0}   \n",
       "2  {'dog': 1, 'cat': 0, 'neutral': 0, 'model': 0}   \n",
       "3  {'dog': 1, 'cat': 0, 'neutral': 0, 'model': 0}   \n",
       "4  {'dog': 1, 'cat': 0, 'neutral': 0, 'model': 0}   \n",
       "\n",
       "                                          input_text  label_id  \n",
       "0  질문: 강아지의 꼬리는 수의근? 불수의근? 강아지는 기분에 따라 꼬리의 움직임이 다...         1  \n",
       "1  질문: 강아지 젖이 커졌어요 4살 된 암컷 푸들인데 중성화수술을 안시켰거든요근데 아...         1  \n",
       "2  질문: 강아지 무기력 / 골반쪽 이상 강아지가 무기력해요가끔 활발해지긴 하는데 맨날...         1  \n",
       "3  질문: 강아지 배에서 이상한 소리가나요ㅠㅠㅠㅠㅠ 집에 아무도 없을때 강아지가 화장실...         1  \n",
       "4  질문: 강아지가 구토 후 식욕이 없습니다. 5살 암컷 강아지구요추정이긴 하지만 금요...         1  "
      ]
     },
     "execution_count": 37,
     "metadata": {},
     "output_type": "execute_result"
    }
   ],
   "source": [
    "train_set.head()"
   ]
  },
  {
   "cell_type": "code",
   "execution_count": 39,
   "id": "88ff427f-95f7-4672-922d-05d97f845c1f",
   "metadata": {
    "execution": {
     "iopub.execute_input": "2025-06-18T01:04:31.635907Z",
     "iopub.status.busy": "2025-06-18T01:04:31.635130Z",
     "iopub.status.idle": "2025-06-18T01:04:31.654619Z",
     "shell.execute_reply": "2025-06-18T01:04:31.653199Z",
     "shell.execute_reply.started": "2025-06-18T01:04:31.635848Z"
    }
   },
   "outputs": [],
   "source": [
    "# ----------------------------\n",
    "# 2. Dataset 클래스\n",
    "# ----------------------------\n",
    "class TextClassificationDataset(Dataset):\n",
    "    def __init__(self, texts, labels, tokenizer, max_len=512):\n",
    "        self.texts = texts\n",
    "        self.labels = labels\n",
    "\n",
    "        # 한 번에 배치 토크나이징\n",
    "        encodings = tokenizer(\n",
    "            texts,\n",
    "            truncation=True,\n",
    "            padding='max_length',\n",
    "            max_length=max_len,\n",
    "        )\n",
    "        self.input_ids = encodings['input_ids']\n",
    "        self.attention_mask = encodings['attention_mask']\n",
    "\n",
    "    def __len__(self):\n",
    "        return len(self.labels)\n",
    "\n",
    "    def __getitem__(self, idx):\n",
    "        return {\n",
    "            'input_ids':      torch.tensor(self.input_ids[idx],      dtype=torch.long),\n",
    "            'attention_mask': torch.tensor(self.attention_mask[idx], dtype=torch.long),\n",
    "            'labels':         torch.tensor(self.labels[idx],         dtype=torch.long),\n",
    "            'text':           self.texts[idx]\n",
    "        }\n",
    "\n",
    "\n",
    "\n",
    "# ----------------------------\n",
    "# 3. 모델 정의 (KLUE-RoBERTa + 분류기)\n",
    "# ----------------------------\n",
    "class RobertaForClassification(nn.Module):\n",
    "    def __init__(self, model_name, num_labels):\n",
    "        super().__init__()\n",
    "        self.roberta = AutoModel.from_pretrained(model_name)\n",
    "        self.dropout = nn.Dropout(0.1)\n",
    "        self.classifier = nn.Linear(self.roberta.config.hidden_size, num_labels)\n",
    "    \n",
    "    def forward(self, input_ids, attention_mask, labels=None):\n",
    "        outputs = self.roberta(input_ids=input_ids, attention_mask=attention_mask)\n",
    "        pooled_output = outputs.last_hidden_state[:, 0]  # [CLS] 토큰\n",
    "        logits = self.classifier(self.dropout(pooled_output))\n",
    "        \n",
    "        loss = None\n",
    "        if labels is not None:\n",
    "            loss_fn = nn.CrossEntropyLoss()\n",
    "            loss = loss_fn(logits, labels)\n",
    "        \n",
    "        return {'loss': loss, 'logits': logits}\n",
    "\n",
    "\n"
   ]
  },
  {
   "cell_type": "code",
   "execution_count": 46,
   "id": "1d76338b-c3c7-4815-8f04-ea41c810b4c8",
   "metadata": {
    "execution": {
     "iopub.execute_input": "2025-06-18T01:06:59.068088Z",
     "iopub.status.busy": "2025-06-18T01:06:59.067345Z",
     "iopub.status.idle": "2025-06-18T01:07:05.516944Z",
     "shell.execute_reply": "2025-06-18T01:07:05.515890Z",
     "shell.execute_reply.started": "2025-06-18T01:06:59.068037Z"
    }
   },
   "outputs": [
    {
     "name": "stderr",
     "output_type": "stream",
     "text": [
      "Some weights of RobertaModel were not initialized from the model checkpoint at klue/roberta-base and are newly initialized: ['roberta.pooler.dense.bias', 'roberta.pooler.dense.weight']\n",
      "You should probably TRAIN this model on a down-stream task to be able to use it for predictions and inference.\n"
     ]
    }
   ],
   "source": [
    "\n",
    "\n",
    "# ----------------------------\n",
    "# 4. 설정\n",
    "# ----------------------------\n",
    "model_name = \"klue/roberta-base\"\n",
    "tokenizer = AutoTokenizer.from_pretrained(model_name)\n",
    "num_labels = len(label_encoder.classes_)\n",
    "\n",
    "train_dataset = TextClassificationDataset(train_set['input_text'].tolist(), train_set['label_id'].tolist(), tokenizer)\n",
    "test_dataset = TextClassificationDataset(test_set['input_text'].tolist(), test_set['label_id'].tolist(), tokenizer)\n",
    "\n",
    "train_loader = DataLoader(train_dataset, batch_size=10, shuffle=True)\n",
    "test_loader = DataLoader(test_dataset, batch_size=10)\n",
    "\n",
    "model = RobertaForClassification(model_name, num_labels).to(device)"
   ]
  },
  {
   "cell_type": "code",
   "execution_count": 47,
   "id": "5b940346-0ac6-4b99-82e1-a7c89cadf2ce",
   "metadata": {
    "execution": {
     "iopub.execute_input": "2025-06-18T01:08:10.182370Z",
     "iopub.status.busy": "2025-06-18T01:08:10.181677Z",
     "iopub.status.idle": "2025-06-18T02:23:29.032627Z",
     "shell.execute_reply": "2025-06-18T02:23:29.031596Z",
     "shell.execute_reply.started": "2025-06-18T01:08:10.182328Z"
    },
    "scrolled": true
   },
   "outputs": [
    {
     "name": "stderr",
     "output_type": "stream",
     "text": [
      "Epoch 1: 100%|██████████| 1393/1393 [05:32<00:00,  4.19it/s]\n"
     ]
    },
    {
     "name": "stdout",
     "output_type": "stream",
     "text": [
      "\n",
      "📘 Epoch 1\n",
      "Train Loss: 0.2572 | Acc: 0.9844 | Precision: 0.9841 | Recall: 0.9693 | F1: 0.9763\n",
      " Test Loss: 0.0698 | Acc: 0.9814 | Precision: 0.9780 | Recall: 0.9683 | F1: 0.9729\n"
     ]
    },
    {
     "name": "stderr",
     "output_type": "stream",
     "text": [
      "Epoch 2: 100%|██████████| 1393/1393 [05:23<00:00,  4.31it/s]\n"
     ]
    },
    {
     "name": "stdout",
     "output_type": "stream",
     "text": [
      "\n",
      "📘 Epoch 2\n",
      "Train Loss: 0.0760 | Acc: 0.9843 | Precision: 0.9795 | Recall: 0.9733 | F1: 0.9763\n",
      " Test Loss: 0.0777 | Acc: 0.9796 | Precision: 0.9743 | Recall: 0.9664 | F1: 0.9702\n"
     ]
    },
    {
     "name": "stderr",
     "output_type": "stream",
     "text": [
      "Epoch 3: 100%|██████████| 1393/1393 [05:23<00:00,  4.31it/s]\n"
     ]
    },
    {
     "name": "stdout",
     "output_type": "stream",
     "text": [
      "\n",
      "📘 Epoch 3\n",
      "Train Loss: 0.0706 | Acc: 0.9820 | Precision: 0.9853 | Recall: 0.9651 | F1: 0.9743\n",
      " Test Loss: 0.0998 | Acc: 0.9753 | Precision: 0.9761 | Recall: 0.9548 | F1: 0.9645\n"
     ]
    },
    {
     "name": "stderr",
     "output_type": "stream",
     "text": [
      "Epoch 4: 100%|██████████| 1393/1393 [05:17<00:00,  4.39it/s]\n"
     ]
    },
    {
     "name": "stdout",
     "output_type": "stream",
     "text": [
      "\n",
      "📘 Epoch 4\n",
      "Train Loss: 0.0654 | Acc: 0.9916 | Precision: 0.9923 | Recall: 0.9832 | F1: 0.9876\n",
      " Test Loss: 0.0861 | Acc: 0.9808 | Precision: 0.9766 | Recall: 0.9671 | F1: 0.9717\n"
     ]
    },
    {
     "name": "stderr",
     "output_type": "stream",
     "text": [
      "Epoch 5: 100%|██████████| 1393/1393 [05:16<00:00,  4.41it/s]\n"
     ]
    },
    {
     "name": "stdout",
     "output_type": "stream",
     "text": [
      "\n",
      "📘 Epoch 5\n",
      "Train Loss: 0.0642 | Acc: 0.9897 | Precision: 0.9849 | Recall: 0.9860 | F1: 0.9854\n",
      " Test Loss: 0.0980 | Acc: 0.9751 | Precision: 0.9594 | Recall: 0.9694 | F1: 0.9642\n"
     ]
    },
    {
     "name": "stderr",
     "output_type": "stream",
     "text": [
      "Epoch 6: 100%|██████████| 1393/1393 [05:33<00:00,  4.17it/s]\n"
     ]
    },
    {
     "name": "stdout",
     "output_type": "stream",
     "text": [
      "\n",
      "📘 Epoch 6\n",
      "Train Loss: 0.0598 | Acc: 0.9848 | Precision: 0.9745 | Recall: 0.9818 | F1: 0.9779\n",
      " Test Loss: 0.1387 | Acc: 0.9662 | Precision: 0.9460 | Recall: 0.9593 | F1: 0.9519\n"
     ]
    },
    {
     "name": "stderr",
     "output_type": "stream",
     "text": [
      "Epoch 7: 100%|██████████| 1393/1393 [05:32<00:00,  4.19it/s]\n"
     ]
    },
    {
     "name": "stdout",
     "output_type": "stream",
     "text": [
      "\n",
      "📘 Epoch 7\n",
      "Train Loss: 0.0670 | Acc: 0.9947 | Precision: 0.9931 | Recall: 0.9917 | F1: 0.9924\n",
      " Test Loss: 0.1041 | Acc: 0.9776 | Precision: 0.9691 | Recall: 0.9682 | F1: 0.9686\n"
     ]
    },
    {
     "name": "stderr",
     "output_type": "stream",
     "text": [
      "Epoch 8: 100%|██████████| 1393/1393 [05:29<00:00,  4.23it/s]\n"
     ]
    },
    {
     "name": "stdout",
     "output_type": "stream",
     "text": [
      "\n",
      "📘 Epoch 8\n",
      "Train Loss: 0.0360 | Acc: 0.9911 | Precision: 0.9914 | Recall: 0.9849 | F1: 0.9880\n",
      " Test Loss: 0.0898 | Acc: 0.9762 | Precision: 0.9746 | Recall: 0.9584 | F1: 0.9658\n"
     ]
    },
    {
     "name": "stderr",
     "output_type": "stream",
     "text": [
      "Epoch 9: 100%|██████████| 1393/1393 [05:23<00:00,  4.30it/s]\n"
     ]
    },
    {
     "name": "stdout",
     "output_type": "stream",
     "text": [
      "\n",
      "📘 Epoch 9\n",
      "Train Loss: 0.0204 | Acc: 0.9976 | Precision: 0.9976 | Recall: 0.9957 | F1: 0.9967\n",
      " Test Loss: 0.1028 | Acc: 0.9788 | Precision: 0.9710 | Recall: 0.9686 | F1: 0.9698\n"
     ]
    },
    {
     "name": "stderr",
     "output_type": "stream",
     "text": [
      "Epoch 10: 100%|██████████| 1393/1393 [05:24<00:00,  4.29it/s]\n"
     ]
    },
    {
     "name": "stdout",
     "output_type": "stream",
     "text": [
      "\n",
      "📘 Epoch 10\n",
      "Train Loss: 0.0121 | Acc: 0.9986 | Precision: 0.9990 | Recall: 0.9973 | F1: 0.9981\n",
      " Test Loss: 0.0921 | Acc: 0.9811 | Precision: 0.9751 | Recall: 0.9713 | F1: 0.9732\n"
     ]
    }
   ],
   "source": [
    "# ----------------------------\n",
    "# 5. Optimizer, Scheduler\n",
    "# ----------------------------\n",
    "epochs = 10\n",
    "total_steps = len(train_loader) * epochs\n",
    "warmup_steps = int(total_steps * 0.6)\n",
    "\n",
    "optimizer = AdamW(model.parameters(), lr=5e-5, weight_decay=0.01)\n",
    "scheduler = get_linear_schedule_with_warmup(optimizer, num_warmup_steps=warmup_steps, num_training_steps=total_steps)\n",
    "\n",
    "from sklearn.metrics import accuracy_score, precision_score, recall_score, f1_score\n",
    "import matplotlib.pyplot as plt\n",
    "\n",
    "# 결과 기록용\n",
    "train_losses, test_losses = [], []\n",
    "train_metrics, test_metrics = [], []\n",
    "\n",
    "# 최고 성능을 기록하기 위한 변수\n",
    "best_f1 = 0\n",
    "best_model_state = None\n",
    "best_test_eval = None\n",
    "best_misclassified = None\n",
    "\n",
    "def evaluate(model, dataloader):\n",
    "    model.eval()\n",
    "    preds_all, labels_all, texts_all = [], [], []\n",
    "    total_loss = 0\n",
    "\n",
    "    with torch.no_grad():\n",
    "        for batch in dataloader:\n",
    "            input_ids = batch['input_ids'].to(device)\n",
    "            attention_mask = batch['attention_mask'].to(device)\n",
    "            labels = batch['labels'].to(device)\n",
    "            texts = batch['text']  # 원본 텍스트\n",
    "\n",
    "            outputs = model(input_ids=input_ids, attention_mask=attention_mask, labels=labels)\n",
    "            logits = outputs['logits']\n",
    "            loss = outputs['loss']\n",
    "            total_loss += loss.item()\n",
    "\n",
    "            preds = torch.argmax(logits, dim=1)\n",
    "            preds_all.extend(preds.cpu().numpy())\n",
    "            labels_all.extend(labels.cpu().numpy())\n",
    "            texts_all.extend(texts)\n",
    "    \n",
    "    # 평가 지표 계산\n",
    "    acc = accuracy_score(labels_all, preds_all)\n",
    "    prec = precision_score(labels_all, preds_all, average='macro', zero_division=0)\n",
    "    rec = recall_score(labels_all, preds_all, average='macro', zero_division=0)\n",
    "    f1 = f1_score(labels_all, preds_all, average='macro', zero_division=0)\n",
    "    avg_loss = total_loss / len(dataloader)\n",
    "\n",
    "    # 틀린 데이터 수집 (원본 텍스트, true label, 예측 label)\n",
    "    misclassified = []\n",
    "    for pred, label, text in zip(preds_all, labels_all, texts_all):\n",
    "        if pred != label:\n",
    "            misclassified.append({\n",
    "                'text': text,\n",
    "                'true_label': label,\n",
    "                'pred_label': pred\n",
    "            })\n",
    "    \n",
    "    return {\n",
    "        'loss': avg_loss,\n",
    "        'acc': acc,\n",
    "        'precision': prec,\n",
    "        'recall': rec,\n",
    "        'f1': f1,\n",
    "        'misclassified': misclassified\n",
    "    }\n",
    "\n",
    "# ----------------------------\n",
    "# 6. 학습 루프\n",
    "# ----------------------------\n",
    "for epoch in range(epochs):\n",
    "    model.train()\n",
    "    total_loss = 0\n",
    "\n",
    "    for batch in tqdm(train_loader, desc=f\"Epoch {epoch+1}\"):\n",
    "        input_ids = batch['input_ids'].to(device)\n",
    "        attention_mask = batch['attention_mask'].to(device)\n",
    "        labels = batch['labels'].to(device)\n",
    "\n",
    "        optimizer.zero_grad()\n",
    "        outputs = model(input_ids=input_ids, attention_mask=attention_mask, labels=labels)\n",
    "        loss = outputs['loss']\n",
    "        loss.backward()\n",
    "        optimizer.step()\n",
    "        scheduler.step()\n",
    "\n",
    "        total_loss += loss.item()\n",
    "\n",
    "    avg_train_loss = total_loss / len(train_loader)\n",
    "    train_losses.append(avg_train_loss)\n",
    "\n",
    "    # 평가\n",
    "    train_eval = evaluate(model, train_loader)\n",
    "    test_eval = evaluate(model, test_loader)\n",
    "\n",
    "    train_metrics.append(train_eval)\n",
    "    test_metrics.append(test_eval)\n",
    "    test_losses.append(test_eval['loss'])\n",
    "\n",
    "    print(f\"\\n📘 Epoch {epoch+1}\")\n",
    "    print(f\"Train Loss: {avg_train_loss:.4f} | Acc: {train_eval['acc']:.4f} | Precision: {train_eval['precision']:.4f} | Recall: {train_eval['recall']:.4f} | F1: {train_eval['f1']:.4f}\")\n",
    "    print(f\" Test Loss: {test_eval['loss']:.4f} | Acc: {test_eval['acc']:.4f} | Precision: {test_eval['precision']:.4f} | Recall: {test_eval['recall']:.4f} | F1: {test_eval['f1']:.4f}\")\n",
    "\n",
    "    # 최고 모델 업데이트: (F1 점수를 기준으로)\n",
    "    if test_eval['f1'] > best_f1:\n",
    "        best_f1 = test_eval['f1']\n",
    "        best_model_state = model.state_dict()  # 최고 성능 모델 파라미터 저장\n",
    "        best_test_eval = test_eval\n",
    "        best_misclassified = test_eval['misclassified']\n",
    "\n",
    "torch.save(best_model_state, \"./klue_roberta_base_best_model.pt\")\n",
    "\n",
    "# 필요에 따라 최고 성능 모델의 파라미터를 저장할 수 있습니다.\n"
   ]
  },
  {
   "cell_type": "code",
   "execution_count": null,
   "id": "7110dfb9-c751-4fcd-af86-3ad6ec87bf4f",
   "metadata": {},
   "outputs": [],
   "source": [
    "# ----------------------------\n",
    "# 7. 학습 종료 후 최고 모델의 misclassified 데이터 출력\n",
    "# ----------------------------\n",
    "print(\"\\n*** 학습 종료 후 최고 모델 결과 ***\")\n",
    "print(f\"최고 Test F1: {best_f1:.4f}\")\n",
    "print(\"최고 모델에서 틀린 데이터 (원본 텍스트, True Label, Predicted Label):\")\n",
    "for idx, sample in enumerate(best_misclassified, 1):\n",
    "    # 원래 label 명칭으로 변환\n",
    "    true_label_str = label_encoder.inverse_transform([sample['true_label']])[0]\n",
    "    pred_label_str = label_encoder.inverse_transform([sample['pred_label']])[0]\n",
    "    print(f\"{idx}. 텍스트: {sample['text']}\")\n",
    "    print(f\"   True Label: {true_label_str}, Predicted Label: {pred_label_str}\")\n",
    "\n",
    "# ----------------------------\n",
    "# 8. 시각화 - Learning Curve\n",
    "# ----------------------------\n",
    "plt.figure(figsize=(8,5))\n",
    "plt.plot(range(1, epochs + 1), train_losses, label='Train Loss')\n",
    "plt.plot(range(1, epochs + 1), test_losses, label='Test Loss')\n",
    "plt.xlabel('Epoch')\n",
    "plt.ylabel('Loss')\n",
    "plt.title('Learning Curve')\n",
    "plt.legend()\n",
    "plt.grid(True)\n",
    "plt.tight_layout()\n",
    "plt.show()"
   ]
  },
  {
   "cell_type": "code",
   "execution_count": null,
   "id": "e500c92a-f2f5-4469-bac6-f17c8f689166",
   "metadata": {},
   "outputs": [],
   "source": [
    "from sklearn.metrics import confusion_matrix, ConfusionMatrixDisplay\n",
    "import matplotlib.pyplot as plt\n",
    "import torch\n",
    "\n",
    "# 1. 최고 성능 모델 로드\n",
    "model.load_state_dict(best_model_state)\n",
    "model.to(device)\n",
    "model.eval()\n",
    "\n",
    "# 2. 테스트셋에서 예측 및 레이블 수집\n",
    "best_preds = []\n",
    "best_labels = []\n",
    "\n",
    "with torch.no_grad():\n",
    "    for batch in test_loader:\n",
    "        input_ids = batch['input_ids'].to(device)\n",
    "        attention_mask = batch['attention_mask'].to(device)\n",
    "        labels = batch['labels'].to(device)\n",
    "\n",
    "        outputs = model(input_ids=input_ids, attention_mask=attention_mask)\n",
    "        logits = outputs['logits']           # dict 반환이므로 key로 접근\n",
    "        preds = torch.argmax(logits, dim=1)\n",
    "\n",
    "        best_preds.extend(preds.cpu().numpy())\n",
    "        best_labels.extend(labels.cpu().numpy())\n",
    "\n",
    "# 3. Confusion Matrix 계산 및 시각화\n",
    "label_names = label_encoder.classes_\n",
    "cm = confusion_matrix(best_labels, best_preds)\n",
    "disp = ConfusionMatrixDisplay(confusion_matrix=cm, display_labels=label_names)\n",
    "\n",
    "# print(f\"\\n📊 Best Epoch: {best_epoch} (Test F1: {best_f1:.4f})\")\n",
    "fig, ax = plt.subplots(figsize=(6, 6))\n",
    "disp.plot(cmap='Blues', ax=ax, xticks_rotation=45)\n",
    "plt.title(\"Confusion Matrix at Best Epoch\")\n",
    "plt.tight_layout()\n",
    "plt.show()"
   ]
  },
  {
   "cell_type": "code",
   "execution_count": 57,
   "id": "a3e3e0a9-ca4c-4841-b99b-97954f9372af",
   "metadata": {
    "execution": {
     "iopub.execute_input": "2025-06-18T02:37:11.396843Z",
     "iopub.status.busy": "2025-06-18T02:37:11.395731Z",
     "iopub.status.idle": "2025-06-18T02:37:42.375660Z",
     "shell.execute_reply": "2025-06-18T02:37:42.374684Z",
     "shell.execute_reply.started": "2025-06-18T02:37:11.396789Z"
    }
   },
   "outputs": [
    {
     "name": "stdout",
     "output_type": "stream",
     "text": [
      "none_label_expert: 13,278개\n",
      "none_label_ordinary: 35,204개\n"
     ]
    }
   ],
   "source": [
    "# 1. 데이터 디렉토리 설정\n",
    "data_folder = './data/preprocessed_data'\n",
    "\n",
    "# 2. JSON 파일 전부 불러와서 딕셔너리에 저장\n",
    "loaded_data = {}\n",
    "for fname in os.listdir(data_folder):\n",
    "    if fname.endswith('.json'):\n",
    "        key = fname[:-5]  # .json 확장자 제거\n",
    "        path = os.path.join(data_folder, fname)\n",
    "        with open(path, 'r', encoding='utf-8') as f:\n",
    "            loaded_data[key] = json.load(f)\n",
    "\n",
    "# 3. 변수로도 언패킹 (선택)\n",
    "none_label_expert      = loaded_data.get('none_label_expert', [])\n",
    "none_label_ordinary       = loaded_data.get('none_label_ordinary', [])\n",
    "\n",
    "# 4. 확인 출력\n",
    "print(f\"none_label_expert: {len(none_label_expert):,}개\")\n",
    "print(f\"none_label_ordinary: {len(none_label_ordinary):,}개\")"
   ]
  },
  {
   "cell_type": "code",
   "execution_count": 58,
   "id": "42ece7b1-1cc4-4a01-a104-1c8504112239",
   "metadata": {
    "execution": {
     "iopub.execute_input": "2025-06-18T02:37:42.376847Z",
     "iopub.status.busy": "2025-06-18T02:37:42.376659Z",
     "iopub.status.idle": "2025-06-18T02:37:42.455993Z",
     "shell.execute_reply": "2025-06-18T02:37:42.455033Z",
     "shell.execute_reply.started": "2025-06-18T02:37:42.376831Z"
    }
   },
   "outputs": [],
   "source": [
    "# 3) DataFrame 변환\n",
    "none_label_expert = pd.DataFrame(none_label_expert)\n",
    "none_label_ordinary  = pd.DataFrame(none_label_ordinary)\n",
    "\n",
    "# 4) 컬럼 순서 지정 (선택)\n",
    "# none_label_expert = none_label_expert[['제목', '본문', 'filtered_data_답변', 'label', 'label_str']]\n",
    "# none_label_ordinary  = none_label_ordinary[['제목', '본문', 'filtered_data_답변', 'label', 'label_str']]"
   ]
  },
  {
   "cell_type": "code",
   "execution_count": 15,
   "id": "96eef836-cec6-4e3f-9b17-eeed4a1b3c98",
   "metadata": {
    "execution": {
     "iopub.execute_input": "2025-06-11T02:09:14.634513Z",
     "iopub.status.busy": "2025-06-11T02:09:14.633844Z",
     "iopub.status.idle": "2025-06-11T02:09:14.642533Z",
     "shell.execute_reply": "2025-06-11T02:09:14.641381Z",
     "shell.execute_reply.started": "2025-06-11T02:09:14.634490Z"
    }
   },
   "outputs": [],
   "source": [
    "# class TextClassificationDataset(Dataset):\n",
    "#     def __init__(self, texts, labels, tokenizer, max_len=256):\n",
    "#         self.texts = texts\n",
    "#         self.labels = labels\n",
    "#         self.tokenizer = tokenizer\n",
    "#         self.max_len = max_len\n",
    "    \n",
    "#     def __len__(self):\n",
    "#         return len(self.texts)\n",
    "    \n",
    "#     def __getitem__(self, idx):\n",
    "#         text = self.texts[idx]\n",
    "#         label = self.labels[idx]\n",
    "        \n",
    "#         encoding = self.tokenizer(\n",
    "#             text,\n",
    "#             truncation=True,\n",
    "#             padding='max_length',\n",
    "#             max_length=self.max_len,\n",
    "#             return_tensors='pt'\n",
    "#         )\n",
    "        \n",
    "#         return {\n",
    "#             'input_ids': encoding['input_ids'].squeeze(),\n",
    "#             'attention_mask': encoding['attention_mask'].squeeze(),\n",
    "#             'labels': torch.tensor(label, dtype=torch.long),\n",
    "#             'text': text   # 원본 텍스트 추가\n",
    "#         }"
   ]
  },
  {
   "cell_type": "code",
   "execution_count": 61,
   "id": "8e33474c-e0d3-4893-b92a-1e583ff3bdef",
   "metadata": {
    "execution": {
     "iopub.execute_input": "2025-06-18T02:39:35.592175Z",
     "iopub.status.busy": "2025-06-18T02:39:35.591058Z",
     "iopub.status.idle": "2025-06-18T02:39:40.308273Z",
     "shell.execute_reply": "2025-06-18T02:39:40.307290Z",
     "shell.execute_reply.started": "2025-06-18T02:39:35.592122Z"
    }
   },
   "outputs": [],
   "source": [
    "# train_set, test_set은 앞에서 만든 데이터라고 가정\n",
    "none_label_expert['input_text'] = none_label_expert.apply(build_input_text, axis=1)\n",
    "none_label_ordinary['input_text'] = none_label_ordinary.apply(build_input_text, axis=1)\n",
    "\n",
    "none_label_expert_dataset = TextClassificationDataset(none_label_expert['input_text'].tolist(), [0]*len(none_label_expert), tokenizer)\n",
    "none_label_ordinary_dataset = TextClassificationDataset(none_label_ordinary['input_text'].tolist(), [0]*len(none_label_ordinary), tokenizer)\n",
    "\n",
    "none_label_expert_loader = DataLoader(none_label_expert_dataset, batch_size=100)\n",
    "none_label_ordinary_loader = DataLoader(none_label_ordinary_dataset, batch_size=100)"
   ]
  },
  {
   "cell_type": "code",
   "execution_count": 56,
   "id": "ddcdf5f2-94df-4abd-bf5b-031862652d75",
   "metadata": {
    "execution": {
     "iopub.execute_input": "2025-06-18T02:29:29.172488Z",
     "iopub.status.busy": "2025-06-18T02:29:29.172285Z",
     "iopub.status.idle": "2025-06-18T02:34:48.745413Z",
     "shell.execute_reply": "2025-06-18T02:34:48.744460Z",
     "shell.execute_reply.started": "2025-06-18T02:29:29.172471Z"
    }
   },
   "outputs": [],
   "source": [
    "from torch.utils.data import DataLoader\n",
    "import numpy as np\n",
    "import torch.nn.functional as F\n",
    "from scipy.stats import entropy\n",
    "\n",
    "def compute_entropy(prob):\n",
    "    return entropy(prob, base=2)\n",
    "\n",
    "\n",
    "# 1. DataLoader 생성 (두 데이터셋 모두 배치 사이즈 10으로 설정)\n",
    "# none_label_expert_loader = DataLoader(none_labed_med_expert_dataset, batch_size=1000, shuffle=True)\n",
    "# none_label_ordinary_loader = DataLoader(none_labed_med_ordinary_dataset, batch_size=1000)\n",
    "\n",
    "# 2. 예측 결과 수집 함수 정의 (출력 시 label 인코더를 사용하여 실제 라벨 복원)\n",
    "def get_predictions(model, dataloader):\n",
    "    model.load_state_dict(torch.load(\"./klue_roberta_base_best_model.pt\"))\n",
    "    model.to(device)\n",
    "    model.eval()\n",
    "    preds = []\n",
    "    pred_labels = []\n",
    "    texts = []\n",
    "    probabilities = []\n",
    "\n",
    "    with torch.no_grad():\n",
    "        for batch in dataloader:\n",
    "            input_ids = batch['input_ids'].to(device)\n",
    "            attention_mask = batch['attention_mask'].to(device)\n",
    "            outputs = model(input_ids=input_ids, attention_mask=attention_mask)\n",
    "            logits = outputs['logits']  # shape: (batch_size, num_classes)\n",
    "\n",
    "            probs = F.softmax(logits, dim=1).cpu().numpy()  # 확률로 변환\n",
    "            batch_preds = probs.argmax(axis=1)  # 가장 높은 확률을 가진 클래스 index\n",
    "\n",
    "            preds.extend(batch_preds)\n",
    "            texts.extend(batch['text'])\n",
    "\n",
    "            batch_pred_labels = label_encoder.inverse_transform(batch_preds)\n",
    "            pred_labels.extend(batch_pred_labels)\n",
    "            probabilities.extend(probs)  # 전체 확률 벡터 저장\n",
    "\n",
    "    return preds, pred_labels, texts, probabilities\n",
    "\n",
    "# 3. 모델 예측 수행 (최고 성능 모델 파라미터가 모델에 이미 로드된 상태라고 가정)\n",
    "expert_preds, expert_pred_labels, expert_texts, expert_probs = get_predictions(model, none_label_expert_loader)\n",
    "ordinary_preds, ordinary_pred_labels, ordinary_texts, ordinary_probs = get_predictions(model, none_label_ordinary_loader)"
   ]
  },
  {
   "cell_type": "code",
   "execution_count": 66,
   "id": "a7bcf19d-a180-45f8-80bf-fe661caaa967",
   "metadata": {
    "execution": {
     "iopub.execute_input": "2025-06-18T02:42:20.143749Z",
     "iopub.status.busy": "2025-06-18T02:42:20.142389Z",
     "iopub.status.idle": "2025-06-18T02:42:20.154840Z",
     "shell.execute_reply": "2025-06-18T02:42:20.153183Z",
     "shell.execute_reply.started": "2025-06-18T02:42:20.143669Z"
    }
   },
   "outputs": [
    {
     "data": {
      "text/plain": [
       "['cat', 'dog', 'cat']"
      ]
     },
     "execution_count": 66,
     "metadata": {},
     "output_type": "execute_result"
    }
   ],
   "source": [
    "expert_pred_labels[:3]"
   ]
  },
  {
   "cell_type": "code",
   "execution_count": 67,
   "id": "6442e2b1-18ec-47ad-910e-c89e0b623e63",
   "metadata": {
    "execution": {
     "iopub.execute_input": "2025-06-18T02:44:33.027400Z",
     "iopub.status.busy": "2025-06-18T02:44:33.026649Z",
     "iopub.status.idle": "2025-06-18T02:44:45.650973Z",
     "shell.execute_reply": "2025-06-18T02:44:45.649951Z",
     "shell.execute_reply.started": "2025-06-18T02:44:33.027348Z"
    }
   },
   "outputs": [],
   "source": [
    "def update_items_with_predictions(items, pred_labels, probabilities):\n",
    "    updated_items = []\n",
    "    for item, label, prob in zip(items, pred_labels, probabilities):\n",
    "        # 기존 label dict 유지하면서 수정\n",
    "        label_dict = {\"dog\": 0, \"cat\": 0, \"neutral\": 0, \"model\": 1, \"probability\": [float(p) for p in prob], \"entropy\": float(compute_entropy(prob))}\n",
    "        if label in label_dict:\n",
    "            label_dict[label] = 1\n",
    "\n",
    "        # 확률 및 엔트로피 저장\n",
    "        item['label'] = label_dict\n",
    "        # item['probability'] = [float(p) for p in prob]  # numpy → list of float\n",
    "        # item['entropy'] = float(compute_entropy(prob))  # float 변환\n",
    "        updated_items.append(item)\n",
    "    return updated_items\n",
    "\n",
    "# none_label_expert와 ordinary에 대해 예측 반영\n",
    "updated_expert_items = update_items_with_predictions(none_label_expert.to_dict(orient='records'),\n",
    "                                                     expert_pred_labels, expert_probs)\n",
    "\n",
    "updated_ordinary_items = update_items_with_predictions(none_label_ordinary.to_dict(orient='records'),\n",
    "                                                       ordinary_pred_labels, ordinary_probs)\n"
   ]
  },
  {
   "cell_type": "code",
   "execution_count": 71,
   "id": "92318164-5373-4cd6-9a01-2d8efd6ed173",
   "metadata": {
    "execution": {
     "iopub.execute_input": "2025-06-18T02:54:25.214282Z",
     "iopub.status.busy": "2025-06-18T02:54:25.213176Z",
     "iopub.status.idle": "2025-06-18T02:54:25.259361Z",
     "shell.execute_reply": "2025-06-18T02:54:25.258465Z",
     "shell.execute_reply.started": "2025-06-18T02:54:25.214230Z"
    }
   },
   "outputs": [],
   "source": [
    "for item in updated_expert_items:\n",
    "    if item['label']['dog'] == 1: item['label_str'] = 'dog'\n",
    "    if item['label']['cat'] == 1: item['label_str'] = 'cat'\n",
    "    if item['label']['neutral'] == 1: item['label_str'] = 'neutral'\n",
    "\n",
    "for item in updated_ordinary_items:\n",
    "    if item['label']['dog'] == 1: item['label_str'] = 'dog'\n",
    "    if item['label']['cat'] == 1: item['label_str'] = 'cat'\n",
    "    if item['label']['neutral'] == 1: item['label_str'] = 'neutral'"
   ]
  },
  {
   "cell_type": "code",
   "execution_count": 75,
   "id": "546809c3-3fdd-442e-b462-aa8811e6ce48",
   "metadata": {
    "execution": {
     "iopub.execute_input": "2025-06-18T02:56:57.335009Z",
     "iopub.status.busy": "2025-06-18T02:56:57.334242Z",
     "iopub.status.idle": "2025-06-18T02:56:57.352415Z",
     "shell.execute_reply": "2025-06-18T02:56:57.350990Z",
     "shell.execute_reply.started": "2025-06-18T02:56:57.334958Z"
    }
   },
   "outputs": [
    {
     "name": "stdout",
     "output_type": "stream",
     "text": [
      "480\n"
     ]
    }
   ],
   "source": [
    "count = 0\n",
    "\n",
    "for item in updated_expert_items:\n",
    "    if item['label']['neutral'] == 1: count += 1\n",
    "\n",
    "print(count)"
   ]
  },
  {
   "cell_type": "code",
   "execution_count": 76,
   "id": "cf37a3c8-1bab-4f3f-b3b9-66da3986872e",
   "metadata": {
    "execution": {
     "iopub.execute_input": "2025-06-18T02:57:11.032334Z",
     "iopub.status.busy": "2025-06-18T02:57:11.031246Z",
     "iopub.status.idle": "2025-06-18T02:57:11.053558Z",
     "shell.execute_reply": "2025-06-18T02:57:11.052391Z",
     "shell.execute_reply.started": "2025-06-18T02:57:11.032281Z"
    }
   },
   "outputs": [
    {
     "name": "stdout",
     "output_type": "stream",
     "text": [
      "871\n"
     ]
    }
   ],
   "source": [
    "count = 0\n",
    "\n",
    "for item in updated_ordinary_items:\n",
    "    if item['label']['neutral'] == 1: count += 1\n",
    "\n",
    "print(count)"
   ]
  },
  {
   "cell_type": "code",
   "execution_count": 77,
   "id": "58f58b14-925f-456d-a2d3-8a18ef4e2383",
   "metadata": {
    "execution": {
     "iopub.execute_input": "2025-06-18T02:58:14.779188Z",
     "iopub.status.busy": "2025-06-18T02:58:14.778436Z",
     "iopub.status.idle": "2025-06-18T02:58:19.243489Z",
     "shell.execute_reply": "2025-06-18T02:58:19.242494Z",
     "shell.execute_reply.started": "2025-06-18T02:58:14.779137Z"
    }
   },
   "outputs": [],
   "source": [
    "# 저장할 경로\n",
    "output_folder = './data/preprocessed_data'\n",
    "os.makedirs(output_folder, exist_ok=True)\n",
    "\n",
    "# 저장\n",
    "with open(os.path.join(output_folder, 'clf_labeled_expert.json'), 'w', encoding='utf-8') as f:\n",
    "    json.dump(updated_expert_items, f, ensure_ascii=False, indent=2)\n",
    "\n",
    "with open(os.path.join(output_folder, 'clf_labeled_ordinary.json'), 'w', encoding='utf-8') as f:\n",
    "    json.dump(updated_ordinary_items, f, ensure_ascii=False, indent=2)"
   ]
  },
  {
   "cell_type": "code",
   "execution_count": null,
   "id": "54bca984-5011-43a0-a289-38b13e26e193",
   "metadata": {},
   "outputs": [],
   "source": [
    "print(\"=== Expert Dataset Predictions ===\")\n",
    "for idx, (text, pred_label, prob) in enumerate(zip(expert_texts, expert_pred_labels, expert_probs), start=1):\n",
    "    ent = compute_entropy(prob)\n",
    "    print(f\"{idx}. 텍스트: {text}\")\n",
    "    print(f\"   예측 라벨: {pred_label}\")\n",
    "    print(f\"   확률 분포: {np.round(prob, 3)}\")  # 소수점 3자리까지 출력\n",
    "    print(f\"   엔트로피: {ent:.4f}\")\n",
    "\n",
    "print(\"\\n=== Ordinary Dataset Predictions ===\")\n",
    "for idx, (text, pred_label, prob) in enumerate(zip(ordinary_texts, ordinary_pred_labels, ordinary_probs), start=1):\n",
    "    ent = compute_entropy(prob)\n",
    "    print(f\"{idx}. 텍스트: {text}\")\n",
    "    print(f\"   예측 라벨: {pred_label}\")\n",
    "    print(f\"   확률 분포: {np.round(prob, 3)}\")\n",
    "    print(f\"   엔트로피: {ent:.4f}\")"
   ]
  },
  {
   "cell_type": "code",
   "execution_count": 54,
   "id": "539c87a6-dfea-4bc4-bc28-9aac931de455",
   "metadata": {
    "execution": {
     "iopub.execute_input": "2025-06-11T01:41:20.117756Z",
     "iopub.status.busy": "2025-06-11T01:41:20.117230Z",
     "iopub.status.idle": "2025-06-11T01:41:38.846137Z",
     "shell.execute_reply": "2025-06-11T01:41:38.844951Z",
     "shell.execute_reply.started": "2025-06-11T01:41:20.117724Z"
    }
   },
   "outputs": [],
   "source": [
    "import matplotlib.pyplot as plt\n",
    "\n",
    "# 예시로서 expert_probs와 ordinary_probs에 대해 엔트로피 계산\n",
    "expert_entropies = [compute_entropy(prob) for prob in expert_probs]\n",
    "ordinary_entropies = [compute_entropy(prob) for prob in ordinary_probs]"
   ]
  },
  {
   "cell_type": "code",
   "execution_count": null,
   "id": "d31d0280-5c18-4f39-96e5-667824e2b489",
   "metadata": {
    "execution": {
     "execution_failed": "2025-06-11T01:59:15.147Z"
    }
   },
   "outputs": [],
   "source": [
    "len(expert_entropies)"
   ]
  },
  {
   "cell_type": "code",
   "execution_count": null,
   "id": "7b7b3931-984f-4534-88c4-9594f4555d08",
   "metadata": {
    "execution": {
     "execution_failed": "2025-06-11T01:59:15.148Z"
    }
   },
   "outputs": [],
   "source": [
    "len(ordinary_entropies)"
   ]
  },
  {
   "cell_type": "code",
   "execution_count": null,
   "id": "82dc3d40-9174-47b5-ad2a-81175b3b6dee",
   "metadata": {},
   "outputs": [],
   "source": [
    "# 공통 bin 경계 계산 (Freedman-Diaconis 규칙)\n",
    "import numpy as np\n",
    "from scipy.stats import iqr\n",
    "import matplotlib.pyplot as plt\n",
    "\n",
    "data_all = np.concatenate([expert_entropies, ordinary_entropies])\n",
    "bin_width = 2 * iqr(data_all) / (len(data_all) ** (1/3))\n",
    "bins = np.arange(data_all.min(), data_all.max() + bin_width, bin_width)\n",
    "\n",
    "plt.figure(figsize=(10,5))\n",
    "plt.hist(\n",
    "    expert_entropies,\n",
    "    bins=bins,\n",
    "    histtype='step',\n",
    "    linewidth=2,\n",
    "    label='Expert',\n",
    "    color='tab:blue',\n",
    "    alpha=0.9\n",
    ")\n",
    "plt.hist(\n",
    "    ordinary_entropies,\n",
    "    bins=bins,\n",
    "    histtype='step',\n",
    "    linewidth=2,\n",
    "    label='Ordinary',\n",
    "    color='tab:orange',\n",
    "    alpha=0.6\n",
    ")\n",
    "plt.xlabel('Entropy (bits)')\n",
    "plt.ylabel('Count')\n",
    "plt.title('Entropy Distribution')\n",
    "plt.legend()\n",
    "plt.grid(True)\n",
    "plt.tight_layout()\n",
    "plt.show()"
   ]
  },
  {
   "cell_type": "code",
   "execution_count": null,
   "id": "ab197d87-4eb3-42fa-9b77-a2db6668020b",
   "metadata": {
    "execution": {
     "execution_failed": "2025-06-11T01:59:15.147Z"
    }
   },
   "outputs": [],
   "source": [
    "# 공통 bin 경계 계산 (Freedman-Diaconis 규칙)\n",
    "import numpy as np\n",
    "from scipy.stats import iqr\n",
    "import matplotlib.pyplot as plt\n",
    "\n",
    "data_all = np.concatenate([expert_entropies, ordinary_entropies])\n",
    "bin_width = 2 * iqr(data_all) / (len(data_all) ** (1/3))\n",
    "bins = np.arange(data_all.min(), data_all.max() + bin_width, bin_width)\n",
    "\n",
    "plt.figure(figsize=(10,5))\n",
    "plt.hist(\n",
    "    expert_entropies,\n",
    "    bins=bins,\n",
    "    histtype='step',\n",
    "    linewidth=2,\n",
    "    label='Expert',\n",
    "    color='tab:blue',\n",
    "    alpha=0.6\n",
    ")\n",
    "plt.hist(\n",
    "    ordinary_entropies,\n",
    "    bins=bins,\n",
    "    histtype='step',\n",
    "    linewidth=2,\n",
    "    label='Ordinary',\n",
    "    color='tab:orange',\n",
    "    alpha=0.6\n",
    ")\n",
    "plt.xlabel('Entropy (bits)')\n",
    "plt.ylabel('Count')\n",
    "plt.title('Entropy Distribution (common bins, log scale y-axis)')\n",
    "plt.yscale('log')\n",
    "plt.legend()\n",
    "plt.grid(True, which='both', axis='y')\n",
    "plt.tight_layout()\n",
    "plt.show()\n"
   ]
  },
  {
   "cell_type": "code",
   "execution_count": 56,
   "id": "36b88c89-1bfa-40a5-8d74-b88b6bb711b6",
   "metadata": {
    "execution": {
     "iopub.execute_input": "2025-06-11T01:41:40.837849Z",
     "iopub.status.busy": "2025-06-11T01:41:40.837579Z",
     "iopub.status.idle": "2025-06-11T01:41:40.875937Z",
     "shell.execute_reply": "2025-06-11T01:41:40.875035Z",
     "shell.execute_reply.started": "2025-06-11T01:41:40.837824Z"
    }
   },
   "outputs": [
    {
     "name": "stdout",
     "output_type": "stream",
     "text": [
      "▶ Expert Entropy Stats\n",
      "  Count         : 21379\n",
      "  Mean          : 0.0207\n",
      "  Std Dev       : 0.0971\n",
      "  Min           : 0.0032\n",
      "  25th Percentile (Q1): 0.0040\n",
      "  Median (Q2)   : 0.0046\n",
      "  75th Percentile (Q3): 0.0059\n",
      "  Max           : 1.4583\n",
      "\n",
      "▶ Ordinary Entropy Stats\n",
      "  Count         : 53425\n",
      "  Mean          : 0.0315\n",
      "  Std Dev       : 0.1367\n",
      "  Min           : 0.0032\n",
      "  25th Percentile (Q1): 0.0044\n",
      "  Median (Q2)   : 0.0057\n",
      "  75th Percentile (Q3): 0.0065\n",
      "  Max           : 1.5791\n",
      "\n"
     ]
    }
   ],
   "source": [
    "def print_entropy_stats(name, entropies):\n",
    "    print(f\"▶ {name} Entropy Stats\")\n",
    "    print(f\"  Count         : {len(entropies)}\")\n",
    "    print(f\"  Mean          : {np.mean(entropies):.4f}\")\n",
    "    print(f\"  Std Dev       : {np.std(entropies):.4f}\")\n",
    "    print(f\"  Min           : {np.min(entropies):.4f}\")\n",
    "    print(f\"  25th Percentile (Q1): {np.percentile(entropies, 25):.4f}\")\n",
    "    print(f\"  Median (Q2)   : {np.median(entropies):.4f}\")\n",
    "    print(f\"  75th Percentile (Q3): {np.percentile(entropies, 75):.4f}\")\n",
    "    print(f\"  Max           : {np.max(entropies):.4f}\")\n",
    "    print()\n",
    "\n",
    "# 출력 실행\n",
    "print_entropy_stats(\"Expert\", expert_entropies)\n",
    "print_entropy_stats(\"Ordinary\", ordinary_entropies)\n"
   ]
  },
  {
   "cell_type": "code",
   "execution_count": 60,
   "id": "299001d6-262c-4ae7-88f8-9d844eba6729",
   "metadata": {
    "execution": {
     "iopub.execute_input": "2025-06-11T01:45:17.086659Z",
     "iopub.status.busy": "2025-06-11T01:45:17.085375Z",
     "iopub.status.idle": "2025-06-11T01:45:17.117333Z",
     "shell.execute_reply": "2025-06-11T01:45:17.115823Z",
     "shell.execute_reply.started": "2025-06-11T01:45:17.086606Z"
    }
   },
   "outputs": [
    {
     "name": "stdout",
     "output_type": "stream",
     "text": [
      "Expert: 75th percentile 이하 샘플 수 = 16034\n",
      "Ordinary: 75th percentile 이하 샘플 수 = 40069\n"
     ]
    }
   ],
   "source": [
    "    q75_expert = np.percentile(expert_entropies, 75)\n",
    "    count_expert_q75 = np.sum(expert_entropies <= q75_expert)\n",
    "    \n",
    "    q75_ordinary = np.percentile(ordinary_entropies, 75)\n",
    "    count_ordinary_q75 = np.sum(ordinary_entropies <= q75_ordinary)\n",
    "    \n",
    "    print(f\"Expert: 75th percentile 이하 샘플 수 = {count_expert_q75}\")\n",
    "    print(f\"Ordinary: 75th percentile 이하 샘플 수 = {count_ordinary_q75}\")\n"
   ]
  }
 ],
 "metadata": {
  "kernelspec": {
   "display_name": "torch2.3.0-py3.11-cuda12.1",
   "language": "python",
   "name": "torch2.3.0-py3.11-cuda12.1"
  },
  "language_info": {
   "codemirror_mode": {
    "name": "ipython",
    "version": 3
   },
   "file_extension": ".py",
   "mimetype": "text/x-python",
   "name": "python",
   "nbconvert_exporter": "python",
   "pygments_lexer": "ipython3",
   "version": "3.11.0rc1"
  }
 },
 "nbformat": 4,
 "nbformat_minor": 5
}
